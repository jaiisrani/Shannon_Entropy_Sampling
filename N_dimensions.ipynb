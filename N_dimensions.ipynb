{
  "nbformat": 4,
  "nbformat_minor": 0,
  "metadata": {
    "colab": {
      "name": "N dimensions.ipynb",
      "provenance": [],
      "collapsed_sections": [
        "z3KCqRO6YQtm",
        "xB5VrJR1YMAz",
        "2bHUD2W4Y1xw"
      ]
    },
    "kernelspec": {
      "name": "python3",
      "display_name": "Python 3"
    },
    "language_info": {
      "name": "python"
    }
  },
  "cells": [
    {
      "cell_type": "markdown",
      "source": [
        "# Creating regular grid"
      ],
      "metadata": {
        "id": "SfvybW5JxpRN"
      }
    },
    {
      "cell_type": "markdown",
      "source": [
        "## Part 1 - Extracting a 1d grid from files"
      ],
      "metadata": {
        "id": "z3KCqRO6YQtm"
      }
    },
    {
      "cell_type": "markdown",
      "source": [
        "Finding the number of dimensions (D) being considered in Nicole.inp"
      ],
      "metadata": {
        "id": "4KUExgiaZ3VY"
      }
    },
    {
      "cell_type": "code",
      "source": [
        "# %cd .../From-Nicole/3D/0.012 # go inside the directory that is named by the SVR cutoff \n",
        "                               # choosing SVR cutoff = 0.012 here\n",
        "%cd /content/drive/MyDrive/3D_files/\n",
        "\n",
        "def find_D(inputFile): # inputFile will take in Nicole.inp\n",
        "  inputInfo = open(inputFile, 'r').readlines() # 'r' stands for read # This command will make \n",
        "                                          # a list of strings where each string is a \n",
        "                                          # particular line in inputFile\n",
        "  firstline = inputInfo[0].strip() # extracts first line and removes \\n\n",
        "  D = firstline.split()[0] # Making a list of each element of first line\n",
        "                           # and extracting the  first element of this list\n",
        "  return int(D)"
      ],
      "metadata": {
        "id": "ieIHiVftYPtk",
        "colab": {
          "base_uri": "https://localhost:8080/"
        },
        "outputId": "df35b822-d3da-4426-8526-418a1b781717"
      },
      "execution_count": null,
      "outputs": [
        {
          "output_type": "stream",
          "name": "stdout",
          "text": [
            "/content/drive/MyDrive/3D_files\n"
          ]
        }
      ]
    },
    {
      "cell_type": "code",
      "source": [
        "print(\"Here we are dealing with a \" + str(find_D(\"Nicole.inp\")) + \" dimensional problem\")"
      ],
      "metadata": {
        "colab": {
          "base_uri": "https://localhost:8080/"
        },
        "id": "TIzpHyka4nJx",
        "outputId": "ffc81005-f4e0-468c-ff05-954a910e93b5"
      },
      "execution_count": null,
      "outputs": [
        {
          "output_type": "stream",
          "name": "stdout",
          "text": [
            "Here we are dealing with a 3 dimensional problem\n"
          ]
        }
      ]
    },
    {
      "cell_type": "markdown",
      "source": [
        "For each 1D grid (labelled by indices $i_1, i_2, ...i_{N-1}$ at most) we will have to extract the $(i_1, i_2, ...i_{N-1})$ th element(s) from each of fort.$10x$, fort.$20x$, fort.$30\\underline{N-1}$ files $∀ x$ "
      ],
      "metadata": {
        "id": "0qK5o5Paa3uM"
      }
    },
    {
      "cell_type": "code",
      "source": [
        "import numpy as np\n",
        "\n",
        "def element_from_10x(xInFort10x, indices_list): # xInFort10x is the value of x in fort.10x data file (also, they are 2d arrays).\n",
        "                                                # So we get the file name by doing \"fort.10\" + str(xInFort10x).\n",
        "                                                # xInFort10x would go from 1 to D-1\n",
        "                                                # indices_list contains the list of hidden indices\n",
        "  if xInFort10x == 1: # fort.101 is for a 2d tensor\n",
        "    i_1 = indices_list[0] # Index of the first 2d tensor\n",
        "    \n",
        "    element = np.loadtxt(\"fort.101\")[:, i_1]\n",
        "  else: # fort.10x is for a 3d tensor\n",
        "    # The indices corresponding to this tensor will be i_(xInFort10x-1), i_(xInFort10x)\n",
        "    i_xInFort10xMinus1 = indices_list[xInFort10x - 2] # -2 since indexing in a list starts with zero\n",
        "    i_xInFort10x = indices_list[xInFort10x - 1] # -1 since indexing in a list starts with zero\n",
        "\n",
        "    num = int( np.loadtxt(\"fort.20\"+str(xInFort10x - 1)).shape[0] ) # Number of different values that i_xInFort10xMinus1 can take\n",
        "    start = int (i_xInFort10xMinus1 * \n",
        "                 (np.loadtxt(\"fort.10\" + str(xInFort10x)).shape[0]) / num )\n",
        "    stop = int( (i_xInFort10xMinus1 + 1) *\n",
        "               (np.loadtxt(\"fort.10\" + str(xInFort10x)).shape[0]) / num )\n",
        "    element = np.loadtxt(\"fort.10\" + str(xInFort10x))[start:stop, i_xInFort10x]\n",
        "  return element\n",
        "\n",
        "def element_from_20x(xInFort20x, indices_list): # xInFort20x is the value of x in fort.20x data file (also, they are 1d arrays)\n",
        "                                                # So we get the file name by doing \"fort.20\" + str(xInFort20x)\n",
        "                                                # xInFort20x would go from 1 to D-1.\n",
        "                                                # indices_list contains the list of hidden indices\n",
        "  # We must extract the yth element from fort.20x where y = xInFort20x-th element from indices_list\n",
        "  # since all fort.20x files are labelled by one index only\n",
        "  y = indices_list[xInFort20x-1] # -1 since indexing in a list starts with zero\n",
        "  \n",
        "  element = np.loadtxt(\"fort.20\" + str(xInFort20x))[y]\n",
        "  return element\n",
        "\n",
        "def element_from_30Dminus1(indices_list): # fort.30(D-1) is a 2d array for a 2d tensor\n",
        "                                          # indices_list contains the list of hidden indices\n",
        "                                          # D is the total number of dimensions being considered\n",
        "  i_Nminus1 = indices_list[-1] # Index of the last 2d tensor\n",
        "  \n",
        "  D = find_D(\"Nicole.inp\")\n",
        "  element = np.loadtxt(\"fort.30\" + str(D-1))[i_Nminus1, :]\n",
        "  return element"
      ],
      "metadata": {
        "id": "QKHH2_RVZ7Xa"
      },
      "execution_count": null,
      "outputs": []
    },
    {
      "cell_type": "code",
      "source": [
        "import matplotlib.pyplot as plt\n",
        "\n",
        "plt.plot(np.arange(element_from_10x(1, [2, 3]).shape[0]), element_from_10x(1, [2, 3]))\n",
        "#print(element_from_20x(2, [2, 0]))\n",
        "#print(element_from_30Dminus1([2,3]))"
      ],
      "metadata": {
        "colab": {
          "base_uri": "https://localhost:8080/",
          "height": 281
        },
        "id": "FI3eImEb8NHg",
        "outputId": "55215f78-1fb1-4418-e604-eccc8cf916ff"
      },
      "execution_count": null,
      "outputs": [
        {
          "output_type": "execute_result",
          "data": {
            "text/plain": [
              "[<matplotlib.lines.Line2D at 0x7f69e1b3f990>]"
            ]
          },
          "metadata": {},
          "execution_count": 8
        },
        {
          "output_type": "display_data",
          "data": {
            "text/plain": [
              "<Figure size 432x288 with 1 Axes>"
            ],
            "image/png": "[encoded data removed]"
          },
          "metadata": {
            "needs_background": "light"
          }
        }
      ]
    },
    {
      "cell_type": "markdown",
      "source": [
        "## Part 1.33 - creating a 1D grid using 1D weights"
      ],
      "metadata": {
        "id": "yV9g5sazYwSq"
      }
    },
    {
      "cell_type": "code",
      "source": [
        "import numpy as np\n",
        "from sklearn.cluster import KMeans\n",
        "\n",
        "def create_dim1_grid(dim1_weights, num_clusters_1d): # dim1_array would take in the 1d weights\n",
        "                                                     # num_clusters_1d would be determined by subroutine which would have\n",
        "                                                     # used the singular values tensor for this determining.\n",
        "  \n",
        "  len_grid = dim1_weights.shape[0] # the grid will have points, equal in number to weights, spaced by 1 unit\n",
        "  unclustered_grid = np.arange(len_grid)\n",
        "  unclustered_grid = np.reshape(unclustered_grid, (len_grid, 1))\n",
        "  #dim1_array = np.reshape(dim1_weights, (len_grid, 1)) # don't do this since weights must be 1d array in KMeans\n",
        "\n",
        "  kmeans_dim1 = KMeans( n_clusters=num_clusters_1d, \n",
        "                       tol=1e-12 ).fit( unclustered_grid, sample_weight=dim1_weights )\n",
        "  return kmeans_dim1.cluster_centers_"
      ],
      "metadata": {
        "id": "my7pOWjGY9TQ"
      },
      "execution_count": null,
      "outputs": []
    },
    {
      "cell_type": "code",
      "source": [
        "weights = element_from_10x(1, [2, 3]) # We will get the weights from Part 1\n",
        "                                         # Now we need to determine number of clusters, which cannot be arbitrary\n",
        "print(create_dim1_grid(dim1_weights=weights, num_clusters_1d=5))"
      ],
      "metadata": {
        "colab": {
          "base_uri": "https://localhost:8080/"
        },
        "id": "bGA1RJb6vBei",
        "outputId": "32492ef1-9d66-4811-bd87-77f74f2797d4"
      },
      "execution_count": null,
      "outputs": [
        {
          "output_type": "stream",
          "name": "stdout",
          "text": [
            "[[24.09566402]\n",
            " [17.98412827]\n",
            " [12.77832884]\n",
            " [56.89650407]\n",
            " [-6.00782172]]\n"
          ]
        }
      ]
    },
    {
      "cell_type": "code",
      "source": [
        "'''using fort.801 (product singular values) to determine number of sample points for each grid.\n",
        "fort.801 has a particular ordering. Then take n-th root of the element'''"
      ],
      "metadata": {
        "id": "yuIV9E-TzEJg",
        "colab": {
          "base_uri": "https://localhost:8080/",
          "height": 50
        },
        "outputId": "92a44a2d-ba11-4d4a-da60-3cf4885728ad"
      },
      "execution_count": null,
      "outputs": [
        {
          "output_type": "execute_result",
          "data": {
            "text/plain": [
              "'using fort.801 (product singular values) to determine number of sample points for each grid.\\nfort.801 has a particular ordering. Then take n-th root of the element'"
            ],
            "application/vnd.google.colaboratory.intrinsic+json": {
              "type": "string"
            }
          },
          "metadata": {},
          "execution_count": 11
        }
      ]
    },
    {
      "cell_type": "code",
      "source": [
        "# The user will give total number of points in direct product grid\n",
        "num_clusters_total = 150\n",
        "\n",
        "def findNumClusters1d(indices_list, num_clusters_total=num_clusters_total): # to find the number of cluster points in 1d array\n",
        "            # Every index in first two columns of fort.801 is one more than what I have used \n",
        "            # since I have started indices from zero and they from one\n",
        "\n",
        "  # Code for extracting product singular value from normaized fort.801 taking as input indices_list\n",
        "  file_801 = np.loadtxt(\"fort.801\")\n",
        "  \n",
        "  num_combinations = file_801.shape[0] # number of rows in fort.801\n",
        "  D = find_D(\"Nicole.inp\")\n",
        "  for comb in range(num_combinations):\n",
        "    if list(file_801[comb, 0:D-1] - 1) == indices_list: # cols 0 to D-2 will contain values of hidden variables.\n",
        "                                              # There is a -1 because indices in fort.801 start from 1 whereas I start them from 0\n",
        "      PSV = float(file_801[comb, -1]) # This is the product singular value\n",
        "  # Using this PSV\n",
        "  num_clusters_layer = PSV * num_clusters_total # Number of clusters in this particular layer\n",
        "  num_clusters_1d = int(num_clusters_layer ** (1./D)) # Dth root of number of clusters in that entire layer\n",
        "  return num_clusters_1d"
      ],
      "metadata": {
        "id": "5njmLX1wT2Vj"
      },
      "execution_count": null,
      "outputs": []
    },
    {
      "cell_type": "code",
      "source": [
        "# Now I can create any 1 dimensional grid\n",
        "create_dim1_grid(dim1_weights=element_from_30Dminus1([2, 0]), num_clusters_1d=findNumClusters1d([2, 0]))"
      ],
      "metadata": {
        "colab": {
          "base_uri": "https://localhost:8080/"
        },
        "id": "g7iAS_vAQQF6",
        "outputId": "fd3c6d6e-7f9e-42ab-d1de-d17804aee26f"
      },
      "execution_count": null,
      "outputs": [
        {
          "output_type": "execute_result",
          "data": {
            "text/plain": [
              "array([[51.2926042 ],\n",
              "       [-6.75824413],\n",
              "       [14.7638235 ],\n",
              "       [40.57296641]])"
            ]
          },
          "metadata": {},
          "execution_count": 13
        }
      ]
    },
    {
      "cell_type": "markdown",
      "source": [
        "## Part 1.67 - Constructing a particlular layer. In case of N Dimensional sampling function, each layer is defined by N-1 parameters. eg: In case of 3D, each layer is defined by (i, j)"
      ],
      "metadata": {
        "id": "xB5VrJR1YMAz"
      }
    },
    {
      "cell_type": "code",
      "source": [
        "# create a function that stacks all 1d arrays of a particular layer side-by-side\n",
        "def StackLayerComponents(indices_list): # since each layer is defined by N-1 indices\n",
        "  num_clusters_1d = findNumClusters1d(indices_list=indices_list) # Number of dimensions in 1d arrays\n",
        "  \n",
        "  D = find_D(\"Nicole.inp\")\n",
        "  All_1dGrids = np.zeros((num_clusters_1d, D)) # num_clusters_1d rows and D columns: each column is a 1d grid\n",
        "\n",
        "  for xInFort10x in range(1, D): # fort.101 to fort.10(D-1)\n",
        "    weights = element_from_10x( xInFort10x=xInFort10x, indices_list=indices_list )\n",
        "    grid_1d = create_dim1_grid(dim1_weights=weights, num_clusters_1d=num_clusters_1d)\n",
        "    All_1dGrids[:, xInFort10x-1] = grid_1d.flatten() # Can use .flatten() or ravel() to convert 2d array \n",
        "                                                     # to 1d (just suppressing one dimension here)\n",
        "\n",
        "  weights = element_from_30Dminus1(indices_list)\n",
        "  grid_1d = create_dim1_grid(dim1_weights=weights, num_clusters_1d=num_clusters_1d)\n",
        "  All_1dGrids[:, D-1] = grid_1d.flatten() # Can use .flatten() or ravel() to convert 2d array \n",
        "                                          # to 1d (just suppressing one dimension here)\n",
        "  return All_1dGrids"
      ],
      "metadata": {
        "id": "H8jH5N-4YMW-"
      },
      "execution_count": null,
      "outputs": []
    },
    {
      "cell_type": "code",
      "source": [
        "StackLayerComponents([2, 0])[:, 2]\n",
        "# (StackLayerComponents([0, 3])).shape\n",
        "# using this cell you can note that all All_1d grdis have D columns \n",
        "# because each summation term in TN decomposition has D terms. \n",
        "\n",
        "# Also note that every 1d grid has same number of clustered points"
      ],
      "metadata": {
        "colab": {
          "base_uri": "https://localhost:8080/"
        },
        "id": "uNf8oYJPrqa-",
        "outputId": "4afa2364-6d55-4932-e2f3-850772537c44"
      },
      "execution_count": null,
      "outputs": [
        {
          "output_type": "stream",
          "name": "stderr",
          "text": [
            "/usr/local/lib/python3.7/dist-packages/ipykernel_launcher.py:14: ConvergenceWarning: Number of distinct clusters (3) found smaller than n_clusters (4). Possibly due to duplicate points in X.\n",
            "  \n"
          ]
        },
        {
          "output_type": "execute_result",
          "data": {
            "text/plain": [
              "array([40.57296641, -6.75824413, 51.2926042 , 14.7638235 ])"
            ]
          },
          "metadata": {},
          "execution_count": 15
        }
      ]
    },
    {
      "cell_type": "code",
      "source": [
        "def create_layer(indices_list):\n",
        "  layer_points = [] # This list will contain the final coordinates of points in the layer\n",
        "\n",
        "  All_1dGrids = StackLayerComponents(indices_list=indices_list)\n",
        "  \n",
        "  # Since we want to use itertools.product, we must convert arrays to lists\n",
        "  All_1dGrids_list = []\n",
        "  D = find_D(\"Nicole.inp\")\n",
        "  for n in range(D): # selecting the n-th grid out of D 1d grids\n",
        "    grid_1d = list( All_1dGrids[:, n] )\n",
        "    All_1dGrids_list.append(grid_1d)\n",
        "\n",
        "  from itertools import product\n",
        "  for coordinate in product(*All_1dGrids_list):\n",
        "    layer_points.append(coordinate)\n",
        "  \n",
        "  return layer_points"
      ],
      "metadata": {
        "id": "qdbEdxBQBBvT"
      },
      "execution_count": null,
      "outputs": []
    },
    {
      "cell_type": "code",
      "source": [
        "create_layer([0, 3])"
      ],
      "metadata": {
        "colab": {
          "base_uri": "https://localhost:8080/"
        },
        "id": "f2jUWB9xDOUj",
        "outputId": "1ae6f247-9519-4a88-bfa5-5006427b1025"
      },
      "execution_count": null,
      "outputs": [
        {
          "output_type": "execute_result",
          "data": {
            "text/plain": [
              "[(-18.402978310500004, 23.12303573899, 35.888223706722),\n",
              " (-18.402978310500004, 23.12303573899, 3.323443003108288),\n",
              " (-18.402978310500004, 34.53543550437, 35.888223706722),\n",
              " (-18.402978310500004, 34.53543550437, 3.323443003108288),\n",
              " (64.3296252644, 23.12303573899, 35.888223706722),\n",
              " (64.3296252644, 23.12303573899, 3.323443003108288),\n",
              " (64.3296252644, 34.53543550437, 35.888223706722),\n",
              " (64.3296252644, 34.53543550437, 3.323443003108288)]"
            ]
          },
          "metadata": {},
          "execution_count": 17
        }
      ]
    },
    {
      "cell_type": "markdown",
      "source": [
        "## Part 2 - Combining all layers to get regular grid. This is where the fort.20x files will come in use, while weighting each layer with $(\\text{fort.201})_{i_1} \\times (\\text{fort.202})_{i_2} \\times..... \\times (\\text{fort.20}{\\underline{D-1}})_{i_{D-1}}$"
      ],
      "metadata": {
        "id": "2bHUD2W4Y1xw"
      }
    },
    {
      "cell_type": "code",
      "source": [
        "# We will have to take weighted union of each layer over permutation of indices_list\n",
        "def createRegularGrid(num_clusters_total):\n",
        "\n",
        "  file_801 = np.loadtxt(\"fort.801\")\n",
        "  num_combinations = file_801.shape[0] # number of rows in fort.801\n",
        "  D = find_D(\"Nicole.inp\")\n",
        "\n",
        "  regular_grid = [] # The list containing coordinates of all points in the regular grid\n",
        "  for comb in range(num_combinations):\n",
        "      indices_list = list(file_801[comb, 0:D-1] - 1) # cols 0 to D-2 will contain values of hidden variables.\n",
        "                                                # There is a -1 because indices in fort.801 start from 1 whereas I start them from 0\n",
        "\n",
        "      # The indices_list will have floats because list() generates float. So we must convert them to int\n",
        "      for index in range(len(indices_list)):\n",
        "        indices_list[index] = int(indices_list[index])\n",
        "      # Now extract coordinates of points in this layer\n",
        "      for coordinate_ in create_layer(indices_list=indices_list): # appending each and every point of each and every layer\n",
        "        regular_grid.append(coordinate_)\n",
        "  return regular_grid\n"
      ],
      "metadata": {
        "id": "BKhOzIVZZZZC"
      },
      "execution_count": null,
      "outputs": []
    },
    {
      "cell_type": "code",
      "source": [
        "createRegularGrid(num_clusters_total=150)"
      ],
      "metadata": {
        "id": "tUSUrYrfqQ2s",
        "colab": {
          "base_uri": "https://localhost:8080/"
        },
        "outputId": "ee51ecc0-ed5d-400f-f9bd-390258eb40dd"
      },
      "execution_count": null,
      "outputs": [
        {
          "output_type": "stream",
          "name": "stderr",
          "text": [
            "/usr/local/lib/python3.7/dist-packages/ipykernel_launcher.py:14: ConvergenceWarning: Number of distinct clusters (1) found smaller than n_clusters (2). Possibly due to duplicate points in X.\n",
            "  \n",
            "/usr/local/lib/python3.7/dist-packages/ipykernel_launcher.py:14: ConvergenceWarning: Number of distinct clusters (1) found smaller than n_clusters (2). Possibly due to duplicate points in X.\n",
            "  \n",
            "/usr/local/lib/python3.7/dist-packages/ipykernel_launcher.py:14: ConvergenceWarning: Number of distinct clusters (4) found smaller than n_clusters (5). Possibly due to duplicate points in X.\n",
            "  \n",
            "/usr/local/lib/python3.7/dist-packages/ipykernel_launcher.py:14: ConvergenceWarning: Number of distinct clusters (4) found smaller than n_clusters (5). Possibly due to duplicate points in X.\n",
            "  \n",
            "/usr/local/lib/python3.7/dist-packages/ipykernel_launcher.py:14: ConvergenceWarning: Number of distinct clusters (2) found smaller than n_clusters (3). Possibly due to duplicate points in X.\n",
            "  \n",
            "/usr/local/lib/python3.7/dist-packages/ipykernel_launcher.py:14: ConvergenceWarning: Number of distinct clusters (3) found smaller than n_clusters (4). Possibly due to duplicate points in X.\n",
            "  \n",
            "/usr/local/lib/python3.7/dist-packages/ipykernel_launcher.py:14: ConvergenceWarning: Number of distinct clusters (3) found smaller than n_clusters (4). Possibly due to duplicate points in X.\n",
            "  \n",
            "/usr/local/lib/python3.7/dist-packages/ipykernel_launcher.py:14: ConvergenceWarning: Number of distinct clusters (4) found smaller than n_clusters (5). Possibly due to duplicate points in X.\n",
            "  \n"
          ]
        },
        {
          "output_type": "execute_result",
          "data": {
            "text/plain": [
              "[(56.1461868574, 8.453957696609999, 51.29260420119999),\n",
              " (56.1461868574, 8.453957696609999, 14.7638234986),\n",
              " (56.1461868574, 8.453957696609999, -6.758244128700003),\n",
              " (56.1461868574, 8.453957696609999, 40.5729664116),\n",
              " (56.1461868574, 25.6214945752497, 51.29260420119999),\n",
              " (56.1461868574, 25.6214945752497, 14.7638234986),\n",
              " (56.1461868574, 25.6214945752497, -6.758244128700003),\n",
              " (56.1461868574, 25.6214945752497, 40.5729664116),\n",
              " (56.1461868574, 37.167882453897, 51.29260420119999),\n",
              " (56.1461868574, 37.167882453897, 14.7638234986),\n",
              " (56.1461868574, 37.167882453897, -6.758244128700003),\n",
              " (56.1461868574, 37.167882453897, 40.5729664116),\n",
              " (56.1461868574, 22.493093974582, 51.29260420119999),\n",
              " (56.1461868574, 22.493093974582, 14.7638234986),\n",
              " (56.1461868574, 22.493093974582, -6.758244128700003),\n",
              " (56.1461868574, 22.493093974582, 40.5729664116),\n",
              " (-5.788765170399998, 8.453957696609999, 51.29260420119999),\n",
              " (-5.788765170399998, 8.453957696609999, 14.7638234986),\n",
              " (-5.788765170399998, 8.453957696609999, -6.758244128700003),\n",
              " (-5.788765170399998, 8.453957696609999, 40.5729664116),\n",
              " (-5.788765170399998, 25.6214945752497, 51.29260420119999),\n",
              " (-5.788765170399998, 25.6214945752497, 14.7638234986),\n",
              " (-5.788765170399998, 25.6214945752497, -6.758244128700003),\n",
              " (-5.788765170399998, 25.6214945752497, 40.5729664116),\n",
              " (-5.788765170399998, 37.167882453897, 51.29260420119999),\n",
              " (-5.788765170399998, 37.167882453897, 14.7638234986),\n",
              " (-5.788765170399998, 37.167882453897, -6.758244128700003),\n",
              " (-5.788765170399998, 37.167882453897, 40.5729664116),\n",
              " (-5.788765170399998, 22.493093974582, 51.29260420119999),\n",
              " (-5.788765170399998, 22.493093974582, 14.7638234986),\n",
              " (-5.788765170399998, 22.493093974582, -6.758244128700003),\n",
              " (-5.788765170399998, 22.493093974582, 40.5729664116),\n",
              " (11.6855760911, 8.453957696609999, 51.29260420119999),\n",
              " (11.6855760911, 8.453957696609999, 14.7638234986),\n",
              " (11.6855760911, 8.453957696609999, -6.758244128700003),\n",
              " (11.6855760911, 8.453957696609999, 40.5729664116),\n",
              " (11.6855760911, 25.6214945752497, 51.29260420119999),\n",
              " (11.6855760911, 25.6214945752497, 14.7638234986),\n",
              " (11.6855760911, 25.6214945752497, -6.758244128700003),\n",
              " (11.6855760911, 25.6214945752497, 40.5729664116),\n",
              " (11.6855760911, 37.167882453897, 51.29260420119999),\n",
              " (11.6855760911, 37.167882453897, 14.7638234986),\n",
              " (11.6855760911, 37.167882453897, -6.758244128700003),\n",
              " (11.6855760911, 37.167882453897, 40.5729664116),\n",
              " (11.6855760911, 22.493093974582, 51.29260420119999),\n",
              " (11.6855760911, 22.493093974582, 14.7638234986),\n",
              " (11.6855760911, 22.493093974582, -6.758244128700003),\n",
              " (11.6855760911, 22.493093974582, 40.5729664116),\n",
              " (31.883649175800002, 8.453957696609999, 51.29260420119999),\n",
              " (31.883649175800002, 8.453957696609999, 14.7638234986),\n",
              " (31.883649175800002, 8.453957696609999, -6.758244128700003),\n",
              " (31.883649175800002, 8.453957696609999, 40.5729664116),\n",
              " (31.883649175800002, 25.6214945752497, 51.29260420119999),\n",
              " (31.883649175800002, 25.6214945752497, 14.7638234986),\n",
              " (31.883649175800002, 25.6214945752497, -6.758244128700003),\n",
              " (31.883649175800002, 25.6214945752497, 40.5729664116),\n",
              " (31.883649175800002, 37.167882453897, 51.29260420119999),\n",
              " (31.883649175800002, 37.167882453897, 14.7638234986),\n",
              " (31.883649175800002, 37.167882453897, -6.758244128700003),\n",
              " (31.883649175800002, 37.167882453897, 40.5729664116),\n",
              " (31.883649175800002, 22.493093974582, 51.29260420119999),\n",
              " (31.883649175800002, 22.493093974582, 14.7638234986),\n",
              " (31.883649175800002, 22.493093974582, -6.758244128700003),\n",
              " (31.883649175800002, 22.493093974582, 40.5729664116),\n",
              " (64.3296252644, 12.099128076853356, 32.0771350416),\n",
              " (64.3296252644, 12.099128076853356, -36.60712711436696),\n",
              " (64.3296252644, 36.27061717858502, 32.0771350416),\n",
              " (64.3296252644, 36.27061717858502, -36.60712711436696),\n",
              " (-18.402978310500004, 12.099128076853356, 32.0771350416),\n",
              " (-18.402978310500004, 12.099128076853356, -36.60712711436696),\n",
              " (-18.402978310500004, 36.27061717858502, 32.0771350416),\n",
              " (-18.402978310500004, 36.27061717858502, -36.60712711436696),\n",
              " (64.3296252644, 17.956425414755, 202.78543491927175),\n",
              " (64.3296252644, 17.956425414755, 29.862445188),\n",
              " (64.3296252644, 33.16630019796099, 202.78543491927175),\n",
              " (64.3296252644, 33.16630019796099, 29.862445188),\n",
              " (-18.402978310500004, 17.956425414755, 202.78543491927175),\n",
              " (-18.402978310500004, 17.956425414755, 29.862445188),\n",
              " (-18.402978310500004, 33.16630019796099, 202.78543491927175),\n",
              " (-18.402978310500004, 33.16630019796099, 29.862445188),\n",
              " (36.15437976441628, 17.740898680184, 70.83261201323),\n",
              " (36.15437976441628, 17.740898680184, 41.05089493011297),\n",
              " (36.15437976441628, 17.740898680184, 45.998421398551095),\n",
              " (36.15437976441628, 17.740898680184, 35.67082788275578),\n",
              " (36.15437976441628, 17.740898680184, 29.862445188),\n",
              " (36.15437976441628, 31.232693814237003, 70.83261201323),\n",
              " (36.15437976441628, 31.232693814237003, 41.05089493011297),\n",
              " (36.15437976441628, 31.232693814237003, 45.998421398551095),\n",
              " (36.15437976441628, 31.232693814237003, 35.67082788275578),\n",
              " (36.15437976441628, 31.232693814237003, 29.862445188),\n",
              " (36.15437976441628, 23.696802396812, 70.83261201323),\n",
              " (36.15437976441628, 23.696802396812, 41.05089493011297),\n",
              " (36.15437976441628, 23.696802396812, 45.998421398551095),\n",
              " (36.15437976441628, 23.696802396812, 35.67082788275578),\n",
              " (36.15437976441628, 23.696802396812, 29.862445188),\n",
              " (36.15437976441628, 24.250796441731, 70.83261201323),\n",
              " (36.15437976441628, 24.250796441731, 41.05089493011297),\n",
              " (36.15437976441628, 24.250796441731, 45.998421398551095),\n",
              " (36.15437976441628, 24.250796441731, 35.67082788275578),\n",
              " (36.15437976441628, 24.250796441731, 29.862445188),\n",
              " (36.15437976441628, 24.0, 70.83261201323),\n",
              " (36.15437976441628, 24.0, 41.05089493011297),\n",
              " (36.15437976441628, 24.0, 45.998421398551095),\n",
              " (36.15437976441628, 24.0, 35.67082788275578),\n",
              " (36.15437976441628, 24.0, 29.862445188),\n",
              " (41.091913684846894, 17.740898680184, 70.83261201323),\n",
              " (41.091913684846894, 17.740898680184, 41.05089493011297),\n",
              " (41.091913684846894, 17.740898680184, 45.998421398551095),\n",
              " (41.091913684846894, 17.740898680184, 35.67082788275578),\n",
              " (41.091913684846894, 17.740898680184, 29.862445188),\n",
              " (41.091913684846894, 31.232693814237003, 70.83261201323),\n",
              " (41.091913684846894, 31.232693814237003, 41.05089493011297),\n",
              " (41.091913684846894, 31.232693814237003, 45.998421398551095),\n",
              " (41.091913684846894, 31.232693814237003, 35.67082788275578),\n",
              " (41.091913684846894, 31.232693814237003, 29.862445188),\n",
              " (41.091913684846894, 23.696802396812, 70.83261201323),\n",
              " (41.091913684846894, 23.696802396812, 41.05089493011297),\n",
              " (41.091913684846894, 23.696802396812, 45.998421398551095),\n",
              " (41.091913684846894, 23.696802396812, 35.67082788275578),\n",
              " (41.091913684846894, 23.696802396812, 29.862445188),\n",
              " (41.091913684846894, 24.250796441731, 70.83261201323),\n",
              " (41.091913684846894, 24.250796441731, 41.05089493011297),\n",
              " (41.091913684846894, 24.250796441731, 45.998421398551095),\n",
              " (41.091913684846894, 24.250796441731, 35.67082788275578),\n",
              " (41.091913684846894, 24.250796441731, 29.862445188),\n",
              " (41.091913684846894, 24.0, 70.83261201323),\n",
              " (41.091913684846894, 24.0, 41.05089493011297),\n",
              " (41.091913684846894, 24.0, 45.998421398551095),\n",
              " (41.091913684846894, 24.0, 35.67082788275578),\n",
              " (41.091913684846894, 24.0, 29.862445188),\n",
              " (72.142746774601, 17.740898680184, 70.83261201323),\n",
              " (72.142746774601, 17.740898680184, 41.05089493011297),\n",
              " (72.142746774601, 17.740898680184, 45.998421398551095),\n",
              " (72.142746774601, 17.740898680184, 35.67082788275578),\n",
              " (72.142746774601, 17.740898680184, 29.862445188),\n",
              " (72.142746774601, 31.232693814237003, 70.83261201323),\n",
              " (72.142746774601, 31.232693814237003, 41.05089493011297),\n",
              " (72.142746774601, 31.232693814237003, 45.998421398551095),\n",
              " (72.142746774601, 31.232693814237003, 35.67082788275578),\n",
              " (72.142746774601, 31.232693814237003, 29.862445188),\n",
              " (72.142746774601, 23.696802396812, 70.83261201323),\n",
              " (72.142746774601, 23.696802396812, 41.05089493011297),\n",
              " (72.142746774601, 23.696802396812, 45.998421398551095),\n",
              " (72.142746774601, 23.696802396812, 35.67082788275578),\n",
              " (72.142746774601, 23.696802396812, 29.862445188),\n",
              " (72.142746774601, 24.250796441731, 70.83261201323),\n",
              " (72.142746774601, 24.250796441731, 41.05089493011297),\n",
              " (72.142746774601, 24.250796441731, 45.998421398551095),\n",
              " (72.142746774601, 24.250796441731, 35.67082788275578),\n",
              " (72.142746774601, 24.250796441731, 29.862445188),\n",
              " (72.142746774601, 24.0, 70.83261201323),\n",
              " (72.142746774601, 24.0, 41.05089493011297),\n",
              " (72.142746774601, 24.0, 45.998421398551095),\n",
              " (72.142746774601, 24.0, 35.67082788275578),\n",
              " (72.142746774601, 24.0, 29.862445188),\n",
              " (46.040624687402435, 17.740898680184, 70.83261201323),\n",
              " (46.040624687402435, 17.740898680184, 41.05089493011297),\n",
              " (46.040624687402435, 17.740898680184, 45.998421398551095),\n",
              " (46.040624687402435, 17.740898680184, 35.67082788275578),\n",
              " (46.040624687402435, 17.740898680184, 29.862445188),\n",
              " (46.040624687402435, 31.232693814237003, 70.83261201323),\n",
              " (46.040624687402435, 31.232693814237003, 41.05089493011297),\n",
              " (46.040624687402435, 31.232693814237003, 45.998421398551095),\n",
              " (46.040624687402435, 31.232693814237003, 35.67082788275578),\n",
              " (46.040624687402435, 31.232693814237003, 29.862445188),\n",
              " (46.040624687402435, 23.696802396812, 70.83261201323),\n",
              " (46.040624687402435, 23.696802396812, 41.05089493011297),\n",
              " (46.040624687402435, 23.696802396812, 45.998421398551095),\n",
              " (46.040624687402435, 23.696802396812, 35.67082788275578),\n",
              " (46.040624687402435, 23.696802396812, 29.862445188),\n",
              " (46.040624687402435, 24.250796441731, 70.83261201323),\n",
              " (46.040624687402435, 24.250796441731, 41.05089493011297),\n",
              " (46.040624687402435, 24.250796441731, 45.998421398551095),\n",
              " (46.040624687402435, 24.250796441731, 35.67082788275578),\n",
              " (46.040624687402435, 24.250796441731, 29.862445188),\n",
              " (46.040624687402435, 24.0, 70.83261201323),\n",
              " (46.040624687402435, 24.0, 41.05089493011297),\n",
              " (46.040624687402435, 24.0, 45.998421398551095),\n",
              " (46.040624687402435, 24.0, 35.67082788275578),\n",
              " (46.040624687402435, 24.0, 29.862445188),\n",
              " (31.329059532000002, 17.740898680184, 70.83261201323),\n",
              " (31.329059532000002, 17.740898680184, 41.05089493011297),\n",
              " (31.329059532000002, 17.740898680184, 45.998421398551095),\n",
              " (31.329059532000002, 17.740898680184, 35.67082788275578),\n",
              " (31.329059532000002, 17.740898680184, 29.862445188),\n",
              " (31.329059532000002, 31.232693814237003, 70.83261201323),\n",
              " (31.329059532000002, 31.232693814237003, 41.05089493011297),\n",
              " (31.329059532000002, 31.232693814237003, 45.998421398551095),\n",
              " (31.329059532000002, 31.232693814237003, 35.67082788275578),\n",
              " (31.329059532000002, 31.232693814237003, 29.862445188),\n",
              " (31.329059532000002, 23.696802396812, 70.83261201323),\n",
              " (31.329059532000002, 23.696802396812, 41.05089493011297),\n",
              " (31.329059532000002, 23.696802396812, 45.998421398551095),\n",
              " (31.329059532000002, 23.696802396812, 35.67082788275578),\n",
              " (31.329059532000002, 23.696802396812, 29.862445188),\n",
              " (31.329059532000002, 24.250796441731, 70.83261201323),\n",
              " (31.329059532000002, 24.250796441731, 41.05089493011297),\n",
              " (31.329059532000002, 24.250796441731, 45.998421398551095),\n",
              " (31.329059532000002, 24.250796441731, 35.67082788275578),\n",
              " (31.329059532000002, 24.250796441731, 29.862445188),\n",
              " (31.329059532000002, 24.0, 70.83261201323),\n",
              " (31.329059532000002, 24.0, 41.05089493011297),\n",
              " (31.329059532000002, 24.0, 45.998421398551095),\n",
              " (31.329059532000002, 24.0, 35.67082788275578),\n",
              " (31.329059532000002, 24.0, 29.862445188),\n",
              " (-6.007821720359999, 36.58059039800935, 14.7638234986),\n",
              " (-6.007821720359999, 36.58059039800935, 51.29260420119999),\n",
              " (-6.007821720359999, 36.58059039800935, 40.5729664116),\n",
              " (-6.007821720359999, 36.58059039800935, -6.758244128700003),\n",
              " (-6.007821720359999, 46.34913825538466, 14.7638234986),\n",
              " (-6.007821720359999, 46.34913825538466, 51.29260420119999),\n",
              " (-6.007821720359999, 46.34913825538466, 40.5729664116),\n",
              " (-6.007821720359999, 46.34913825538466, -6.758244128700003),\n",
              " (-6.007821720359999, 40.496639528451155, 14.7638234986),\n",
              " (-6.007821720359999, 40.496639528451155, 51.29260420119999),\n",
              " (-6.007821720359999, 40.496639528451155, 40.5729664116),\n",
              " (-6.007821720359999, 40.496639528451155, -6.758244128700003),\n",
              " (-6.007821720359999, 35.91599538505601, 14.7638234986),\n",
              " (-6.007821720359999, 35.91599538505601, 51.29260420119999),\n",
              " (-6.007821720359999, 35.91599538505601, 40.5729664116),\n",
              " (-6.007821720359999, 35.91599538505601, -6.758244128700003),\n",
              " (57.33716017944, 36.58059039800935, 14.7638234986),\n",
              " (57.33716017944, 36.58059039800935, 51.29260420119999),\n",
              " (57.33716017944, 36.58059039800935, 40.5729664116),\n",
              " (57.33716017944, 36.58059039800935, -6.758244128700003),\n",
              " (57.33716017944, 46.34913825538466, 14.7638234986),\n",
              " (57.33716017944, 46.34913825538466, 51.29260420119999),\n",
              " (57.33716017944, 46.34913825538466, 40.5729664116),\n",
              " (57.33716017944, 46.34913825538466, -6.758244128700003),\n",
              " (57.33716017944, 40.496639528451155, 14.7638234986),\n",
              " (57.33716017944, 40.496639528451155, 51.29260420119999),\n",
              " (57.33716017944, 40.496639528451155, 40.5729664116),\n",
              " (57.33716017944, 40.496639528451155, -6.758244128700003),\n",
              " (57.33716017944, 35.91599538505601, 14.7638234986),\n",
              " (57.33716017944, 35.91599538505601, 51.29260420119999),\n",
              " (57.33716017944, 35.91599538505601, 40.5729664116),\n",
              " (57.33716017944, 35.91599538505601, -6.758244128700003),\n",
              " (13.160319764730637, 36.58059039800935, 14.7638234986),\n",
              " (13.160319764730637, 36.58059039800935, 51.29260420119999),\n",
              " (13.160319764730637, 36.58059039800935, 40.5729664116),\n",
              " (13.160319764730637, 36.58059039800935, -6.758244128700003),\n",
              " (13.160319764730637, 46.34913825538466, 14.7638234986),\n",
              " (13.160319764730637, 46.34913825538466, 51.29260420119999),\n",
              " (13.160319764730637, 46.34913825538466, 40.5729664116),\n",
              " (13.160319764730637, 46.34913825538466, -6.758244128700003),\n",
              " (13.160319764730637, 40.496639528451155, 14.7638234986),\n",
              " (13.160319764730637, 40.496639528451155, 51.29260420119999),\n",
              " (13.160319764730637, 40.496639528451155, 40.5729664116),\n",
              " (13.160319764730637, 40.496639528451155, -6.758244128700003),\n",
              " (13.160319764730637, 35.91599538505601, 14.7638234986),\n",
              " (13.160319764730637, 35.91599538505601, 51.29260420119999),\n",
              " (13.160319764730637, 35.91599538505601, 40.5729664116),\n",
              " (13.160319764730637, 35.91599538505601, -6.758244128700003),\n",
              " (22.895868412345667, 36.58059039800935, 14.7638234986),\n",
              " (22.895868412345667, 36.58059039800935, 51.29260420119999),\n",
              " (22.895868412345667, 36.58059039800935, 40.5729664116),\n",
              " (22.895868412345667, 36.58059039800935, -6.758244128700003),\n",
              " (22.895868412345667, 46.34913825538466, 14.7638234986),\n",
              " (22.895868412345667, 46.34913825538466, 51.29260420119999),\n",
              " (22.895868412345667, 46.34913825538466, 40.5729664116),\n",
              " (22.895868412345667, 46.34913825538466, -6.758244128700003),\n",
              " (22.895868412345667, 40.496639528451155, 14.7638234986),\n",
              " (22.895868412345667, 40.496639528451155, 51.29260420119999),\n",
              " (22.895868412345667, 40.496639528451155, 40.5729664116),\n",
              " (22.895868412345667, 40.496639528451155, -6.758244128700003),\n",
              " (22.895868412345667, 35.91599538505601, 14.7638234986),\n",
              " (22.895868412345667, 35.91599538505601, 51.29260420119999),\n",
              " (22.895868412345667, 35.91599538505601, 40.5729664116),\n",
              " (22.895868412345667, 35.91599538505601, -6.758244128700003),\n",
              " (31.329059532000002, 39.06469066694, 59.06087432019999),\n",
              " (31.329059532000002, 39.06469066694, -0.23796236349999944),\n",
              " (31.329059532000002, 39.06469066694, 17.048238026),\n",
              " (31.329059532000002, 10.945972223116001, 59.06087432019999),\n",
              " (31.329059532000002, 10.945972223116001, -0.23796236349999944),\n",
              " (31.329059532000002, 10.945972223116001, 17.048238026),\n",
              " (31.329059532000002, 23.606948678357, 59.06087432019999),\n",
              " (31.329059532000002, 23.606948678357, -0.23796236349999944),\n",
              " (31.329059532000002, 23.606948678357, 17.048238026),\n",
              " (43.35096716008161, 39.06469066694, 59.06087432019999),\n",
              " (43.35096716008161, 39.06469066694, -0.23796236349999944),\n",
              " (43.35096716008161, 39.06469066694, 17.048238026),\n",
              " (43.35096716008161, 10.945972223116001, 59.06087432019999),\n",
              " (43.35096716008161, 10.945972223116001, -0.23796236349999944),\n",
              " (43.35096716008161, 10.945972223116001, 17.048238026),\n",
              " (43.35096716008161, 23.606948678357, 59.06087432019999),\n",
              " (43.35096716008161, 23.606948678357, -0.23796236349999944),\n",
              " (43.35096716008161, 23.606948678357, 17.048238026),\n",
              " (77.569422495801, 39.06469066694, 59.06087432019999),\n",
              " (77.569422495801, 39.06469066694, -0.23796236349999944),\n",
              " (77.569422495801, 39.06469066694, 17.048238026),\n",
              " (77.569422495801, 10.945972223116001, 59.06087432019999),\n",
              " (77.569422495801, 10.945972223116001, -0.23796236349999944),\n",
              " (77.569422495801, 10.945972223116001, 17.048238026),\n",
              " (77.569422495801, 23.606948678357, 59.06087432019999),\n",
              " (77.569422495801, 23.606948678357, -0.23796236349999944),\n",
              " (77.569422495801, 23.606948678357, 17.048238026),\n",
              " (55.5317852314, 24.108587067326, 71.90191608383),\n",
              " (55.5317852314, 24.108587067326, 37.192771069600454),\n",
              " (55.5317852314, 24.108587067326, 29.862445188),\n",
              " (55.5317852314, 24.108587067326, 44.53772816179763),\n",
              " (55.5317852314, 27.081317502445, 71.90191608383),\n",
              " (55.5317852314, 27.081317502445, 37.192771069600454),\n",
              " (55.5317852314, 27.081317502445, 29.862445188),\n",
              " (55.5317852314, 27.081317502445, 44.53772816179763),\n",
              " (55.5317852314, 23.754309196975, 71.90191608383),\n",
              " (55.5317852314, 23.754309196975, 37.192771069600454),\n",
              " (55.5317852314, 23.754309196975, 29.862445188),\n",
              " (55.5317852314, 23.754309196975, 44.53772816179763),\n",
              " (55.5317852314, 18.383470171854, 71.90191608383),\n",
              " (55.5317852314, 18.383470171854, 37.192771069600454),\n",
              " (55.5317852314, 18.383470171854, 29.862445188),\n",
              " (55.5317852314, 18.383470171854, 44.53772816179763),\n",
              " (-4.889644395689999, 24.108587067326, 71.90191608383),\n",
              " (-4.889644395689999, 24.108587067326, 37.192771069600454),\n",
              " (-4.889644395689999, 24.108587067326, 29.862445188),\n",
              " (-4.889644395689999, 24.108587067326, 44.53772816179763),\n",
              " (-4.889644395689999, 27.081317502445, 71.90191608383),\n",
              " (-4.889644395689999, 27.081317502445, 37.192771069600454),\n",
              " (-4.889644395689999, 27.081317502445, 29.862445188),\n",
              " (-4.889644395689999, 27.081317502445, 44.53772816179763),\n",
              " (-4.889644395689999, 23.754309196975, 71.90191608383),\n",
              " (-4.889644395689999, 23.754309196975, 37.192771069600454),\n",
              " (-4.889644395689999, 23.754309196975, 29.862445188),\n",
              " (-4.889644395689999, 23.754309196975, 44.53772816179763),\n",
              " (-4.889644395689999, 18.383470171854, 71.90191608383),\n",
              " (-4.889644395689999, 18.383470171854, 37.192771069600454),\n",
              " (-4.889644395689999, 18.383470171854, 29.862445188),\n",
              " (-4.889644395689999, 18.383470171854, 44.53772816179763),\n",
              " (21.941550862640195, 24.108587067326, 71.90191608383),\n",
              " (21.941550862640195, 24.108587067326, 37.192771069600454),\n",
              " (21.941550862640195, 24.108587067326, 29.862445188),\n",
              " (21.941550862640195, 24.108587067326, 44.53772816179763),\n",
              " (21.941550862640195, 27.081317502445, 71.90191608383),\n",
              " (21.941550862640195, 27.081317502445, 37.192771069600454),\n",
              " (21.941550862640195, 27.081317502445, 29.862445188),\n",
              " (21.941550862640195, 27.081317502445, 44.53772816179763),\n",
              " (21.941550862640195, 23.754309196975, 71.90191608383),\n",
              " (21.941550862640195, 23.754309196975, 37.192771069600454),\n",
              " (21.941550862640195, 23.754309196975, 29.862445188),\n",
              " (21.941550862640195, 23.754309196975, 44.53772816179763),\n",
              " (21.941550862640195, 18.383470171854, 71.90191608383),\n",
              " (21.941550862640195, 18.383470171854, 37.192771069600454),\n",
              " (21.941550862640195, 18.383470171854, 29.862445188),\n",
              " (21.941550862640195, 18.383470171854, 44.53772816179763),\n",
              " (13.840594746342209, 24.108587067326, 71.90191608383),\n",
              " (13.840594746342209, 24.108587067326, 37.192771069600454),\n",
              " (13.840594746342209, 24.108587067326, 29.862445188),\n",
              " (13.840594746342209, 24.108587067326, 44.53772816179763),\n",
              " (13.840594746342209, 27.081317502445, 71.90191608383),\n",
              " (13.840594746342209, 27.081317502445, 37.192771069600454),\n",
              " (13.840594746342209, 27.081317502445, 29.862445188),\n",
              " (13.840594746342209, 27.081317502445, 44.53772816179763),\n",
              " (13.840594746342209, 23.754309196975, 71.90191608383),\n",
              " (13.840594746342209, 23.754309196975, 37.192771069600454),\n",
              " (13.840594746342209, 23.754309196975, 29.862445188),\n",
              " (13.840594746342209, 23.754309196975, 44.53772816179763),\n",
              " (13.840594746342209, 18.383470171854, 71.90191608383),\n",
              " (13.840594746342209, 18.383470171854, 37.192771069600454),\n",
              " (13.840594746342209, 18.383470171854, 29.862445188),\n",
              " (13.840594746342209, 18.383470171854, 44.53772816179763),\n",
              " (24.095664015597738, 14.6731844524528, 33.186873151123265),\n",
              " (24.095664015597738, 14.6731844524528, 48.6526322667),\n",
              " (24.095664015597738, 14.6731844524528, 25.94221275565543),\n",
              " (24.095664015597738, 14.6731844524528, -11.32230559664),\n",
              " (24.095664015597738, 14.6731844524528, 17.890829149133552),\n",
              " (24.095664015597738, 43.57736184875928, 33.186873151123265),\n",
              " (24.095664015597738, 43.57736184875928, 48.6526322667),\n",
              " (24.095664015597738, 43.57736184875928, 25.94221275565543),\n",
              " (24.095664015597738, 43.57736184875928, -11.32230559664),\n",
              " (24.095664015597738, 43.57736184875928, 17.890829149133552),\n",
              " (24.095664015597738, 4.564986804590717, 33.186873151123265),\n",
              " (24.095664015597738, 4.564986804590717, 48.6526322667),\n",
              " (24.095664015597738, 4.564986804590717, 25.94221275565543),\n",
              " (24.095664015597738, 4.564986804590717, -11.32230559664),\n",
              " (24.095664015597738, 4.564986804590717, 17.890829149133552),\n",
              " (24.095664015597738, 23.84674230363952, 33.186873151123265),\n",
              " (24.095664015597738, 23.84674230363952, 48.6526322667),\n",
              " (24.095664015597738, 23.84674230363952, 25.94221275565543),\n",
              " (24.095664015597738, 23.84674230363952, -11.32230559664),\n",
              " (24.095664015597738, 23.84674230363952, 17.890829149133552),\n",
              " (24.095664015597738, 33.26735603738963, 33.186873151123265),\n",
              " (24.095664015597738, 33.26735603738963, 48.6526322667),\n",
              " (24.095664015597738, 33.26735603738963, 25.94221275565543),\n",
              " (24.095664015597738, 33.26735603738963, -11.32230559664),\n",
              " (24.095664015597738, 33.26735603738963, 17.890829149133552),\n",
              " (-6.007821720359999, 14.6731844524528, 33.186873151123265),\n",
              " (-6.007821720359999, 14.6731844524528, 48.6526322667),\n",
              " (-6.007821720359999, 14.6731844524528, 25.94221275565543),\n",
              " (-6.007821720359999, 14.6731844524528, -11.32230559664),\n",
              " (-6.007821720359999, 14.6731844524528, 17.890829149133552),\n",
              " (-6.007821720359999, 43.57736184875928, 33.186873151123265),\n",
              " (-6.007821720359999, 43.57736184875928, 48.6526322667),\n",
              " (-6.007821720359999, 43.57736184875928, 25.94221275565543),\n",
              " (-6.007821720359999, 43.57736184875928, -11.32230559664),\n",
              " (-6.007821720359999, 43.57736184875928, 17.890829149133552),\n",
              " (-6.007821720359999, 4.564986804590717, 33.186873151123265),\n",
              " (-6.007821720359999, 4.564986804590717, 48.6526322667),\n",
              " (-6.007821720359999, 4.564986804590717, 25.94221275565543),\n",
              " (-6.007821720359999, 4.564986804590717, -11.32230559664),\n",
              " (-6.007821720359999, 4.564986804590717, 17.890829149133552),\n",
              " (-6.007821720359999, 23.84674230363952, 33.186873151123265),\n",
              " (-6.007821720359999, 23.84674230363952, 48.6526322667),\n",
              " (-6.007821720359999, 23.84674230363952, 25.94221275565543),\n",
              " (-6.007821720359999, 23.84674230363952, -11.32230559664),\n",
              " (-6.007821720359999, 23.84674230363952, 17.890829149133552),\n",
              " (-6.007821720359999, 33.26735603738963, 33.186873151123265),\n",
              " (-6.007821720359999, 33.26735603738963, 48.6526322667),\n",
              " (-6.007821720359999, 33.26735603738963, 25.94221275565543),\n",
              " (-6.007821720359999, 33.26735603738963, -11.32230559664),\n",
              " (-6.007821720359999, 33.26735603738963, 17.890829149133552),\n",
              " (17.984128267710553, 14.6731844524528, 33.186873151123265),\n",
              " (17.984128267710553, 14.6731844524528, 48.6526322667),\n",
              " (17.984128267710553, 14.6731844524528, 25.94221275565543),\n",
              " (17.984128267710553, 14.6731844524528, -11.32230559664),\n",
              " (17.984128267710553, 14.6731844524528, 17.890829149133552),\n",
              " (17.984128267710553, 43.57736184875928, 33.186873151123265),\n",
              " (17.984128267710553, 43.57736184875928, 48.6526322667),\n",
              " (17.984128267710553, 43.57736184875928, 25.94221275565543),\n",
              " (17.984128267710553, 43.57736184875928, -11.32230559664),\n",
              " (17.984128267710553, 43.57736184875928, 17.890829149133552),\n",
              " (17.984128267710553, 4.564986804590717, 33.186873151123265),\n",
              " (17.984128267710553, 4.564986804590717, 48.6526322667),\n",
              " (17.984128267710553, 4.564986804590717, 25.94221275565543),\n",
              " (17.984128267710553, 4.564986804590717, -11.32230559664),\n",
              " (17.984128267710553, 4.564986804590717, 17.890829149133552),\n",
              " (17.984128267710553, 23.84674230363952, 33.186873151123265),\n",
              " (17.984128267710553, 23.84674230363952, 48.6526322667),\n",
              " (17.984128267710553, 23.84674230363952, 25.94221275565543),\n",
              " (17.984128267710553, 23.84674230363952, -11.32230559664),\n",
              " (17.984128267710553, 23.84674230363952, 17.890829149133552),\n",
              " (17.984128267710553, 33.26735603738963, 33.186873151123265),\n",
              " (17.984128267710553, 33.26735603738963, 48.6526322667),\n",
              " (17.984128267710553, 33.26735603738963, 25.94221275565543),\n",
              " (17.984128267710553, 33.26735603738963, -11.32230559664),\n",
              " (17.984128267710553, 33.26735603738963, 17.890829149133552),\n",
              " (12.77832884214207, 14.6731844524528, 33.186873151123265),\n",
              " (12.77832884214207, 14.6731844524528, 48.6526322667),\n",
              " (12.77832884214207, 14.6731844524528, 25.94221275565543),\n",
              " (12.77832884214207, 14.6731844524528, -11.32230559664),\n",
              " (12.77832884214207, 14.6731844524528, 17.890829149133552),\n",
              " (12.77832884214207, 43.57736184875928, 33.186873151123265),\n",
              " (12.77832884214207, 43.57736184875928, 48.6526322667),\n",
              " (12.77832884214207, 43.57736184875928, 25.94221275565543),\n",
              " (12.77832884214207, 43.57736184875928, -11.32230559664),\n",
              " (12.77832884214207, 43.57736184875928, 17.890829149133552),\n",
              " (12.77832884214207, 4.564986804590717, 33.186873151123265),\n",
              " (12.77832884214207, 4.564986804590717, 48.6526322667),\n",
              " (12.77832884214207, 4.564986804590717, 25.94221275565543),\n",
              " (12.77832884214207, 4.564986804590717, -11.32230559664),\n",
              " (12.77832884214207, 4.564986804590717, 17.890829149133552),\n",
              " (12.77832884214207, 23.84674230363952, 33.186873151123265),\n",
              " (12.77832884214207, 23.84674230363952, 48.6526322667),\n",
              " (12.77832884214207, 23.84674230363952, 25.94221275565543),\n",
              " (12.77832884214207, 23.84674230363952, -11.32230559664),\n",
              " (12.77832884214207, 23.84674230363952, 17.890829149133552),\n",
              " (12.77832884214207, 33.26735603738963, 33.186873151123265),\n",
              " (12.77832884214207, 33.26735603738963, 48.6526322667),\n",
              " (12.77832884214207, 33.26735603738963, 25.94221275565543),\n",
              " (12.77832884214207, 33.26735603738963, -11.32230559664),\n",
              " (12.77832884214207, 33.26735603738963, 17.890829149133552),\n",
              " (56.89650407466, 14.6731844524528, 33.186873151123265),\n",
              " (56.89650407466, 14.6731844524528, 48.6526322667),\n",
              " (56.89650407466, 14.6731844524528, 25.94221275565543),\n",
              " (56.89650407466, 14.6731844524528, -11.32230559664),\n",
              " (56.89650407466, 14.6731844524528, 17.890829149133552),\n",
              " (56.89650407466, 43.57736184875928, 33.186873151123265),\n",
              " (56.89650407466, 43.57736184875928, 48.6526322667),\n",
              " (56.89650407466, 43.57736184875928, 25.94221275565543),\n",
              " (56.89650407466, 43.57736184875928, -11.32230559664),\n",
              " (56.89650407466, 43.57736184875928, 17.890829149133552),\n",
              " (56.89650407466, 4.564986804590717, 33.186873151123265),\n",
              " (56.89650407466, 4.564986804590717, 48.6526322667),\n",
              " (56.89650407466, 4.564986804590717, 25.94221275565543),\n",
              " (56.89650407466, 4.564986804590717, -11.32230559664),\n",
              " (56.89650407466, 4.564986804590717, 17.890829149133552),\n",
              " (56.89650407466, 23.84674230363952, 33.186873151123265),\n",
              " (56.89650407466, 23.84674230363952, 48.6526322667),\n",
              " (56.89650407466, 23.84674230363952, 25.94221275565543),\n",
              " (56.89650407466, 23.84674230363952, -11.32230559664),\n",
              " (56.89650407466, 23.84674230363952, 17.890829149133552),\n",
              " (56.89650407466, 33.26735603738963, 33.186873151123265),\n",
              " (56.89650407466, 33.26735603738963, 48.6526322667),\n",
              " (56.89650407466, 33.26735603738963, 25.94221275565543),\n",
              " (56.89650407466, 33.26735603738963, -11.32230559664),\n",
              " (56.89650407466, 33.26735603738963, 17.890829149133552),\n",
              " (39.227922498693474, 17.318666979286643, -11.32230559664),\n",
              " (39.227922498693474, 17.318666979286643, 48.6526322667),\n",
              " (39.227922498693474, 17.318666979286643, 19.325761297460836),\n",
              " (39.227922498693474, 17.318666979286643, 30.886592731633204),\n",
              " (39.227922498693474, 41.75106031162417, -11.32230559664),\n",
              " (39.227922498693474, 41.75106031162417, 48.6526322667),\n",
              " (39.227922498693474, 41.75106031162417, 19.325761297460836),\n",
              " (39.227922498693474, 41.75106031162417, 30.886592731633204),\n",
              " (39.227922498693474, 5.312001191701388, -11.32230559664),\n",
              " (39.227922498693474, 5.312001191701388, 48.6526322667),\n",
              " (39.227922498693474, 5.312001191701388, 19.325761297460836),\n",
              " (39.227922498693474, 5.312001191701388, 30.886592731633204),\n",
              " (39.227922498693474, 29.325178536130664, -11.32230559664),\n",
              " (39.227922498693474, 29.325178536130664, 48.6526322667),\n",
              " (39.227922498693474, 29.325178536130664, 19.325761297460836),\n",
              " (39.227922498693474, 29.325178536130664, 30.886592731633204),\n",
              " (45.56662545737028, 17.318666979286643, -11.32230559664),\n",
              " (45.56662545737028, 17.318666979286643, 48.6526322667),\n",
              " (45.56662545737028, 17.318666979286643, 19.325761297460836),\n",
              " (45.56662545737028, 17.318666979286643, 30.886592731633204),\n",
              " (45.56662545737028, 41.75106031162417, -11.32230559664),\n",
              " (45.56662545737028, 41.75106031162417, 48.6526322667),\n",
              " (45.56662545737028, 41.75106031162417, 19.325761297460836),\n",
              " (45.56662545737028, 41.75106031162417, 30.886592731633204),\n",
              " (45.56662545737028, 5.312001191701388, -11.32230559664),\n",
              " (45.56662545737028, 5.312001191701388, 48.6526322667),\n",
              " (45.56662545737028, 5.312001191701388, 19.325761297460836),\n",
              " (45.56662545737028, 5.312001191701388, 30.886592731633204),\n",
              " (45.56662545737028, 29.325178536130664, -11.32230559664),\n",
              " (45.56662545737028, 29.325178536130664, 48.6526322667),\n",
              " (45.56662545737028, 29.325178536130664, 19.325761297460836),\n",
              " (45.56662545737028, 29.325178536130664, 30.886592731633204),\n",
              " (74.40375113200099, 17.318666979286643, -11.32230559664),\n",
              " (74.40375113200099, 17.318666979286643, 48.6526322667),\n",
              " (74.40375113200099, 17.318666979286643, 19.325761297460836),\n",
              " (74.40375113200099, 17.318666979286643, 30.886592731633204),\n",
              " (74.40375113200099, 41.75106031162417, -11.32230559664),\n",
              " (74.40375113200099, 41.75106031162417, 48.6526322667),\n",
              " (74.40375113200099, 41.75106031162417, 19.325761297460836),\n",
              " (74.40375113200099, 41.75106031162417, 30.886592731633204),\n",
              " (74.40375113200099, 5.312001191701388, -11.32230559664),\n",
              " (74.40375113200099, 5.312001191701388, 48.6526322667),\n",
              " (74.40375113200099, 5.312001191701388, 19.325761297460836),\n",
              " (74.40375113200099, 5.312001191701388, 30.886592731633204),\n",
              " (74.40375113200099, 29.325178536130664, -11.32230559664),\n",
              " (74.40375113200099, 29.325178536130664, 48.6526322667),\n",
              " (74.40375113200099, 29.325178536130664, 19.325761297460836),\n",
              " (74.40375113200099, 29.325178536130664, 30.886592731633204),\n",
              " (31.329059532000002, 17.318666979286643, -11.32230559664),\n",
              " (31.329059532000002, 17.318666979286643, 48.6526322667),\n",
              " (31.329059532000002, 17.318666979286643, 19.325761297460836),\n",
              " (31.329059532000002, 17.318666979286643, 30.886592731633204),\n",
              " (31.329059532000002, 41.75106031162417, -11.32230559664),\n",
              " (31.329059532000002, 41.75106031162417, 48.6526322667),\n",
              " (31.329059532000002, 41.75106031162417, 19.325761297460836),\n",
              " (31.329059532000002, 41.75106031162417, 30.886592731633204),\n",
              " (31.329059532000002, 5.312001191701388, -11.32230559664),\n",
              " (31.329059532000002, 5.312001191701388, 48.6526322667),\n",
              " (31.329059532000002, 5.312001191701388, 19.325761297460836),\n",
              " (31.329059532000002, 5.312001191701388, 30.886592731633204),\n",
              " (31.329059532000002, 29.325178536130664, -11.32230559664),\n",
              " (31.329059532000002, 29.325178536130664, 48.6526322667),\n",
              " (31.329059532000002, 29.325178536130664, 19.325761297460836),\n",
              " (31.329059532000002, 29.325178536130664, 30.886592731633204),\n",
              " (-18.402978310500004, 34.53543550437, 35.888223706722),\n",
              " (-18.402978310500004, 34.53543550437, 3.323443003108288),\n",
              " (-18.402978310500004, 23.12303573899, 35.888223706722),\n",
              " (-18.402978310500004, 23.12303573899, 3.323443003108288),\n",
              " (64.3296252644, 34.53543550437, 35.888223706722),\n",
              " (64.3296252644, 34.53543550437, 3.323443003108288),\n",
              " (64.3296252644, 23.12303573899, 35.888223706722),\n",
              " (64.3296252644, 23.12303573899, 3.323443003108288),\n",
              " (42.08148520224043, 16.248126193106323, 28.48034522512),\n",
              " (42.08148520224043, 16.248126193106323, 10.738657953861775),\n",
              " (42.08148520224043, 16.248126193106323, 21.37390198946),\n",
              " (42.08148520224043, 16.248126193106323, 8.672097873161588),\n",
              " (42.08148520224043, 16.248126193106323, 34.95446908298739),\n",
              " (42.08148520224043, 38.34032312633003, 28.48034522512),\n",
              " (42.08148520224043, 38.34032312633003, 10.738657953861775),\n",
              " (42.08148520224043, 38.34032312633003, 21.37390198946),\n",
              " (42.08148520224043, 38.34032312633003, 8.672097873161588),\n",
              " (42.08148520224043, 38.34032312633003, 34.95446908298739),\n",
              " (42.08148520224043, 29.39262238556281, 28.48034522512),\n",
              " (42.08148520224043, 29.39262238556281, 10.738657953861775),\n",
              " (42.08148520224043, 29.39262238556281, 21.37390198946),\n",
              " (42.08148520224043, 29.39262238556281, 8.672097873161588),\n",
              " (42.08148520224043, 29.39262238556281, 34.95446908298739),\n",
              " (42.08148520224043, 46.4239117734128, 28.48034522512),\n",
              " (42.08148520224043, 46.4239117734128, 10.738657953861775),\n",
              " (42.08148520224043, 46.4239117734128, 21.37390198946),\n",
              " (42.08148520224043, 46.4239117734128, 8.672097873161588),\n",
              " (42.08148520224043, 46.4239117734128, 34.95446908298739),\n",
              " (42.08148520224043, 21.825177026407726, 28.48034522512),\n",
              " (42.08148520224043, 21.825177026407726, 10.738657953861775),\n",
              " (42.08148520224043, 21.825177026407726, 21.37390198946),\n",
              " (42.08148520224043, 21.825177026407726, 8.672097873161588),\n",
              " (42.08148520224043, 21.825177026407726, 34.95446908298739),\n",
              " (46.52215994983612, 16.248126193106323, 28.48034522512),\n",
              " (46.52215994983612, 16.248126193106323, 10.738657953861775),\n",
              " (46.52215994983612, 16.248126193106323, 21.37390198946),\n",
              " (46.52215994983612, 16.248126193106323, 8.672097873161588),\n",
              " (46.52215994983612, 16.248126193106323, 34.95446908298739),\n",
              " (46.52215994983612, 38.34032312633003, 28.48034522512),\n",
              " (46.52215994983612, 38.34032312633003, 10.738657953861775),\n",
              " (46.52215994983612, 38.34032312633003, 21.37390198946),\n",
              " (46.52215994983612, 38.34032312633003, 8.672097873161588),\n",
              " (46.52215994983612, 38.34032312633003, 34.95446908298739),\n",
              " (46.52215994983612, 29.39262238556281, 28.48034522512),\n",
              " (46.52215994983612, 29.39262238556281, 10.738657953861775),\n",
              " (46.52215994983612, 29.39262238556281, 21.37390198946),\n",
              " (46.52215994983612, 29.39262238556281, 8.672097873161588),\n",
              " (46.52215994983612, 29.39262238556281, 34.95446908298739),\n",
              " (46.52215994983612, 46.4239117734128, 28.48034522512),\n",
              " (46.52215994983612, 46.4239117734128, 10.738657953861775),\n",
              " (46.52215994983612, 46.4239117734128, 21.37390198946),\n",
              " (46.52215994983612, 46.4239117734128, 8.672097873161588),\n",
              " (46.52215994983612, 46.4239117734128, 34.95446908298739),\n",
              " (46.52215994983612, 21.825177026407726, 28.48034522512),\n",
              " (46.52215994983612, 21.825177026407726, 10.738657953861775),\n",
              " (46.52215994983612, 21.825177026407726, 21.37390198946),\n",
              " (46.52215994983612, 21.825177026407726, 8.672097873161588),\n",
              " (46.52215994983612, 21.825177026407726, 34.95446908298739),\n",
              " (73.168683557601, 16.248126193106323, 28.48034522512),\n",
              " (73.168683557601, 16.248126193106323, 10.738657953861775),\n",
              " (73.168683557601, 16.248126193106323, 21.37390198946),\n",
              " (73.168683557601, 16.248126193106323, 8.672097873161588),\n",
              " (73.168683557601, 16.248126193106323, 34.95446908298739),\n",
              " (73.168683557601, 38.34032312633003, 28.48034522512),\n",
              " (73.168683557601, 38.34032312633003, 10.738657953861775),\n",
              " (73.168683557601, 38.34032312633003, 21.37390198946),\n",
              " (73.168683557601, 38.34032312633003, 8.672097873161588),\n",
              " (73.168683557601, 38.34032312633003, 34.95446908298739),\n",
              " (73.168683557601, 29.39262238556281, 28.48034522512),\n",
              " (73.168683557601, 29.39262238556281, 10.738657953861775),\n",
              " (73.168683557601, 29.39262238556281, 21.37390198946),\n",
              " (73.168683557601, 29.39262238556281, 8.672097873161588),\n",
              " (73.168683557601, 29.39262238556281, 34.95446908298739),\n",
              " (73.168683557601, 46.4239117734128, 28.48034522512),\n",
              " (73.168683557601, 46.4239117734128, 10.738657953861775),\n",
              " (73.168683557601, 46.4239117734128, 21.37390198946),\n",
              " (73.168683557601, 46.4239117734128, 8.672097873161588),\n",
              " (73.168683557601, 46.4239117734128, 34.95446908298739),\n",
              " (73.168683557601, 21.825177026407726, 28.48034522512),\n",
              " (73.168683557601, 21.825177026407726, 10.738657953861775),\n",
              " (73.168683557601, 21.825177026407726, 21.37390198946),\n",
              " (73.168683557601, 21.825177026407726, 8.672097873161588),\n",
              " (73.168683557601, 21.825177026407726, 34.95446908298739),\n",
              " (37.13968213082788, 16.248126193106323, 28.48034522512),\n",
              " (37.13968213082788, 16.248126193106323, 10.738657953861775),\n",
              " (37.13968213082788, 16.248126193106323, 21.37390198946),\n",
              " (37.13968213082788, 16.248126193106323, 8.672097873161588),\n",
              " (37.13968213082788, 16.248126193106323, 34.95446908298739),\n",
              " (37.13968213082788, 38.34032312633003, 28.48034522512),\n",
              " (37.13968213082788, 38.34032312633003, 10.738657953861775),\n",
              " (37.13968213082788, 38.34032312633003, 21.37390198946),\n",
              " (37.13968213082788, 38.34032312633003, 8.672097873161588),\n",
              " (37.13968213082788, 38.34032312633003, 34.95446908298739),\n",
              " (37.13968213082788, 29.39262238556281, 28.48034522512),\n",
              " (37.13968213082788, 29.39262238556281, 10.738657953861775),\n",
              " (37.13968213082788, 29.39262238556281, 21.37390198946),\n",
              " (37.13968213082788, 29.39262238556281, 8.672097873161588),\n",
              " (37.13968213082788, 29.39262238556281, 34.95446908298739),\n",
              " (37.13968213082788, 46.4239117734128, 28.48034522512),\n",
              " (37.13968213082788, 46.4239117734128, 10.738657953861775),\n",
              " (37.13968213082788, 46.4239117734128, 21.37390198946),\n",
              " (37.13968213082788, 46.4239117734128, 8.672097873161588),\n",
              " (37.13968213082788, 46.4239117734128, 34.95446908298739),\n",
              " (37.13968213082788, 21.825177026407726, 28.48034522512),\n",
              " (37.13968213082788, 21.825177026407726, 10.738657953861775),\n",
              " (37.13968213082788, 21.825177026407726, 21.37390198946),\n",
              " (37.13968213082788, 21.825177026407726, 8.672097873161588),\n",
              " (37.13968213082788, 21.825177026407726, 34.95446908298739),\n",
              " (31.329059532000002, 16.248126193106323, 28.48034522512),\n",
              " (31.329059532000002, 16.248126193106323, 10.738657953861775),\n",
              " (31.329059532000002, 16.248126193106323, 21.37390198946),\n",
              " (31.329059532000002, 16.248126193106323, 8.672097873161588),\n",
              " (31.329059532000002, 16.248126193106323, 34.95446908298739),\n",
              " (31.329059532000002, 38.34032312633003, 28.48034522512),\n",
              " (31.329059532000002, 38.34032312633003, 10.738657953861775),\n",
              " (31.329059532000002, 38.34032312633003, 21.37390198946),\n",
              " (31.329059532000002, 38.34032312633003, 8.672097873161588),\n",
              " (31.329059532000002, 38.34032312633003, 34.95446908298739),\n",
              " (31.329059532000002, 29.39262238556281, 28.48034522512),\n",
              " (31.329059532000002, 29.39262238556281, 10.738657953861775),\n",
              " (31.329059532000002, 29.39262238556281, 21.37390198946),\n",
              " (31.329059532000002, 29.39262238556281, 8.672097873161588),\n",
              " (31.329059532000002, 29.39262238556281, 34.95446908298739),\n",
              " (31.329059532000002, 46.4239117734128, 28.48034522512),\n",
              " (31.329059532000002, 46.4239117734128, 10.738657953861775),\n",
              " (31.329059532000002, 46.4239117734128, 21.37390198946),\n",
              " (31.329059532000002, 46.4239117734128, 8.672097873161588),\n",
              " (31.329059532000002, 46.4239117734128, 34.95446908298739),\n",
              " (31.329059532000002, 21.825177026407726, 28.48034522512),\n",
              " (31.329059532000002, 21.825177026407726, 10.738657953861775),\n",
              " (31.329059532000002, 21.825177026407726, 21.37390198946),\n",
              " (31.329059532000002, 21.825177026407726, 8.672097873161588),\n",
              " (31.329059532000002, 21.825177026407726, 34.95446908298739),\n",
              " (22.895868412345667, 41.07853011329844, 28.48034522512),\n",
              " (22.895868412345667, 41.07853011329844, 34.95446908298739),\n",
              " (22.895868412345667, 41.07853011329844, 9.311286939430483),\n",
              " (22.895868412345667, 41.07853011329844, 21.37390198946),\n",
              " (22.895868412345667, 6.604380522903071, 28.48034522512),\n",
              " (22.895868412345667, 6.604380522903071, 34.95446908298739),\n",
              " (22.895868412345667, 6.604380522903071, 9.311286939430483),\n",
              " (22.895868412345667, 6.604380522903071, 21.37390198946),\n",
              " (22.895868412345667, 18.114267096769144, 28.48034522512),\n",
              " (22.895868412345667, 18.114267096769144, 34.95446908298739),\n",
              " (22.895868412345667, 18.114267096769144, 9.311286939430483),\n",
              " (22.895868412345667, 18.114267096769144, 21.37390198946),\n",
              " (22.895868412345667, 29.821367733555533, 28.48034522512),\n",
              " (22.895868412345667, 29.821367733555533, 34.95446908298739),\n",
              " (22.895868412345667, 29.821367733555533, 9.311286939430483),\n",
              " (22.895868412345667, 29.821367733555533, 21.37390198946),\n",
              " (57.33716017944, 41.07853011329844, 28.48034522512),\n",
              " (57.33716017944, 41.07853011329844, 34.95446908298739),\n",
              " (57.33716017944, 41.07853011329844, 9.311286939430483),\n",
              " (57.33716017944, 41.07853011329844, 21.37390198946),\n",
              " (57.33716017944, 6.604380522903071, 28.48034522512),\n",
              " (57.33716017944, 6.604380522903071, 34.95446908298739),\n",
              " (57.33716017944, 6.604380522903071, 9.311286939430483),\n",
              " (57.33716017944, 6.604380522903071, 21.37390198946),\n",
              " (57.33716017944, 18.114267096769144, 28.48034522512),\n",
              " (57.33716017944, 18.114267096769144, 34.95446908298739),\n",
              " (57.33716017944, 18.114267096769144, 9.311286939430483),\n",
              " (57.33716017944, 18.114267096769144, 21.37390198946),\n",
              " (57.33716017944, 29.821367733555533, 28.48034522512),\n",
              " (57.33716017944, 29.821367733555533, 34.95446908298739),\n",
              " (57.33716017944, 29.821367733555533, 9.311286939430483),\n",
              " (57.33716017944, 29.821367733555533, 21.37390198946),\n",
              " (-6.007821720359999, 41.07853011329844, 28.48034522512),\n",
              " (-6.007821720359999, 41.07853011329844, 34.95446908298739),\n",
              " (-6.007821720359999, 41.07853011329844, 9.311286939430483),\n",
              " (-6.007821720359999, 41.07853011329844, 21.37390198946),\n",
              " (-6.007821720359999, 6.604380522903071, 28.48034522512),\n",
              " (-6.007821720359999, 6.604380522903071, 34.95446908298739),\n",
              " (-6.007821720359999, 6.604380522903071, 9.311286939430483),\n",
              " (-6.007821720359999, 6.604380522903071, 21.37390198946),\n",
              " (-6.007821720359999, 18.114267096769144, 28.48034522512),\n",
              " (-6.007821720359999, 18.114267096769144, 34.95446908298739),\n",
              " (-6.007821720359999, 18.114267096769144, 9.311286939430483),\n",
              " (-6.007821720359999, 18.114267096769144, 21.37390198946),\n",
              " (-6.007821720359999, 29.821367733555533, 28.48034522512),\n",
              " (-6.007821720359999, 29.821367733555533, 34.95446908298739),\n",
              " (-6.007821720359999, 29.821367733555533, 9.311286939430483),\n",
              " (-6.007821720359999, 29.821367733555533, 21.37390198946),\n",
              " (13.160319764730637, 41.07853011329844, 28.48034522512),\n",
              " (13.160319764730637, 41.07853011329844, 34.95446908298739),\n",
              " (13.160319764730637, 41.07853011329844, 9.311286939430483),\n",
              " (13.160319764730637, 41.07853011329844, 21.37390198946),\n",
              " (13.160319764730637, 6.604380522903071, 28.48034522512),\n",
              " (13.160319764730637, 6.604380522903071, 34.95446908298739),\n",
              " (13.160319764730637, 6.604380522903071, 9.311286939430483),\n",
              " (13.160319764730637, 6.604380522903071, 21.37390198946),\n",
              " (13.160319764730637, 18.114267096769144, 28.48034522512),\n",
              " (13.160319764730637, 18.114267096769144, 34.95446908298739),\n",
              " (13.160319764730637, 18.114267096769144, 9.311286939430483),\n",
              " (13.160319764730637, 18.114267096769144, 21.37390198946),\n",
              " (13.160319764730637, 29.821367733555533, 28.48034522512),\n",
              " (13.160319764730637, 29.821367733555533, 34.95446908298739),\n",
              " (13.160319764730637, 29.821367733555533, 9.311286939430483),\n",
              " (13.160319764730637, 29.821367733555533, 21.37390198946)]"
            ]
          },
          "metadata": {},
          "execution_count": 19
        }
      ]
    },
    {
      "cell_type": "code",
      "source": [
        "# Why am I getting some negative coordinates --> Because we have negative weights in fort files"
      ],
      "metadata": {
        "id": "2rC29ZNZR8Bh"
      },
      "execution_count": null,
      "outputs": []
    },
    {
      "cell_type": "markdown",
      "source": [
        "# Validation scheme"
      ],
      "metadata": {
        "id": "OVYG0nwuSBqj"
      }
    },
    {
      "cell_type": "code",
      "source": [
        "def sumGaussians(xInPlot1, plot2coords, sigma): # xInPlot1 is tuple containing coordinates of a point in plot 1\n",
        "                                                # plot2coords are coordinates of point in second plot\n",
        "                                                # sigma is standard deviation of Gaussians considered\n",
        "  beta = 1./(sigma * np.sqrt(2*np.pi)) # amplitude of gaussian\n",
        "\n",
        "  xInPlot1 = np.array(xInPlot1) # Converting the tuple into \n",
        "  sum_Gauss = 0 # variable for summing up all the Gaussian function values of x\n",
        "  for x_ in plot2coords: # x_ is a tuple containing coordinates of a point in second plot\n",
        "    x_ = np.array(x_)\n",
        "    Gauss = beta * np.exp((xInPlot1 - x_)**2) / (2. * sigma**2)\n",
        "    sum_Gauss += np.prod(Gauss)\n",
        "\n",
        "  return sum_Gauss"
      ],
      "metadata": {
        "id": "gDvoH3FBwdz6"
      },
      "execution_count": null,
      "outputs": []
    },
    {
      "cell_type": "code",
      "source": [
        "# Calculating the inner product and using slider\n",
        "\n",
        "def update_result(sigma__):\n",
        "  \n",
        "  innerprod = 0 # This variable will store the final inner product\n",
        "  normalize1 = 0 # L2 norm of sum of Gaussians for x (a point in plot1) on first graph\n",
        "  normalize2 = 0 # L2 norm of sum of Gaussians for x (a point in plot1) on second graph\n",
        "  sigma = sigma__ # width of Gaussian\n",
        "\n",
        "  for n in range(len(plot1coords)): # n-th row in plot1coords  # plot1coords has not been defined earlier\n",
        "    xInPlot1 = plot1coords[n] # x a point in plot1\n",
        "    innerprod += ( sumGaussians(xInPlot1=xInPlot1, plot2coords=plot1coords, sigma=sigma) * \n",
        "                  sumGaussians(xInPlot1=xInPlot1, plot2coords=plot2coords, sigma=sigma) )\n",
        "\n",
        "    normalize1 += sumGaussians(xInPlot1=xInPlot1, plot2coords=plot1coords, sigma=sigma)**2\n",
        "    normalize2 += sumGaussians(xInPlot1=xInPlot1, plot2coords=plot2coords, sigma=sigma)**2\n",
        "\n",
        "  # innerprod is unnormalized as of now\n",
        "  normalize1 = np.sqrt(normalize1)\n",
        "  normalize2 = np.sqrt(normalize2)\n",
        "  normalize = normalize1 * normalize2 # dividing innerprod with normalize will lead to normalized innerprod\n",
        "\n",
        "  innerprod /= normalize\n",
        "  print(\"Inner product of both plots is \" + str(innerprod))\n",
        "\n",
        "import ipywidgets as wig\n",
        "from IPython.display import display\n",
        "layout = wig.Layout(width='1000px')\n",
        "\n",
        "## DEFINE gridsize ##\n",
        "\n",
        "sigma_ = wig.FloatSlider(description = \"sigma\", value = 0.1*gridsize, min = 0.01*gridsize,\n",
        "                         max = 0.2*gridsize, step = 0.01, layout = layout) # relating sigma to gridsize\n",
        "wig.interact(update_result, sigma__=sigma_) # Note that for very large value of sigma (which should not be taken) \n",
        "                                            # we are getting less overlap obviously"
      ],
      "metadata": {
        "colab": {
          "base_uri": "https://localhost:8080/"
        },
        "id": "3LVnF2l7z6Fa",
        "outputId": "39ae5ccc-9328-4990-a3ab-d5fc265c12d4"
      },
      "execution_count": null,
      "outputs": [
        {
          "output_type": "execute_result",
          "data": {
            "text/plain": [
              "array([-6, -5, -4])"
            ]
          },
          "metadata": {},
          "execution_count": 13
        }
      ]
    },
    {
      "cell_type": "code",
      "source": [
        ""
      ],
      "metadata": {
        "id": "Q-lT8VzRz_8H"
      },
      "execution_count": null,
      "outputs": []
    }
  ]
}