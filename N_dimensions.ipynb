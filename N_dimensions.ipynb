{
  "cells": [
    {
      "cell_type": "markdown",
      "metadata": {
        "id": "SfvybW5JxpRN"
      },
      "source": [
        "# Creating regular grid"
      ]
    },
    {
      "cell_type": "markdown",
      "metadata": {
        "id": "z3KCqRO6YQtm"
      },
      "source": [
        "## Part 1 - Extracting a 1d grid from files"
      ]
    },
    {
      "cell_type": "markdown",
      "metadata": {
        "id": "4KUExgiaZ3VY"
      },
      "source": [
        "Finding the number of dimensions (D) being considered in Nicole.inp"
      ]
    },
    {
      "cell_type": "code",
      "execution_count": null,
      "metadata": {
        "colab": {
          "base_uri": "https://localhost:8080/"
        },
        "id": "ieIHiVftYPtk",
        "outputId": "08b2d41b-f810-4e3f-86a5-0f2f97e70337"
      },
      "outputs": [
        {
          "output_type": "stream",
          "name": "stdout",
          "text": [
            "/content/drive/MyDrive/4D_files\n"
          ]
        }
      ],
      "source": [
        "# %cd .../From-Nicole/3D/0.012 # go inside the directory that is named by the SVR cutoff \n",
        "                               # choosing SVR cutoff = 0.012 here\n",
        "%cd /content/drive/MyDrive/4D_files/\n",
        "\n",
        "def find_D(inputFile): # inputFile will take in Nicole.inp\n",
        "  inputInfo = open(inputFile, 'r').readlines() # 'r' stands for read # This command will make \n",
        "                                          # a list of strings where each string is a \n",
        "                                          # particular line in inputFile\n",
        "  firstline = inputInfo[0].strip() # extracts first line and removes \\n\n",
        "  D = firstline.split()[0] # Making a list of each element of first line\n",
        "                           # and extracting the  first element of this list\n",
        "  return int(D)"
      ]
    },
    {
      "cell_type": "code",
      "execution_count": null,
      "metadata": {
        "colab": {
          "base_uri": "https://localhost:8080/"
        },
        "id": "TIzpHyka4nJx",
        "outputId": "45dbc60a-d92c-403d-a6b0-6803861b5b31"
      },
      "outputs": [
        {
          "output_type": "stream",
          "name": "stdout",
          "text": [
            "Here we are dealing with a 4 dimensional problem\n"
          ]
        }
      ],
      "source": [
        "print(\"Here we are dealing with a \" + str(find_D(\"Nicole.inp\")) + \" dimensional problem\")"
      ]
    },
    {
      "cell_type": "markdown",
      "metadata": {
        "id": "0qK5o5Paa3uM"
      },
      "source": [
        "For each 1D grid (labelled by indices $i_1, i_2, ...i_{N-1}$ at most) we will have to extract the $(i_1, i_2, ...i_{N-1})$ th element(s) from each of fort.$10x$, fort.$20x$, fort.$30\\underline{N-1}$ files $∀ x$ "
      ]
    },
    {
      "cell_type": "code",
      "execution_count": null,
      "metadata": {
        "id": "QKHH2_RVZ7Xa"
      },
      "outputs": [],
      "source": [
        "import numpy as np\n",
        "\n",
        "def element_from_10x(xInFort10x, indices_list): # xInFort10x is the value of x in fort.10x data file (also, they are 2d arrays).\n",
        "                                                # So we get the file name by doing \"fort.10\" + str(xInFort10x).\n",
        "                                                # xInFort10x would go from 1 to D-1\n",
        "                                                # indices_list contains the list of hidden indices\n",
        "  if xInFort10x == 1: # fort.101 is for a 2d tensor\n",
        "    i_1 = indices_list[0] # Index of the first 2d tensor\n",
        "    \n",
        "    element = np.loadtxt(\"fort.101\")[:, i_1]\n",
        "  else: # fort.10x is for a 3d tensor\n",
        "    # The indices corresponding to this tensor will be i_(xInFort10x-1), i_(xInFort10x)\n",
        "    i_xInFort10xMinus1 = indices_list[xInFort10x - 2] # -2 since indexing in a list starts with zero\n",
        "    i_xInFort10x = indices_list[xInFort10x - 1] # -1 since indexing in a list starts with zero\n",
        "\n",
        "    num = int( np.loadtxt(\"fort.20\"+str(xInFort10x - 1)).shape[0] ) # Number of different values that i_xInFort10xMinus1 can take\n",
        "    start = int (i_xInFort10xMinus1 * \n",
        "                 (np.loadtxt(\"fort.10\" + str(xInFort10x)).shape[0]) / num )\n",
        "    stop = int( (i_xInFort10xMinus1 + 1) *\n",
        "               (np.loadtxt(\"fort.10\" + str(xInFort10x)).shape[0]) / num )\n",
        "    element = np.loadtxt(\"fort.10\" + str(xInFort10x))[start:stop, i_xInFort10x]\n",
        "  return element\n",
        "\n",
        "def element_from_20x(xInFort20x, indices_list): # xInFort20x is the value of x in fort.20x data file (also, they are 1d arrays)\n",
        "                                                # So we get the file name by doing \"fort.20\" + str(xInFort20x)\n",
        "                                                # xInFort20x would go from 1 to D-1.\n",
        "                                                # indices_list contains the list of hidden indices\n",
        "  # We must extract the yth element from fort.20x where y = xInFort20x-th element from indices_list\n",
        "  # since all fort.20x files are labelled by one index only\n",
        "  y = indices_list[xInFort20x-1] # -1 since indexing in a list starts with zero\n",
        "  \n",
        "  element = np.loadtxt(\"fort.20\" + str(xInFort20x))[y]\n",
        "  return element\n",
        "\n",
        "def element_from_30Dminus1(indices_list): # fort.30(D-1) is a 2d array for a 2d tensor\n",
        "                                          # indices_list contains the list of hidden indices\n",
        "                                          # D is the total number of dimensions being considered\n",
        "  i_Nminus1 = indices_list[-1] # Index of the last 2d tensor\n",
        "  \n",
        "  D = find_D(\"Nicole.inp\")\n",
        "  element = np.loadtxt(\"fort.30\" + str(D-1))[i_Nminus1, :]\n",
        "  return element"
      ]
    },
    {
      "cell_type": "code",
      "execution_count": null,
      "metadata": {
        "colab": {
          "base_uri": "https://localhost:8080/"
        },
        "id": "5dIMcco5Tsfm",
        "outputId": "aae97c6f-2cbe-4f1e-cec5-96ad44187c56"
      },
      "outputs": [
        {
          "output_type": "execute_result",
          "data": {
            "text/plain": [
              "0.014360693763073494"
            ]
          },
          "metadata": {},
          "execution_count": 7
        }
      ],
      "source": [
        "np.sum(element_from_10x(2, [2, 0, 1])*element_from_10x(2, [2, 2, 1]))"
      ]
    },
    {
      "cell_type": "markdown",
      "metadata": {
        "id": "yV9g5sazYwSq"
      },
      "source": [
        "## Part 1.33 - creating a 1D grid using 1D weights"
      ]
    },
    {
      "cell_type": "code",
      "execution_count": null,
      "metadata": {
        "id": "my7pOWjGY9TQ"
      },
      "outputs": [],
      "source": [
        "import numpy as np\n",
        "from sklearn.cluster import KMeans\n",
        "\n",
        "def create_dim1_grid(dim1_weights, num_clusters_1d): # dim1_array would take in the 1d weights\n",
        "                                                     # num_clusters_1d would be determined by subroutine which would have\n",
        "                                                     # used the singular values tensor for this determining.\n",
        "  \n",
        "  len_grid = dim1_weights.shape[0] # the grid will have points, equal in number to weights, spaced by 1 unit\n",
        "  unclustered_grid = np.arange(len_grid)\n",
        "  unclustered_grid = np.reshape(unclustered_grid, (len_grid, 1))\n",
        "  #dim1_array = np.reshape(dim1_weights, (len_grid, 1)) # don't do this since weights must be 1d array in KMeans\n",
        "\n",
        "  kmeans_dim1 = KMeans( n_clusters=num_clusters_1d, \n",
        "                       tol=1e-12 ).fit( unclustered_grid, sample_weight=dim1_weights )\n",
        "  return kmeans_dim1.cluster_centers_"
      ]
    },
    {
      "cell_type": "code",
      "execution_count": null,
      "metadata": {
        "colab": {
          "base_uri": "https://localhost:8080/"
        },
        "id": "bGA1RJb6vBei",
        "outputId": "5cdd2267-4fb6-487e-bdd8-30fb608c6efb"
      },
      "outputs": [
        {
          "output_type": "stream",
          "name": "stdout",
          "text": [
            "[[47.05151037]\n",
            " [24.        ]\n",
            " [24.85651475]\n",
            " [22.39233667]\n",
            " [-2.60555968]]\n"
          ]
        }
      ],
      "source": [
        "weights = element_from_10x(1, [2, 5, 1]) # We will get the weights from Part 1\n",
        "                                         # Now we need to determine number of clusters, which cannot be arbitrary\n",
        "print(create_dim1_grid(dim1_weights=weights, num_clusters_1d=5))"
      ]
    },
    {
      "cell_type": "code",
      "execution_count": null,
      "metadata": {
        "colab": {
          "base_uri": "https://localhost:8080/",
          "height": 54
        },
        "id": "yuIV9E-TzEJg",
        "outputId": "347f76d2-ad7b-44af-e11d-e1ab4b81a59c"
      },
      "outputs": [
        {
          "output_type": "execute_result",
          "data": {
            "text/plain": [
              "'using fort.801 (product singular values) to determine number of sample points for each grid.\\nfort.801 has a particular ordering. Then take n-th root of the element'"
            ],
            "application/vnd.google.colaboratory.intrinsic+json": {
              "type": "string"
            }
          },
          "metadata": {},
          "execution_count": 10
        }
      ],
      "source": [
        "'''using fort.801 (product singular values) to determine number of sample points for each grid.\n",
        "fort.801 has a particular ordering. Then take n-th root of the element'''"
      ]
    },
    {
      "cell_type": "code",
      "execution_count": null,
      "metadata": {
        "id": "5njmLX1wT2Vj"
      },
      "outputs": [],
      "source": [
        "# The user will give total number of points in direct product grid\n",
        "num_clusters_total = 150\n",
        "\n",
        "def findNumClusters1d(indices_list, num_clusters_total=num_clusters_total): # to find the number of cluster points in 1d array\n",
        "            # Every index in first two columns of fort.801 is one more than what I have used \n",
        "            # since I have started indices from zero and they from one\n",
        "\n",
        "  # Code for extracting product singular value from normaized fort.801 taking as input indices_list\n",
        "  file_801 = np.loadtxt(\"fort.801\")\n",
        "  \n",
        "  num_combinations = file_801.shape[0] # number of rows in fort.801\n",
        "  D = find_D(\"Nicole.inp\")\n",
        "  for comb in range(num_combinations):\n",
        "    if list(file_801[comb, 0:D-1] - 1) == indices_list: # cols 0 to D-2 will contain values of hidden variables.\n",
        "                                              # There is a -1 because indices in fort.801 start from 1 whereas I start them from 0\n",
        "      PSV = float(file_801[comb, -1]) # This is the product singular value\n",
        "  # Using this PSV\n",
        "  num_clusters_layer = PSV * num_clusters_total # Number of clusters in this particular layer\n",
        "  num_clusters_1d = int(num_clusters_layer ** (1./D)) # Dth root of number of clusters in that entire layer\n",
        "  return num_clusters_1d"
      ]
    },
    {
      "cell_type": "code",
      "execution_count": null,
      "metadata": {
        "colab": {
          "base_uri": "https://localhost:8080/"
        },
        "id": "g7iAS_vAQQF6",
        "outputId": "e263b3e1-194a-496c-9b4b-01052fc5883d"
      },
      "outputs": [
        {
          "output_type": "execute_result",
          "data": {
            "text/plain": [
              "array([[14.5864627 ],\n",
              "       [26.52608239]])"
            ]
          },
          "metadata": {},
          "execution_count": 12
        }
      ],
      "source": [
        "# Now I can create any 1 dimensional grid\n",
        "create_dim1_grid(dim1_weights=element_from_30Dminus1([2, 2, 15]), num_clusters_1d=findNumClusters1d([2, 2, 15]))"
      ]
    },
    {
      "cell_type": "markdown",
      "metadata": {
        "id": "xB5VrJR1YMAz"
      },
      "source": [
        "## Part 1.67 - Constructing a particlular layer. In case of N Dimensional sampling function, each layer is defined by N-1 parameters. eg: In case of 3D, each layer is defined by (i, j)"
      ]
    },
    {
      "cell_type": "code",
      "execution_count": null,
      "metadata": {
        "id": "H8jH5N-4YMW-"
      },
      "outputs": [],
      "source": [
        "# create a function that stacks all 1d arrays of a particular layer side-by-side\n",
        "def StackLayerComponents(indices_list): # since each layer is defined by N-1 indices\n",
        "  num_clusters_1d = findNumClusters1d(indices_list=indices_list) # Number of dimensions in 1d arrays\n",
        "  \n",
        "  D = find_D(\"Nicole.inp\")\n",
        "  All_1dGrids = np.zeros((num_clusters_1d, D)) # num_clusters_1d rows and D columns: each column is a 1d grid\n",
        "\n",
        "  for xInFort10x in range(1, D): # fort.101 to fort.10(D-1)\n",
        "    weights = element_from_10x( xInFort10x=xInFort10x, indices_list=indices_list )\n",
        "    grid_1d = create_dim1_grid(dim1_weights=weights, num_clusters_1d=num_clusters_1d)\n",
        "    All_1dGrids[:, xInFort10x-1] = grid_1d.flatten() # Can use .flatten() or ravel() to convert 2d array \n",
        "                                                     # to 1d (just suppressing one dimension here)\n",
        "\n",
        "  weights = element_from_30Dminus1(indices_list)\n",
        "  grid_1d = create_dim1_grid(dim1_weights=weights, num_clusters_1d=num_clusters_1d)\n",
        "  All_1dGrids[:, D-1] = grid_1d.flatten() # Can use .flatten() or ravel() to convert 2d array \n",
        "                                          # to 1d (just suppressing one dimension here)\n",
        "  return All_1dGrids"
      ]
    },
    {
      "cell_type": "code",
      "execution_count": null,
      "metadata": {
        "colab": {
          "base_uri": "https://localhost:8080/"
        },
        "id": "uNf8oYJPrqa-",
        "outputId": "3974b7d1-6e6c-4bc5-83d9-b0d2ebf70625"
      },
      "outputs": [
        {
          "data": {
            "text/plain": [
              "array([ 3.24398576, 31.91770445])"
            ]
          },
          "execution_count": 54,
          "metadata": {},
          "output_type": "execute_result"
        }
      ],
      "source": [
        "StackLayerComponents([2, 2, 15])[:, 2]\n",
        "# (StackLayerComponents([0, 3])).shape\n",
        "# using this cell you can note that all All_1d grdis have D columns \n",
        "# because each summation term in TN decomposition has D terms. \n",
        "\n",
        "# Also note that every 1d grid has same number of clustered points"
      ]
    },
    {
      "cell_type": "code",
      "execution_count": null,
      "metadata": {
        "id": "qdbEdxBQBBvT"
      },
      "outputs": [],
      "source": [
        "def create_layer(indices_list):\n",
        "  layer_points = [] # This list will contain the final coordinates of points in the layer\n",
        "\n",
        "  All_1dGrids = StackLayerComponents(indices_list=indices_list)\n",
        "  \n",
        "  # Since we want to use itertools.product, we must convert arrays to lists\n",
        "  All_1dGrids_list = []\n",
        "  D = find_D(\"Nicole.inp\")\n",
        "  for n in range(D): # selecting the n-th grid out of D 1d grids\n",
        "    grid_1d = list( All_1dGrids[:, n] )\n",
        "    All_1dGrids_list.append(grid_1d)\n",
        "\n",
        "  from itertools import product\n",
        "  for coordinate in product(*All_1dGrids_list):\n",
        "    layer_points.append(coordinate)\n",
        "  \n",
        "  return layer_points"
      ]
    },
    {
      "cell_type": "code",
      "execution_count": null,
      "metadata": {
        "colab": {
          "base_uri": "https://localhost:8080/"
        },
        "id": "f2jUWB9xDOUj",
        "outputId": "b78aad2e-12b3-4058-a21d-e930f6b269d3"
      },
      "outputs": [
        {
          "data": {
            "text/plain": [
              "[(-1.0088747379558924,\n",
              "  10.408071135764922,\n",
              "  31.91770444551965,\n",
              "  14.586462697521737),\n",
              " (-1.0088747379558924, 10.408071135764922, 31.91770444551965, 26.526082392105),\n",
              " (-1.0088747379558924,\n",
              "  10.408071135764922,\n",
              "  3.243985755276114,\n",
              "  14.586462697521737),\n",
              " (-1.0088747379558924, 10.408071135764922, 3.243985755276114, 26.526082392105),\n",
              " (-1.0088747379558924,\n",
              "  34.140668306703816,\n",
              "  31.91770444551965,\n",
              "  14.586462697521737),\n",
              " (-1.0088747379558924, 34.140668306703816, 31.91770444551965, 26.526082392105),\n",
              " (-1.0088747379558924,\n",
              "  34.140668306703816,\n",
              "  3.243985755276114,\n",
              "  14.586462697521737),\n",
              " (-1.0088747379558924, 34.140668306703816, 3.243985755276114, 26.526082392105),\n",
              " (33.630162773066004,\n",
              "  10.408071135764922,\n",
              "  31.91770444551965,\n",
              "  14.586462697521737),\n",
              " (33.630162773066004, 10.408071135764922, 31.91770444551965, 26.526082392105),\n",
              " (33.630162773066004,\n",
              "  10.408071135764922,\n",
              "  3.243985755276114,\n",
              "  14.586462697521737),\n",
              " (33.630162773066004, 10.408071135764922, 3.243985755276114, 26.526082392105),\n",
              " (33.630162773066004,\n",
              "  34.140668306703816,\n",
              "  31.91770444551965,\n",
              "  14.586462697521737),\n",
              " (33.630162773066004, 34.140668306703816, 31.91770444551965, 26.526082392105),\n",
              " (33.630162773066004,\n",
              "  34.140668306703816,\n",
              "  3.243985755276114,\n",
              "  14.586462697521737),\n",
              " (33.630162773066004, 34.140668306703816, 3.243985755276114, 26.526082392105)]"
            ]
          },
          "execution_count": 57,
          "metadata": {},
          "output_type": "execute_result"
        }
      ],
      "source": [
        "create_layer([2, 2, 15])"
      ]
    },
    {
      "cell_type": "markdown",
      "metadata": {
        "id": "2bHUD2W4Y1xw"
      },
      "source": [
        "## Part 2 - Combining all layers to get regular grid. This is where the fort.20x files will come in use, while weighting each layer with $(\\text{fort.201})_{i_1} \\times (\\text{fort.202})_{i_2} \\times..... \\times (\\text{fort.20}{\\underline{D-1}})_{i_{D-1}}$"
      ]
    },
    {
      "cell_type": "code",
      "execution_count": null,
      "metadata": {
        "id": "BKhOzIVZZZZC"
      },
      "outputs": [],
      "source": [
        "# We will have to take weighted union of each layer over permutation of indices_list\n",
        "def createRegularGrid(num_clusters_total):\n",
        "\n",
        "  file_801 = np.loadtxt(\"fort.801\")\n",
        "  num_combinations = file_801.shape[0] # number of rows in fort.801\n",
        "  D = find_D(\"Nicole.inp\")\n",
        "\n",
        "  regular_grid = [] # The list containing coordinates of all points in the regular grid\n",
        "  for comb in range(num_combinations):\n",
        "      indices_list = list(file_801[comb, 0:D-1] - 1) # cols 0 to D-2 will contain values of hidden variables.\n",
        "                                                # There is a -1 because indices in fort.801 start from 1 whereas I start them from 0\n",
        "\n",
        "      # The indices_list will have floats because list() generates float. So we must convert them to int\n",
        "      for index in range(len(indices_list)):\n",
        "        indices_list[index] = int(indices_list[index])\n",
        "      # Now extract coordinates of points in this layer\n",
        "      for coordinate_ in create_layer(indices_list=indices_list): # appending each and every point of each and every layer\n",
        "        regular_grid.append(coordinate_)\n",
        "  return regular_grid\n"
      ]
    },
    {
      "cell_type": "code",
      "execution_count": null,
      "metadata": {
        "colab": {
          "base_uri": "https://localhost:8080/",
          "height": 514
        },
        "id": "tUSUrYrfqQ2s",
        "outputId": "e1ff0ec2-2d4b-4c38-95ef-ec436d72dca4"
      },
      "outputs": [
        {
          "name": "stderr",
          "output_type": "stream",
          "text": [
            "/usr/local/lib/python3.7/dist-packages/ipykernel_launcher.py:14: ConvergenceWarning: Number of distinct clusters (1) found smaller than n_clusters (2). Possibly due to duplicate points in X.\n",
            "  \n",
            "/usr/local/lib/python3.7/dist-packages/ipykernel_launcher.py:14: ConvergenceWarning: Number of distinct clusters (1) found smaller than n_clusters (2). Possibly due to duplicate points in X.\n",
            "  \n",
            "/usr/local/lib/python3.7/dist-packages/ipykernel_launcher.py:14: ConvergenceWarning: Number of distinct clusters (1) found smaller than n_clusters (2). Possibly due to duplicate points in X.\n",
            "  \n",
            "/usr/local/lib/python3.7/dist-packages/ipykernel_launcher.py:14: ConvergenceWarning: Number of distinct clusters (1) found smaller than n_clusters (2). Possibly due to duplicate points in X.\n",
            "  \n",
            "/usr/local/lib/python3.7/dist-packages/sklearn/cluster/_kmeans.py:191: RuntimeWarning: divide by zero encountered in log\n",
            "  n_local_trials = 2 + int(np.log(n_clusters))\n"
          ]
        },
        {
          "ename": "OverflowError",
          "evalue": "ignored",
          "output_type": "error",
          "traceback": [
            "\u001b[0;31m---------------------------------------------------------------------------\u001b[0m",
            "\u001b[0;31mOverflowError\u001b[0m                             Traceback (most recent call last)",
            "\u001b[0;32m<ipython-input-59-55646b1866a0>\u001b[0m in \u001b[0;36m<module>\u001b[0;34m\u001b[0m\n\u001b[0;32m----> 1\u001b[0;31m \u001b[0mcreateRegularGrid\u001b[0m\u001b[0;34m(\u001b[0m\u001b[0mnum_clusters_total\u001b[0m\u001b[0;34m=\u001b[0m\u001b[0;36m150\u001b[0m\u001b[0;34m)\u001b[0m\u001b[0;34m\u001b[0m\u001b[0;34m\u001b[0m\u001b[0m\n\u001b[0m",
            "\u001b[0;32m<ipython-input-58-39b74852e940>\u001b[0m in \u001b[0;36mcreateRegularGrid\u001b[0;34m(num_clusters_total)\u001b[0m\n\u001b[1;32m     15\u001b[0m         \u001b[0mindices_list\u001b[0m\u001b[0;34m[\u001b[0m\u001b[0mindex\u001b[0m\u001b[0;34m]\u001b[0m \u001b[0;34m=\u001b[0m \u001b[0mint\u001b[0m\u001b[0;34m(\u001b[0m\u001b[0mindices_list\u001b[0m\u001b[0;34m[\u001b[0m\u001b[0mindex\u001b[0m\u001b[0;34m]\u001b[0m\u001b[0;34m)\u001b[0m\u001b[0;34m\u001b[0m\u001b[0;34m\u001b[0m\u001b[0m\n\u001b[1;32m     16\u001b[0m       \u001b[0;31m# Now extract coordinates of points in this layer\u001b[0m\u001b[0;34m\u001b[0m\u001b[0;34m\u001b[0m\u001b[0;34m\u001b[0m\u001b[0m\n\u001b[0;32m---> 17\u001b[0;31m       \u001b[0;32mfor\u001b[0m \u001b[0mcoordinate_\u001b[0m \u001b[0;32min\u001b[0m \u001b[0mcreate_layer\u001b[0m\u001b[0;34m(\u001b[0m\u001b[0mindices_list\u001b[0m\u001b[0;34m=\u001b[0m\u001b[0mindices_list\u001b[0m\u001b[0;34m)\u001b[0m\u001b[0;34m:\u001b[0m \u001b[0;31m# appending each and every point of each and every layer\u001b[0m\u001b[0;34m\u001b[0m\u001b[0;34m\u001b[0m\u001b[0m\n\u001b[0m\u001b[1;32m     18\u001b[0m         \u001b[0mregular_grid\u001b[0m\u001b[0;34m.\u001b[0m\u001b[0mappend\u001b[0m\u001b[0;34m(\u001b[0m\u001b[0mcoordinate_\u001b[0m\u001b[0;34m)\u001b[0m\u001b[0;34m\u001b[0m\u001b[0;34m\u001b[0m\u001b[0m\n\u001b[1;32m     19\u001b[0m   \u001b[0;32mreturn\u001b[0m \u001b[0mregular_grid\u001b[0m\u001b[0;34m\u001b[0m\u001b[0;34m\u001b[0m\u001b[0m\n",
            "\u001b[0;32m<ipython-input-55-181f7495ffb8>\u001b[0m in \u001b[0;36mcreate_layer\u001b[0;34m(indices_list)\u001b[0m\n\u001b[1;32m      2\u001b[0m   \u001b[0mlayer_points\u001b[0m \u001b[0;34m=\u001b[0m \u001b[0;34m[\u001b[0m\u001b[0;34m]\u001b[0m \u001b[0;31m# This list will contain the final coordinates of points in the layer\u001b[0m\u001b[0;34m\u001b[0m\u001b[0;34m\u001b[0m\u001b[0m\n\u001b[1;32m      3\u001b[0m \u001b[0;34m\u001b[0m\u001b[0m\n\u001b[0;32m----> 4\u001b[0;31m   \u001b[0mAll_1dGrids\u001b[0m \u001b[0;34m=\u001b[0m \u001b[0mStackLayerComponents\u001b[0m\u001b[0;34m(\u001b[0m\u001b[0mindices_list\u001b[0m\u001b[0;34m=\u001b[0m\u001b[0mindices_list\u001b[0m\u001b[0;34m)\u001b[0m\u001b[0;34m\u001b[0m\u001b[0;34m\u001b[0m\u001b[0m\n\u001b[0m\u001b[1;32m      5\u001b[0m \u001b[0;34m\u001b[0m\u001b[0m\n\u001b[1;32m      6\u001b[0m   \u001b[0;31m# Since we want to use itertools.product, we must convert arrays to lists\u001b[0m\u001b[0;34m\u001b[0m\u001b[0;34m\u001b[0m\u001b[0;34m\u001b[0m\u001b[0m\n",
            "\u001b[0;32m<ipython-input-53-2f9d101619f8>\u001b[0m in \u001b[0;36mStackLayerComponents\u001b[0;34m(indices_list)\u001b[0m\n\u001b[1;32m      8\u001b[0m   \u001b[0;32mfor\u001b[0m \u001b[0mxInFort10x\u001b[0m \u001b[0;32min\u001b[0m \u001b[0mrange\u001b[0m\u001b[0;34m(\u001b[0m\u001b[0;36m1\u001b[0m\u001b[0;34m,\u001b[0m \u001b[0mD\u001b[0m\u001b[0;34m)\u001b[0m\u001b[0;34m:\u001b[0m \u001b[0;31m# fort.101 to fort.10(D-1)\u001b[0m\u001b[0;34m\u001b[0m\u001b[0;34m\u001b[0m\u001b[0m\n\u001b[1;32m      9\u001b[0m     \u001b[0mweights\u001b[0m \u001b[0;34m=\u001b[0m \u001b[0melement_from_10x\u001b[0m\u001b[0;34m(\u001b[0m \u001b[0mxInFort10x\u001b[0m\u001b[0;34m=\u001b[0m\u001b[0mxInFort10x\u001b[0m\u001b[0;34m,\u001b[0m \u001b[0mindices_list\u001b[0m\u001b[0;34m=\u001b[0m\u001b[0mindices_list\u001b[0m \u001b[0;34m)\u001b[0m\u001b[0;34m\u001b[0m\u001b[0;34m\u001b[0m\u001b[0m\n\u001b[0;32m---> 10\u001b[0;31m     \u001b[0mgrid_1d\u001b[0m \u001b[0;34m=\u001b[0m \u001b[0mcreate_dim1_grid\u001b[0m\u001b[0;34m(\u001b[0m\u001b[0mdim1_weights\u001b[0m\u001b[0;34m=\u001b[0m\u001b[0mweights\u001b[0m\u001b[0;34m,\u001b[0m \u001b[0mnum_clusters_1d\u001b[0m\u001b[0;34m=\u001b[0m\u001b[0mnum_clusters_1d\u001b[0m\u001b[0;34m)\u001b[0m\u001b[0;34m\u001b[0m\u001b[0;34m\u001b[0m\u001b[0m\n\u001b[0m\u001b[1;32m     11\u001b[0m     \u001b[0mAll_1dGrids\u001b[0m\u001b[0;34m[\u001b[0m\u001b[0;34m:\u001b[0m\u001b[0;34m,\u001b[0m \u001b[0mxInFort10x\u001b[0m\u001b[0;34m-\u001b[0m\u001b[0;36m1\u001b[0m\u001b[0;34m]\u001b[0m \u001b[0;34m=\u001b[0m \u001b[0mgrid_1d\u001b[0m\u001b[0;34m.\u001b[0m\u001b[0mflatten\u001b[0m\u001b[0;34m(\u001b[0m\u001b[0;34m)\u001b[0m \u001b[0;31m# Can use .flatten() or ravel() to convert 2d array\u001b[0m\u001b[0;34m\u001b[0m\u001b[0;34m\u001b[0m\u001b[0m\n\u001b[1;32m     12\u001b[0m                                                      \u001b[0;31m# to 1d (just suppressing one dimension here)\u001b[0m\u001b[0;34m\u001b[0m\u001b[0;34m\u001b[0m\u001b[0;34m\u001b[0m\u001b[0m\n",
            "\u001b[0;32m<ipython-input-37-d1654a81c74c>\u001b[0m in \u001b[0;36mcreate_dim1_grid\u001b[0;34m(dim1_weights, num_clusters_1d)\u001b[0m\n\u001b[1;32m     12\u001b[0m \u001b[0;34m\u001b[0m\u001b[0m\n\u001b[1;32m     13\u001b[0m   kmeans_dim1 = KMeans( n_clusters=num_clusters_1d, \n\u001b[0;32m---> 14\u001b[0;31m                        tol=1e-12 ).fit( unclustered_grid, sample_weight=dim1_weights )\n\u001b[0m\u001b[1;32m     15\u001b[0m   \u001b[0;32mreturn\u001b[0m \u001b[0mkmeans_dim1\u001b[0m\u001b[0;34m.\u001b[0m\u001b[0mcluster_centers_\u001b[0m\u001b[0;34m\u001b[0m\u001b[0;34m\u001b[0m\u001b[0m\n",
            "\u001b[0;32m/usr/local/lib/python3.7/dist-packages/sklearn/cluster/_kmeans.py\u001b[0m in \u001b[0;36mfit\u001b[0;34m(self, X, y, sample_weight)\u001b[0m\n\u001b[1;32m   1178\u001b[0m             \u001b[0;31m# Initialize centers\u001b[0m\u001b[0;34m\u001b[0m\u001b[0;34m\u001b[0m\u001b[0;34m\u001b[0m\u001b[0m\n\u001b[1;32m   1179\u001b[0m             centers_init = self._init_centroids(\n\u001b[0;32m-> 1180\u001b[0;31m                 \u001b[0mX\u001b[0m\u001b[0;34m,\u001b[0m \u001b[0mx_squared_norms\u001b[0m\u001b[0;34m=\u001b[0m\u001b[0mx_squared_norms\u001b[0m\u001b[0;34m,\u001b[0m \u001b[0minit\u001b[0m\u001b[0;34m=\u001b[0m\u001b[0minit\u001b[0m\u001b[0;34m,\u001b[0m \u001b[0mrandom_state\u001b[0m\u001b[0;34m=\u001b[0m\u001b[0mrandom_state\u001b[0m\u001b[0;34m\u001b[0m\u001b[0;34m\u001b[0m\u001b[0m\n\u001b[0m\u001b[1;32m   1181\u001b[0m             )\n\u001b[1;32m   1182\u001b[0m             \u001b[0;32mif\u001b[0m \u001b[0mself\u001b[0m\u001b[0;34m.\u001b[0m\u001b[0mverbose\u001b[0m\u001b[0;34m:\u001b[0m\u001b[0;34m\u001b[0m\u001b[0;34m\u001b[0m\u001b[0m\n",
            "\u001b[0;32m/usr/local/lib/python3.7/dist-packages/sklearn/cluster/_kmeans.py\u001b[0m in \u001b[0;36m_init_centroids\u001b[0;34m(self, X, x_squared_norms, init, random_state, init_size)\u001b[0m\n\u001b[1;32m   1092\u001b[0m                 \u001b[0mn_clusters\u001b[0m\u001b[0;34m,\u001b[0m\u001b[0;34m\u001b[0m\u001b[0;34m\u001b[0m\u001b[0m\n\u001b[1;32m   1093\u001b[0m                 \u001b[0mrandom_state\u001b[0m\u001b[0;34m=\u001b[0m\u001b[0mrandom_state\u001b[0m\u001b[0;34m,\u001b[0m\u001b[0;34m\u001b[0m\u001b[0;34m\u001b[0m\u001b[0m\n\u001b[0;32m-> 1094\u001b[0;31m                 \u001b[0mx_squared_norms\u001b[0m\u001b[0;34m=\u001b[0m\u001b[0mx_squared_norms\u001b[0m\u001b[0;34m,\u001b[0m\u001b[0;34m\u001b[0m\u001b[0;34m\u001b[0m\u001b[0m\n\u001b[0m\u001b[1;32m   1095\u001b[0m             )\n\u001b[1;32m   1096\u001b[0m         \u001b[0;32melif\u001b[0m \u001b[0misinstance\u001b[0m\u001b[0;34m(\u001b[0m\u001b[0minit\u001b[0m\u001b[0;34m,\u001b[0m \u001b[0mstr\u001b[0m\u001b[0;34m)\u001b[0m \u001b[0;32mand\u001b[0m \u001b[0minit\u001b[0m \u001b[0;34m==\u001b[0m \u001b[0;34m\"random\"\u001b[0m\u001b[0;34m:\u001b[0m\u001b[0;34m\u001b[0m\u001b[0;34m\u001b[0m\u001b[0m\n",
            "\u001b[0;32m/usr/local/lib/python3.7/dist-packages/sklearn/cluster/_kmeans.py\u001b[0m in \u001b[0;36m_kmeans_plusplus\u001b[0;34m(X, n_clusters, x_squared_norms, random_state, n_local_trials)\u001b[0m\n\u001b[1;32m    189\u001b[0m         \u001b[0;31m# specific results for other than mentioning in the conclusion\u001b[0m\u001b[0;34m\u001b[0m\u001b[0;34m\u001b[0m\u001b[0;34m\u001b[0m\u001b[0m\n\u001b[1;32m    190\u001b[0m         \u001b[0;31m# that it helped.\u001b[0m\u001b[0;34m\u001b[0m\u001b[0;34m\u001b[0m\u001b[0;34m\u001b[0m\u001b[0m\n\u001b[0;32m--> 191\u001b[0;31m         \u001b[0mn_local_trials\u001b[0m \u001b[0;34m=\u001b[0m \u001b[0;36m2\u001b[0m \u001b[0;34m+\u001b[0m \u001b[0mint\u001b[0m\u001b[0;34m(\u001b[0m\u001b[0mnp\u001b[0m\u001b[0;34m.\u001b[0m\u001b[0mlog\u001b[0m\u001b[0;34m(\u001b[0m\u001b[0mn_clusters\u001b[0m\u001b[0;34m)\u001b[0m\u001b[0;34m)\u001b[0m\u001b[0;34m\u001b[0m\u001b[0;34m\u001b[0m\u001b[0m\n\u001b[0m\u001b[1;32m    192\u001b[0m \u001b[0;34m\u001b[0m\u001b[0m\n\u001b[1;32m    193\u001b[0m     \u001b[0;31m# Pick first center randomly and track index of point\u001b[0m\u001b[0;34m\u001b[0m\u001b[0;34m\u001b[0m\u001b[0;34m\u001b[0m\u001b[0m\n",
            "\u001b[0;31mOverflowError\u001b[0m: cannot convert float infinity to integer"
          ]
        }
      ],
      "source": [
        "createRegularGrid(num_clusters_total=150)"
      ]
    },
    {
      "cell_type": "code",
      "execution_count": null,
      "metadata": {
        "id": "2rC29ZNZR8Bh"
      },
      "outputs": [],
      "source": [
        "# Why am I getting some negative coordinates --> Because we have negative weights in fort files"
      ]
    },
    {
      "cell_type": "markdown",
      "metadata": {
        "id": "OVYG0nwuSBqj"
      },
      "source": [
        "# Validation scheme"
      ]
    },
    {
      "cell_type": "code",
      "execution_count": null,
      "metadata": {
        "id": "gDvoH3FBwdz6"
      },
      "outputs": [],
      "source": [
        "def sumGaussians(xInPlot1, plot2coords, sigma): # xInPlot1 is tuple containing coordinates of a point in plot 1\n",
        "                                                # plot2coords are coordinates of point in second plot\n",
        "                                                # sigma is standard deviation of Gaussians considered\n",
        "  beta = 1./(sigma * np.sqrt(2*np.pi)) # amplitude of gaussian\n",
        "\n",
        "  xInPlot1 = np.array(xInPlot1) # Converting the tuple into \n",
        "  sum_Gauss = 0 # variable for summing up all the Gaussian function values of x\n",
        "  for x_ in plot2coords: # x_ is a tuple containing coordinates of a point in second plot\n",
        "    x_ = np.array(x_)\n",
        "    Gauss = beta * np.exp((xInPlot1 - x_)**2) / (2. * sigma**2)\n",
        "    sum_Gauss += np.prod(Gauss)\n",
        "\n",
        "  return sum_Gauss"
      ]
    },
    {
      "cell_type": "code",
      "execution_count": null,
      "metadata": {
        "colab": {
          "base_uri": "https://localhost:8080/"
        },
        "id": "3LVnF2l7z6Fa",
        "outputId": "39ae5ccc-9328-4990-a3ab-d5fc265c12d4"
      },
      "outputs": [
        {
          "data": {
            "text/plain": [
              "array([-6, -5, -4])"
            ]
          },
          "execution_count": 13,
          "metadata": {},
          "output_type": "execute_result"
        }
      ],
      "source": [
        "# Calculating the inner product and using slider\n",
        "\n",
        "def update_result(sigma__):\n",
        "  \n",
        "  innerprod = 0 # This variable will store the final inner product\n",
        "  normalize1 = 0 # L2 norm of sum of Gaussians for x (a point in plot1) on first graph\n",
        "  normalize2 = 0 # L2 norm of sum of Gaussians for x (a point in plot1) on second graph\n",
        "  sigma = sigma__ # width of Gaussian\n",
        "\n",
        "  for n in range(len(plot1coords)): # n-th row in plot1coords  # plot1coords has not been defined earlier\n",
        "    xInPlot1 = plot1coords[n] # x a point in plot1\n",
        "    innerprod += ( sumGaussians(xInPlot1=xInPlot1, plot2coords=plot1coords, sigma=sigma) * \n",
        "                  sumGaussians(xInPlot1=xInPlot1, plot2coords=plot2coords, sigma=sigma) )\n",
        "\n",
        "    normalize1 += sumGaussians(xInPlot1=xInPlot1, plot2coords=plot1coords, sigma=sigma)**2\n",
        "    normalize2 += sumGaussians(xInPlot1=xInPlot1, plot2coords=plot2coords, sigma=sigma)**2\n",
        "\n",
        "  # innerprod is unnormalized as of now\n",
        "  normalize1 = np.sqrt(normalize1)\n",
        "  normalize2 = np.sqrt(normalize2)\n",
        "  normalize = normalize1 * normalize2 # dividing innerprod with normalize will lead to normalized innerprod\n",
        "\n",
        "  innerprod /= normalize\n",
        "  print(\"Inner product of both plots is \" + str(innerprod))\n",
        "\n",
        "import ipywidgets as wig\n",
        "from IPython.display import display\n",
        "layout = wig.Layout(width='1000px')\n",
        "\n",
        "## DEFINE gridsize ##\n",
        "\n",
        "sigma_ = wig.FloatSlider(description = \"sigma\", value = 0.1*gridsize, min = 0.01*gridsize,\n",
        "                         max = 0.2*gridsize, step = 0.01, layout = layout) # relating sigma to gridsize\n",
        "wig.interact(update_result, sigma__=sigma_) # Note that for very large value of sigma (which should not be taken) \n",
        "                                            # we are getting less overlap obviously"
      ]
    },
    {
      "cell_type": "code",
      "execution_count": null,
      "metadata": {
        "id": "Q-lT8VzRz_8H"
      },
      "outputs": [],
      "source": []
    },
    {
      "cell_type": "markdown",
      "metadata": {
        "id": "yD_MomgTo8BC"
      },
      "source": [
        "# FInding the dot product of PRODUCT FUNCTIONS"
      ]
    },
    {
      "cell_type": "markdown",
      "metadata": {
        "id": "vQCxh5AaxS-I"
      },
      "source": [
        "Extracting the singular vectors whose dot product is needed to be taken"
      ]
    },
    {
      "cell_type": "code",
      "execution_count": null,
      "metadata": {
        "id": "eAGKvI_so-3B"
      },
      "outputs": [],
      "source": [
        "f1x = element_from_10x(1, [1, 3])\n",
        "f1y = element_from_10x(2, [1, 3])\n",
        "f1z = element_from_30Dminus1([1, 3])\n",
        "f2x = element_from_10x(1, [2, 3])\n",
        "f2y = element_from_10x(2, [2, 3])\n",
        "f2z = element_from_30Dminus1([2, 3])\n",
        "sigma1 = element_from_20x(1, [1, 3]) * element_from_20x(2, [1, 3])\n",
        "sigma2 = element_from_20x(1, [2, 3]) * element_from_20x(2, [2, 3])"
      ]
    },
    {
      "cell_type": "markdown",
      "metadata": {
        "id": "JkpmmxNjxx3E"
      },
      "source": [
        "Finding the dot product of produt functions"
      ]
    },
    {
      "cell_type": "code",
      "execution_count": null,
      "metadata": {
        "colab": {
          "base_uri": "https://localhost:8080/"
        },
        "id": "EXC5N8bVxYUW",
        "outputId": "2c9f2748-9ff5-43a4-9f63-d00182801ea7"
      },
      "outputs": [
        {
          "data": {
            "text/plain": [
              "6.088315716064874e-07"
            ]
          },
          "execution_count": 11,
          "metadata": {},
          "output_type": "execute_result"
        }
      ],
      "source": [
        "np.dot(f1x, f1x) * np.dot(f1y, f1y) * np.dot(f1z, f1z) / (f1x.shape[0] * f1y.shape[0] * f1z.shape[0])# * sigma1 * sigma2"
      ]
    },
    {
      "cell_type": "markdown",
      "metadata": {
        "id": "RsFRoslW6TvX"
      },
      "source": [
        "Making a list of all possible dot products"
      ]
    },
    {
      "cell_type": "code",
      "execution_count": null,
      "metadata": {
        "colab": {
          "base_uri": "https://localhost:8080/",
          "height": 1000
        },
        "id": "p008Xqrtx44h",
        "outputId": "06d86c82-157b-4be3-b46b-cff354030c56"
      },
      "outputs": [
        {
          "name": "stdout",
          "output_type": "stream",
          "text": [
            "Dot product of product functions (0, 1, 0) and (0, 0, 0) = 0.0027157423237017956\n",
            "Dot product of product functions (0, 1, 1) and (0, 0, 1) = 0.07279023397776124\n",
            "Dot product of product functions (0, 1, 2) and (0, 0, 2) = 0.007774780736208775\n",
            "Dot product of product functions (0, 1, 4) and (0, 0, 4) = 0.03368463405644873\n",
            "Dot product of product functions (0, 1, 7) and (0, 0, 7) = 0.0185572490736661\n",
            "Dot product of product functions (0, 1, 9) and (0, 0, 9) = 0.02270196188268142\n",
            "Dot product of product functions (0, 1, 10) and (0, 0, 10) = 0.005186232612956555\n",
            "Dot product of product functions (0, 1, 11) and (0, 0, 11) = 0.018762017800850538\n",
            "Dot product of product functions (0, 1, 13) and (0, 0, 13) = 0.030345273574879806\n",
            "Dot product of product functions (0, 1, 14) and (0, 0, 14) = 0.007634884192030962\n",
            "Dot product of product functions (0, 1, 15) and (0, 0, 15) = 0.03842506593909184\n",
            "Dot product of product functions (0, 1, 16) and (0, 0, 16) = 0.022711967095227357\n",
            "Dot product of product functions (0, 1, 18) and (0, 0, 18) = 0.04678307225300798\n",
            "Dot product of product functions (0, 1, 19) and (0, 0, 19) = 0.009416918192911697\n",
            "Dot product of product functions (0, 1, 21) and (0, 0, 21) = 0.004336824538003095\n",
            "Dot product of product functions (0, 1, 22) and (0, 0, 22) = 0.04168232747473094\n",
            "Dot product of product functions (0, 1, 23) and (0, 0, 23) = 0.0545306043901435\n",
            "Dot product of product functions (0, 2, 0) and (0, 0, 0) = 0.0033968210272813416\n",
            "Dot product of product functions (0, 2, 0) and (0, 1, 0) = 0.008970689897805884\n",
            "Dot product of product functions (0, 2, 1) and (0, 1, 1) = 0.002592802251072761\n",
            "Dot product of product functions (0, 2, 2) and (0, 1, 2) = 0.00854264574723855\n",
            "Dot product of product functions (0, 2, 3) and (0, 0, 3) = 0.0013756887513756402\n",
            "Dot product of product functions (0, 2, 3) and (0, 1, 3) = 0.007776441943913883\n",
            "Dot product of product functions (0, 2, 4) and (0, 0, 4) = 0.007653978773037076\n",
            "Dot product of product functions (0, 2, 4) and (0, 1, 4) = 0.004995105083156375\n",
            "Dot product of product functions (0, 2, 5) and (0, 0, 5) = 0.005678637333623344\n",
            "Dot product of product functions (0, 2, 5) and (0, 1, 5) = 0.0019140164626406302\n",
            "Dot product of product functions (0, 2, 6) and (0, 1, 6) = 0.006373891510911479\n",
            "Dot product of product functions (0, 2, 7) and (0, 1, 7) = 0.03237067513973682\n",
            "Dot product of product functions (0, 2, 8) and (0, 1, 8) = 0.01587640552612313\n",
            "Dot product of product functions (0, 2, 9) and (0, 0, 9) = 0.0036638467754237162\n",
            "Dot product of product functions (0, 2, 9) and (0, 1, 9) = 0.017174753100425343\n",
            "Dot product of product functions (0, 2, 10) and (0, 0, 10) = 0.00022396339706058264\n",
            "Dot product of product functions (0, 2, 11) and (0, 0, 11) = 0.004347301618519643\n",
            "Dot product of product functions (0, 2, 12) and (0, 0, 12) = 0.006584766165034515\n",
            "Dot product of product functions (0, 2, 13) and (0, 0, 13) = 0.008327918456398565\n",
            "Dot product of product functions (0, 2, 14) and (0, 1, 14) = 0.007489131207690343\n",
            "Dot product of product functions (0, 2, 16) and (0, 0, 16) = 0.0004271142471617753\n",
            "Dot product of product functions (0, 2, 18) and (0, 0, 18) = 0.0038521683104353085\n",
            "Dot product of product functions (0, 2, 18) and (0, 1, 18) = 0.0166860628887076\n",
            "Dot product of product functions (0, 2, 19) and (0, 1, 19) = 0.0007214214268776159\n",
            "Dot product of product functions (0, 2, 20) and (0, 0, 20) = 0.0023738361966911827\n",
            "Dot product of product functions (0, 2, 20) and (0, 1, 20) = 0.004223809444452495\n",
            "Dot product of product functions (0, 2, 22) and (0, 0, 22) = 0.0019276734781921306\n",
            "Dot product of product functions (0, 2, 22) and (0, 1, 22) = 0.00854539752837542\n",
            "Dot product of product functions (0, 2, 23) and (0, 1, 23) = 0.010473103119324397\n",
            "Dot product of product functions (0, 3, 1) and (0, 1, 1) = 0.2154759222109119\n",
            "Dot product of product functions (0, 3, 2) and (0, 1, 2) = 0.1222109692640292\n",
            "Dot product of product functions (0, 3, 3) and (0, 0, 3) = 0.03730904155084923\n",
            "Dot product of product functions (0, 3, 3) and (0, 2, 3) = 0.02253899621537857\n",
            "Dot product of product functions (0, 3, 4) and (0, 2, 4) = 0.04188999008034248\n",
            "Dot product of product functions (0, 3, 5) and (0, 2, 5) = 0.010282733367819647\n",
            "Dot product of product functions (0, 3, 6) and (0, 1, 6) = 0.5523328691071541\n",
            "Dot product of product functions (0, 3, 7) and (0, 1, 7) = 0.06924175495971593\n",
            "Dot product of product functions (0, 3, 9) and (0, 0, 9) = 0.01567056732315235\n",
            "Dot product of product functions (0, 3, 10) and (0, 0, 10) = 0.013199306310154951\n",
            "Dot product of product functions (0, 3, 10) and (0, 2, 10) = 0.056017541001685774\n",
            "Dot product of product functions (0, 3, 11) and (0, 0, 11) = 0.023799182312314898\n",
            "Dot product of product functions (0, 3, 12) and (0, 0, 12) = 0.026121069219337423\n",
            "Dot product of product functions (0, 3, 12) and (0, 2, 12) = 0.029197565823022662\n",
            "Dot product of product functions (0, 3, 13) and (0, 0, 13) = 0.032303517697137976\n",
            "Dot product of product functions (0, 3, 14) and (0, 1, 14) = 0.4128636688013404\n",
            "Dot product of product functions (0, 3, 14) and (0, 2, 14) = 0.019775671597112326\n",
            "Dot product of product functions (0, 3, 15) and (0, 0, 15) = 0.027969924521714932\n",
            "Dot product of product functions (0, 3, 15) and (0, 1, 15) = 0.08432785417088284\n",
            "Dot product of product functions (0, 3, 16) and (0, 0, 16) = 0.02867067602231072\n",
            "Dot product of product functions (0, 3, 16) and (0, 2, 16) = 0.011372883738168025\n",
            "Dot product of product functions (0, 3, 17) and (0, 1, 17) = 0.1007332977597395\n",
            "Dot product of product functions (0, 3, 17) and (0, 2, 17) = 0.081673135485035\n",
            "Dot product of product functions (0, 3, 18) and (0, 1, 18) = 0.04144519887397512\n",
            "Dot product of product functions (0, 3, 19) and (0, 0, 19) = 0.007432161505967368\n",
            "Dot product of product functions (0, 3, 19) and (0, 1, 19) = 0.2897597548639429\n",
            "Dot product of product functions (0, 3, 21) and (0, 1, 21) = 0.09994177341472983\n",
            "Dot product of product functions (0, 3, 21) and (0, 2, 21) = 0.12322675871819652\n",
            "Dot product of product functions (0, 3, 22) and (0, 2, 22) = 0.05187547032798284\n",
            "Dot product of product functions (0, 3, 23) and (0, 0, 23) = 0.017101655139415535\n",
            "Dot product of product functions (0, 3, 23) and (0, 1, 23) = 0.2880505726888955\n",
            "Dot product of product functions (0, 4, 2) and (0, 2, 2) = 0.050443072776649056\n",
            "Dot product of product functions (0, 4, 2) and (0, 3, 2) = 0.011938777193521462\n",
            "Dot product of product functions (0, 4, 3) and (0, 0, 3) = 0.011168121351600547\n",
            "Dot product of product functions (0, 4, 3) and (0, 3, 3) = 0.019477098850421395\n",
            "Dot product of product functions (0, 4, 4) and (0, 1, 4) = 0.03417880778596634\n",
            "Dot product of product functions (0, 4, 4) and (0, 2, 4) = 0.048592391276741795\n",
            "Dot product of product functions (0, 4, 5) and (0, 2, 5) = 0.08000403132965066\n",
            "Dot product of product functions (0, 4, 6) and (0, 0, 6) = 0.021929893491112608\n",
            "Dot product of product functions (0, 4, 6) and (0, 1, 6) = 0.07821190388957569\n",
            "Dot product of product functions (0, 4, 6) and (0, 2, 6) = 0.12575160044456643\n",
            "Dot product of product functions (0, 4, 7) and (0, 0, 7) = 0.06859331034692735\n",
            "Dot product of product functions (0, 4, 9) and (0, 1, 9) = 0.06826254127641955\n",
            "Dot product of product functions (0, 4, 9) and (0, 2, 9) = 0.22986570176250012\n",
            "Dot product of product functions (0, 4, 9) and (0, 3, 9) = 0.008544594376719216\n",
            "Dot product of product functions (0, 4, 10) and (0, 0, 10) = 0.0278355325744001\n",
            "Dot product of product functions (0, 4, 11) and (0, 1, 11) = 0.017326680475971593\n",
            "Dot product of product functions (0, 4, 12) and (0, 2, 12) = 0.12467282828075794\n",
            "Dot product of product functions (0, 4, 12) and (0, 3, 12) = 0.014988874244995981\n",
            "Dot product of product functions (0, 4, 13) and (0, 2, 13) = 0.10236363338572575\n",
            "Dot product of product functions (0, 4, 14) and (0, 1, 14) = 0.07836037016703334\n",
            "Dot product of product functions (0, 4, 15) and (0, 3, 15) = 0.0038662627315737648\n",
            "Dot product of product functions (0, 4, 16) and (0, 1, 16) = 0.0662783185032327\n",
            "Dot product of product functions (0, 4, 16) and (0, 2, 16) = 0.1654242526792819\n",
            "Dot product of product functions (0, 4, 16) and (0, 3, 16) = 0.027912144927718447\n",
            "Dot product of product functions (0, 4, 17) and (0, 0, 17) = 0.012090034040011419\n",
            "Dot product of product functions (0, 4, 17) and (0, 1, 17) = 0.04941623034716601\n",
            "Dot product of product functions (0, 4, 17) and (0, 2, 17) = 0.10504377748714507\n",
            "Dot product of product functions (0, 4, 18) and (0, 2, 18) = 0.16582461523874964\n",
            "Dot product of product functions (0, 4, 19) and (0, 2, 19) = 0.09956379475303032\n",
            "Dot product of product functions (0, 4, 20) and (0, 0, 20) = 0.009245705624040682\n",
            "Dot product of product functions (0, 4, 21) and (0, 3, 21) = 0.005809790249317648\n",
            "Dot product of product functions (0, 4, 22) and (0, 2, 22) = 0.07706607496337936\n",
            "Dot product of product functions (0, 4, 22) and (0, 3, 22) = 0.01417671128080261\n",
            "Dot product of product functions (0, 4, 23) and (0, 1, 23) = 0.04105994765635285\n",
            "Dot product of product functions (0, 4, 23) and (0, 2, 23) = 0.19611699487833714\n",
            "Dot product of product functions (0, 5, 0) and (0, 0, 0) = 0.1163758970461691\n",
            "Dot product of product functions (0, 5, 0) and (0, 2, 0) = 0.004007430480953052\n",
            "Dot product of product functions (0, 5, 1) and (0, 0, 1) = 0.02969698284320229\n",
            "Dot product of product functions (0, 5, 1) and (0, 3, 1) = 0.0028455646577244535\n",
            "Dot product of product functions (0, 5, 1) and (0, 4, 1) = 0.000850416977893738\n",
            "Dot product of product functions (0, 5, 2) and (0, 1, 2) = 0.04352297630770968\n",
            "Dot product of product functions (0, 5, 3) and (0, 0, 3) = 0.02165666720604477\n",
            "Dot product of product functions (0, 5, 3) and (0, 4, 3) = 0.001927699809442384\n",
            "Dot product of product functions (0, 5, 4) and (0, 2, 4) = 0.0028103921217781684\n",
            "Dot product of product functions (0, 5, 5) and (0, 1, 5) = 0.028731680706402436\n",
            "Dot product of product functions (0, 5, 6) and (0, 0, 6) = 0.02336986306969592\n",
            "Dot product of product functions (0, 5, 6) and (0, 1, 6) = 0.025906521690045328\n",
            "Dot product of product functions (0, 5, 6) and (0, 2, 6) = 0.011532687348441562\n",
            "Dot product of product functions (0, 5, 6) and (0, 3, 6) = 0.0010722575374094174\n",
            "Dot product of product functions (0, 5, 7) and (0, 2, 7) = 0.000651896111295966\n",
            "Dot product of product functions (0, 5, 8) and (0, 1, 8) = 0.01943160462912081\n",
            "Dot product of product functions (0, 5, 8) and (0, 4, 8) = 0.002337056147012718\n",
            "Dot product of product functions (0, 5, 9) and (0, 0, 9) = 0.08076578981176043\n",
            "Dot product of product functions (0, 5, 9) and (0, 1, 9) = 0.11049551010107676\n",
            "Dot product of product functions (0, 5, 9) and (0, 2, 9) = 0.005114791589245726\n",
            "Dot product of product functions (0, 5, 9) and (0, 3, 9) = 0.004402756468316835\n",
            "Dot product of product functions (0, 5, 9) and (0, 4, 9) = 0.008933804535484355\n",
            "Dot product of product functions (0, 5, 10) and (0, 0, 10) = 0.02385582205459335\n",
            "Dot product of product functions (0, 5, 10) and (0, 2, 10) = 0.015860529413033307\n",
            "Dot product of product functions (0, 5, 10) and (0, 4, 10) = 0.004914031287355468\n",
            "Dot product of product functions (0, 5, 11) and (0, 0, 11) = 0.07070515845998447\n",
            "Dot product of product functions (0, 5, 11) and (0, 1, 11) = 0.009889804512163047\n",
            "Dot product of product functions (0, 5, 11) and (0, 2, 11) = 0.008830569272044144\n",
            "Dot product of product functions (0, 5, 12) and (0, 2, 12) = 0.0011679939994683338\n",
            "Dot product of product functions (0, 5, 12) and (0, 3, 12) = 0.0031834886854252\n",
            "Dot product of product functions (0, 5, 12) and (0, 4, 12) = 0.0006461910078142152\n",
            "Dot product of product functions (0, 5, 13) and (0, 1, 13) = 0.02953205682153672\n",
            "Dot product of product functions (0, 5, 13) and (0, 2, 13) = 0.007921039033804575\n",
            "Dot product of product functions (0, 5, 13) and (0, 3, 13) = 0.002781195893987471\n",
            "Dot product of product functions (0, 5, 14) and (0, 0, 14) = 0.04724992345038086\n",
            "Dot product of product functions (0, 5, 14) and (0, 4, 14) = 0.0014418319951620157\n",
            "Dot product of product functions (0, 5, 15) and (0, 0, 15) = 0.07284828718281876\n",
            "Dot product of product functions (0, 5, 15) and (0, 1, 15) = 0.07236993233451333\n",
            "Dot product of product functions (0, 5, 15) and (0, 2, 15) = 0.0075952664311253\n",
            "Dot product of product functions (0, 5, 16) and (0, 1, 16) = 0.0044960734668148756\n",
            "Dot product of product functions (0, 5, 16) and (0, 2, 16) = 0.001451028522207876\n",
            "Dot product of product functions (0, 5, 17) and (0, 2, 17) = 0.0007453871393106452\n",
            "Dot product of product functions (0, 5, 17) and (0, 3, 17) = 0.0016836169492076144\n",
            "Dot product of product functions (0, 5, 18) and (0, 2, 18) = 0.00377092346423236\n",
            "Dot product of product functions (0, 5, 18) and (0, 3, 18) = 0.002103699718156866\n",
            "Dot product of product functions (0, 5, 19) and (0, 1, 19) = 0.04169693156610082\n",
            "Dot product of product functions (0, 5, 20) and (0, 0, 20) = 0.04910095882984261\n",
            "Dot product of product functions (0, 5, 20) and (0, 4, 20) = 0.0012643658606000558\n",
            "Dot product of product functions (0, 5, 21) and (0, 0, 21) = 0.11304610695732364\n",
            "Dot product of product functions (0, 5, 21) and (0, 3, 21) = 0.0011411465015186532\n",
            "Dot product of product functions (0, 5, 22) and (0, 3, 22) = 0.002586840468808178\n",
            "Dot product of product functions (0, 5, 22) and (0, 4, 22) = 0.005302272694788094\n",
            "Dot product of product functions (0, 5, 23) and (0, 2, 23) = 0.007034910895841963\n",
            "Dot product of product functions (0, 5, 23) and (0, 3, 23) = 0.00424170345936434\n",
            "Dot product of product functions (0, 6, 0) and (0, 1, 0) = 0.07792504334035512\n",
            "Dot product of product functions (0, 6, 0) and (0, 2, 0) = 0.004895574358443523\n",
            "Dot product of product functions (0, 6, 0) and (0, 3, 0) = 4.993491992677262e-05\n",
            "Dot product of product functions (0, 6, 1) and (0, 0, 1) = 0.000650279917477587\n",
            "Dot product of product functions (0, 6, 1) and (0, 2, 1) = 0.0353333652724691\n",
            "Dot product of product functions (0, 6, 1) and (0, 3, 1) = 1.6483278205830644e-05\n",
            "Dot product of product functions (0, 6, 1) and (0, 4, 1) = 0.014246906287342586\n",
            "Dot product of product functions (0, 6, 2) and (0, 1, 2) = 0.06531119100284341\n",
            "Dot product of product functions (0, 6, 2) and (0, 3, 2) = 0.00014445023301349645\n",
            "Dot product of product functions (0, 6, 2) and (0, 5, 2) = 0.000954652395022596\n",
            "Dot product of product functions (0, 6, 3) and (0, 0, 3) = 0.004774935922664434\n",
            "Dot product of product functions (0, 6, 3) and (0, 1, 3) = 0.026591261043985886\n",
            "Dot product of product functions (0, 6, 3) and (0, 2, 3) = 0.01604666275442152\n",
            "Dot product of product functions (0, 6, 3) and (0, 3, 3) = 0.0001684061556072918\n",
            "Dot product of product functions (0, 6, 3) and (0, 4, 3) = 0.008238432943408093\n",
            "Dot product of product functions (0, 6, 4) and (0, 3, 4) = 6.087511873857388e-05\n",
            "Dot product of product functions (0, 6, 5) and (0, 1, 5) = 0.08157307933283131\n",
            "Dot product of product functions (0, 6, 5) and (0, 3, 5) = 6.0803202656703864e-05\n",
            "Dot product of product functions (0, 6, 5) and (0, 5, 5) = 0.01907309578504264\n",
            "Dot product of product functions (0, 6, 6) and (0, 0, 6) = 0.0003787727265027893\n",
            "Dot product of product functions (0, 6, 6) and (0, 4, 6) = 0.007017171997368223\n",
            "Dot product of product functions (0, 6, 7) and (0, 0, 7) = 0.0005194620213358911\n",
            "Dot product of product functions (0, 6, 7) and (0, 2, 7) = 0.038676528443005065\n",
            "Dot product of product functions (0, 6, 8) and (0, 0, 8) = 0.00012217410935503605\n",
            "Dot product of product functions (0, 6, 8) and (0, 2, 8) = 0.027018796745993518\n",
            "Dot product of product functions (0, 6, 8) and (0, 4, 8) = 0.009094799266985407\n",
            "Dot product of product functions (0, 6, 8) and (0, 5, 8) = 0.0790623596572363\n",
            "Dot product of product functions (0, 6, 9) and (0, 0, 9) = 0.0009489450615143772\n",
            "Dot product of product functions (0, 6, 9) and (0, 3, 9) = 0.00015183357528554444\n",
            "Dot product of product functions (0, 6, 9) and (0, 4, 9) = 0.023136894233908873\n",
            "Dot product of product functions (0, 6, 9) and (0, 5, 9) = 0.14084321540853442\n",
            "Dot product of product functions (0, 6, 10) and (0, 4, 10) = 0.01652589360355161\n",
            "Dot product of product functions (0, 6, 10) and (0, 5, 10) = 0.009334524631162737\n",
            "Dot product of product functions (0, 6, 11) and (0, 0, 11) = 0.0010092455842190407\n",
            "Dot product of product functions (0, 6, 11) and (0, 2, 11) = 0.008228124173280987\n",
            "Dot product of product functions (0, 6, 13) and (0, 1, 13) = 0.05964274036516198\n",
            "Dot product of product functions (0, 6, 13) and (0, 2, 13) = 0.0365189047550904\n",
            "Dot product of product functions (0, 6, 13) and (0, 3, 13) = 8.372408437498809e-05\n",
            "Dot product of product functions (0, 6, 14) and (0, 3, 14) = 8.179850821758933e-05\n",
            "Dot product of product functions (0, 6, 14) and (0, 5, 14) = 0.05092568273519382\n",
            "Dot product of product functions (0, 6, 15) and (0, 2, 15) = 0.010780045619718527\n",
            "Dot product of product functions (0, 6, 16) and (0, 0, 16) = 0.003331058819946331\n",
            "Dot product of product functions (0, 6, 16) and (0, 1, 16) = 0.08073875682192902\n",
            "Dot product of product functions (0, 6, 16) and (0, 2, 16) = 0.0455046848551909\n",
            "Dot product of product functions (0, 6, 16) and (0, 3, 16) = 4.210854416789762e-05\n",
            "Dot product of product functions (0, 6, 16) and (0, 4, 16) = 0.009156102756624039\n",
            "Dot product of product functions (0, 6, 17) and (0, 0, 17) = 0.0020820948889569793\n",
            "Dot product of product functions (0, 6, 17) and (0, 4, 17) = 0.002129797595861414\n",
            "Dot product of product functions (0, 6, 18) and (0, 0, 18) = 0.0001792738162591223\n",
            "Dot product of product functions (0, 6, 19) and (0, 3, 19) = 6.205054216024882e-06\n",
            "Dot product of product functions (0, 6, 19) and (0, 4, 19) = 0.00026729122252665207\n",
            "Dot product of product functions (0, 6, 20) and (0, 0, 20) = 0.0003069844885831419\n",
            "Dot product of product functions (0, 6, 20) and (0, 1, 20) = 0.05454996265223409\n",
            "Dot product of product functions (0, 6, 20) and (0, 4, 20) = 0.00064543975497412\n",
            "Dot product of product functions (0, 6, 20) and (0, 5, 20) = 0.0654834016152833\n",
            "Dot product of product functions (0, 6, 21) and (0, 0, 21) = 0.0005420887586117035\n",
            "Dot product of product functions (0, 6, 21) and (0, 3, 21) = 0.00018628502109827055\n",
            "Dot product of product functions (0, 6, 21) and (0, 4, 21) = 0.019925251146492816\n",
            "Dot product of product functions (0, 6, 21) and (0, 5, 21) = 0.003164246363967433\n",
            "Dot product of product functions (0, 6, 22) and (0, 0, 22) = 0.003441712248987296\n",
            "Dot product of product functions (0, 6, 22) and (0, 2, 22) = 0.015475032075162648\n",
            "Dot product of product functions (0, 6, 22) and (0, 3, 22) = 0.00010995495676478655\n",
            "Dot product of product functions (0, 6, 22) and (0, 4, 22) = 0.005486403312761522\n",
            "Dot product of product functions (0, 6, 22) and (0, 5, 22) = 0.04288951899117064\n",
            "Dot product of product functions (0, 6, 23) and (0, 1, 23) = 0.07674594714451745\n",
            "Dot product of product functions (0, 6, 23) and (0, 4, 23) = 0.002711087265176008\n",
            "Dot product of product functions (0, 6, 23) and (0, 5, 23) = 0.0337430319905863\n",
            "Dot product of product functions (0, 7, 0) and (0, 1, 0) = 0.01232305806146365\n",
            "Dot product of product functions (0, 7, 0) and (0, 3, 0) = 0.015382903595581953\n",
            "Dot product of product functions (0, 7, 1) and (0, 2, 1) = 0.0015998883248485602\n",
            "Dot product of product functions (0, 7, 2) and (0, 0, 2) = 0.04285258732569341\n",
            "Dot product of product functions (0, 7, 2) and (0, 1, 2) = 0.011611191535129559\n",
            "Dot product of product functions (0, 7, 2) and (0, 3, 2) = 0.012891374384502585\n",
            "Dot product of product functions (0, 7, 2) and (0, 4, 2) = 0.04084548056849968\n",
            "Dot product of product functions (0, 7, 2) and (0, 5, 2) = 0.058974299150662365\n",
            "Dot product of product functions (0, 7, 3) and (0, 0, 3) = 0.007840119206567223\n",
            "Dot product of product functions (0, 7, 3) and (0, 5, 3) = 0.04025190765191939\n",
            "Dot product of product functions (0, 7, 4) and (0, 0, 4) = 0.012445306346323029\n",
            "Dot product of product functions (0, 7, 4) and (0, 2, 4) = 0.008137830142324108\n",
            "Dot product of product functions (0, 7, 4) and (0, 4, 4) = 0.024486542244425823\n",
            "Dot product of product functions (0, 7, 4) and (0, 6, 4) = 0.009536733594834644\n",
            "Dot product of product functions (0, 7, 5) and (0, 3, 5) = 0.030248852488730188\n",
            "Dot product of product functions (0, 7, 5) and (0, 4, 5) = 0.018389938224518457\n",
            "Dot product of product functions (0, 7, 5) and (0, 6, 5) = 0.16399762486891803\n",
            "Dot product of product functions (0, 7, 7) and (0, 0, 7) = 0.021447988919169103\n",
            "Dot product of product functions (0, 7, 7) and (0, 1, 7) = 0.0027783280140279256\n",
            "Dot product of product functions (0, 7, 7) and (0, 2, 7) = 0.0010023249850747145\n",
            "Dot product of product functions (0, 7, 7) and (0, 4, 7) = 0.05346304909700659\n",
            "Dot product of product functions (0, 7, 7) and (0, 6, 7) = 0.03902609449893519\n",
            "Dot product of product functions (0, 7, 8) and (0, 0, 8) = 0.007076324528526074\n",
            "Dot product of product functions (0, 7, 8) and (0, 2, 8) = 0.0021816828242483418\n",
            "Dot product of product functions (0, 7, 8) and (0, 5, 8) = 0.0715293954869083\n",
            "Dot product of product functions (0, 7, 8) and (0, 6, 8) = 0.15673883304299607\n",
            "Dot product of product functions (0, 7, 9) and (0, 2, 9) = 0.0017000526557079038\n",
            "Dot product of product functions (0, 7, 9) and (0, 5, 9) = 0.029142277846606068\n",
            "Dot product of product functions (0, 7, 9) and (0, 6, 9) = 0.01401695668985501\n",
            "Dot product of product functions (0, 7, 10) and (0, 0, 10) = 0.008302609132446345\n",
            "Dot product of product functions (0, 7, 10) and (0, 2, 10) = 0.0015505272150590388\n",
            "Dot product of product functions (0, 7, 10) and (0, 3, 10) = 0.024687554504893575\n",
            "Dot product of product functions (0, 7, 10) and (0, 6, 10) = 0.09241621066921761\n",
            "Dot product of product functions (0, 7, 11) and (0, 0, 11) = 0.021881087691190466\n",
            "Dot product of product functions (0, 7, 12) and (0, 1, 12) = 0.014981425789540348\n",
            "Dot product of product functions (0, 7, 12) and (0, 4, 12) = 0.04661128648739667\n",
            "Dot product of product functions (0, 7, 12) and (0, 5, 12) = 0.032409362533952296\n",
            "Dot product of product functions (0, 7, 12) and (0, 6, 12) = 0.009565371092409914\n",
            "Dot product of product functions (0, 7, 13) and (0, 3, 13) = 0.028498475472869\n",
            "Dot product of product functions (0, 7, 13) and (0, 4, 13) = 0.14378467827260433\n",
            "Dot product of product functions (0, 7, 13) and (0, 6, 13) = 0.06863396683079893\n",
            "Dot product of product functions (0, 7, 14) and (0, 0, 14) = 0.020509145186018044\n",
            "Dot product of product functions (0, 7, 14) and (0, 1, 14) = 0.04171937189244014\n",
            "Dot product of product functions (0, 7, 14) and (0, 2, 14) = 1.4773022761856597e-05\n",
            "Dot product of product functions (0, 7, 14) and (0, 3, 14) = 0.05366336094948534\n",
            "Dot product of product functions (0, 7, 14) and (0, 4, 14) = 0.03510252781577645\n",
            "Dot product of product functions (0, 7, 14) and (0, 5, 14) = 0.0020148714476022735\n",
            "Dot product of product functions (0, 7, 14) and (0, 6, 14) = 0.09544704026850909\n",
            "Dot product of product functions (0, 7, 15) and (0, 0, 15) = 0.030326057567630203\n",
            "Dot product of product functions (0, 7, 15) and (0, 2, 15) = 0.0002734144557197203\n",
            "Dot product of product functions (0, 7, 15) and (0, 4, 15) = 0.021944515412506926\n",
            "Dot product of product functions (0, 7, 15) and (0, 5, 15) = 0.005492133389324707\n",
            "Dot product of product functions (0, 7, 16) and (0, 0, 16) = 5.814090931588564e-05\n",
            "Dot product of product functions (0, 7, 16) and (0, 1, 16) = 0.02806030400537737\n",
            "Dot product of product functions (0, 7, 16) and (0, 4, 16) = 0.05182674517127791\n",
            "Dot product of product functions (0, 7, 16) and (0, 5, 16) = 0.07639337829433816\n",
            "Dot product of product functions (0, 7, 17) and (0, 2, 17) = 7.440056983537236e-05\n",
            "Dot product of product functions (0, 7, 17) and (0, 3, 17) = 0.007253028704177223\n",
            "Dot product of product functions (0, 7, 17) and (0, 4, 17) = 0.06597352075918414\n",
            "Dot product of product functions (0, 7, 18) and (0, 0, 18) = 0.019551997144002138\n",
            "Dot product of product functions (0, 7, 18) and (0, 3, 18) = 0.06837001334657619\n",
            "Dot product of product functions (0, 7, 18) and (0, 4, 18) = 0.017773814667387266\n",
            "Dot product of product functions (0, 7, 18) and (0, 5, 18) = 0.04966788185050127\n",
            "Dot product of product functions (0, 7, 19) and (0, 1, 19) = 0.0016202344584310862\n",
            "Dot product of product functions (0, 7, 19) and (0, 3, 19) = 0.10530575462707693\n",
            "Dot product of product functions (0, 7, 19) and (0, 4, 19) = 0.06334777702957169\n",
            "Dot product of product functions (0, 7, 20) and (0, 2, 20) = 0.0011212921564981112\n",
            "Dot product of product functions (0, 7, 20) and (0, 3, 20) = 0.04511913127037663\n",
            "Dot product of product functions (0, 7, 20) and (0, 4, 20) = 0.04359529464819972\n",
            "Dot product of product functions (0, 7, 20) and (0, 6, 20) = 0.14068609588768344\n",
            "Dot product of product functions (0, 7, 21) and (0, 2, 21) = 0.008214161078319243\n",
            "Dot product of product functions (0, 7, 21) and (0, 3, 21) = 0.08820184822656368\n",
            "Dot product of product functions (0, 7, 21) and (0, 5, 21) = 0.0740117413325375\n",
            "Dot product of product functions (0, 7, 21) and (0, 6, 21) = 0.04501407234370019\n",
            "Dot product of product functions (0, 7, 22) and (0, 4, 22) = 0.0030584094814412174\n",
            "Dot product of product functions (0, 7, 22) and (0, 5, 22) = 0.003824680741417641\n",
            "Dot product of product functions (0, 7, 23) and (0, 1, 23) = 0.0396092050710874\n",
            "Dot product of product functions (0, 7, 23) and (0, 2, 23) = 0.003877964353101582\n",
            "Dot product of product functions (0, 7, 23) and (0, 3, 23) = 0.0189051670070824\n",
            "Dot product of product functions (0, 7, 23) and (0, 5, 23) = 0.01061459943978753\n",
            "Dot product of product functions (0, 8, 0) and (0, 2, 0) = 0.004479265081798115\n",
            "Dot product of product functions (0, 8, 0) and (0, 3, 0) = 0.009812227774388978\n",
            "Dot product of product functions (0, 8, 0) and (0, 5, 0) = 0.05228373766977026\n",
            "Dot product of product functions (0, 8, 0) and (0, 7, 0) = 0.004424143417953498\n",
            "Dot product of product functions (0, 8, 1) and (0, 0, 1) = 0.0023072149074512974\n",
            "Dot product of product functions (0, 8, 1) and (0, 1, 1) = 0.001578401986156058\n",
            "Dot product of product functions (0, 8, 1) and (0, 2, 1) = 0.001389574319064366\n",
            "Dot product of product functions (0, 8, 1) and (0, 3, 1) = 0.010291315477751306\n",
            "Dot product of product functions (0, 8, 1) and (0, 5, 1) = 0.06233324636859053\n",
            "Dot product of product functions (0, 8, 1) and (0, 7, 1) = 0.028704504380121353\n",
            "Dot product of product functions (0, 8, 2) and (0, 0, 2) = 0.005821135025458328\n",
            "Dot product of product functions (0, 8, 2) and (0, 1, 2) = 0.02097190041901367\n",
            "Dot product of product functions (0, 8, 2) and (0, 2, 2) = 0.0006043820334401061\n",
            "Dot product of product functions (0, 8, 2) and (0, 4, 2) = 0.00649770600665886\n",
            "Dot product of product functions (0, 8, 2) and (0, 5, 2) = 0.07344009613277626\n",
            "Dot product of product functions (0, 8, 2) and (0, 6, 2) = 0.008169450851128553\n",
            "Dot product of product functions (0, 8, 3) and (0, 1, 3) = 0.025985433673599807\n",
            "Dot product of product functions (0, 8, 3) and (0, 4, 3) = 0.013420363951454002\n",
            "Dot product of product functions (0, 8, 3) and (0, 6, 3) = 0.011981638154071965\n",
            "Dot product of product functions (0, 8, 3) and (0, 7, 3) = 0.015842254282542927\n",
            "Dot product of product functions (0, 8, 4) and (0, 0, 4) = 0.002181647704381062\n",
            "Dot product of product functions (0, 8, 4) and (0, 2, 4) = 0.002881796241833198\n",
            "Dot product of product functions (0, 8, 4) and (0, 4, 4) = 0.015848378512667086\n",
            "Dot product of product functions (0, 8, 4) and (0, 5, 4) = 0.06365842145272411\n",
            "Dot product of product functions (0, 8, 4) and (0, 6, 4) = 0.005669813151099052\n",
            "Dot product of product functions (0, 8, 4) and (0, 7, 4) = 0.0017856972234868134\n",
            "Dot product of product functions (0, 8, 5) and (0, 1, 5) = 0.005486014036709498\n",
            "Dot product of product functions (0, 8, 5) and (0, 2, 5) = 0.002799605642503566\n",
            "Dot product of product functions (0, 8, 5) and (0, 5, 5) = 0.07150623169616109\n",
            "Dot product of product functions (0, 8, 5) and (0, 6, 5) = 0.007082178096687251\n",
            "Dot product of product functions (0, 8, 6) and (0, 0, 6) = 0.0027143513295353585\n",
            "Dot product of product functions (0, 8, 6) and (0, 6, 6) = 0.017953762438246753\n",
            "Dot product of product functions (0, 8, 6) and (0, 7, 6) = 0.04475398922050983\n",
            "Dot product of product functions (0, 8, 7) and (0, 2, 7) = 0.0019274587036472188\n",
            "Dot product of product functions (0, 8, 7) and (0, 3, 7) = 0.0023416300030482677\n",
            "Dot product of product functions (0, 8, 7) and (0, 4, 7) = 0.021015226171788057\n",
            "Dot product of product functions (0, 8, 7) and (0, 6, 7) = 0.011499836114511854\n",
            "Dot product of product functions (0, 8, 7) and (0, 7, 7) = 0.0032566599197953747\n",
            "Dot product of product functions (0, 8, 8) and (0, 0, 8) = 0.004795532938360285\n",
            "Dot product of product functions (0, 8, 8) and (0, 2, 8) = 0.010814285219013694\n",
            "Dot product of product functions (0, 8, 8) and (0, 7, 8) = 0.03574246973718444\n",
            "Dot product of product functions (0, 8, 9) and (0, 0, 9) = 0.014749300135103678\n",
            "Dot product of product functions (0, 8, 9) and (0, 2, 9) = 0.0024732332077697047\n",
            "Dot product of product functions (0, 8, 9) and (0, 3, 9) = 0.009644569988487095\n",
            "Dot product of product functions (0, 8, 9) and (0, 4, 9) = 0.012175944671210588\n",
            "Dot product of product functions (0, 8, 9) and (0, 7, 9) = 0.01839212523581768\n",
            "Dot product of product functions (0, 8, 10) and (0, 0, 10) = 0.03193306944377321\n",
            "Dot product of product functions (0, 8, 10) and (0, 1, 10) = 0.020388538229811643\n",
            "Dot product of product functions (0, 8, 10) and (0, 4, 10) = 0.022294257006099178\n",
            "Dot product of product functions (0, 8, 11) and (0, 0, 11) = 0.0008513928929183138\n",
            "Dot product of product functions (0, 8, 11) and (0, 3, 11) = 0.01703569462900239\n",
            "Dot product of product functions (0, 8, 11) and (0, 6, 11) = 0.0010353013789377679\n",
            "Dot product of product functions (0, 8, 12) and (0, 0, 12) = 0.006200092754335753\n",
            "Dot product of product functions (0, 8, 12) and (0, 3, 12) = 0.01907158654624153\n",
            "Dot product of product functions (0, 8, 12) and (0, 4, 12) = 0.02136783804182486\n",
            "Dot product of product functions (0, 8, 12) and (0, 5, 12) = 0.020066818648000927\n",
            "Dot product of product functions (0, 8, 12) and (0, 6, 12) = 0.005144197934384483\n",
            "Dot product of product functions (0, 8, 12) and (0, 7, 12) = 0.003325116118202557\n",
            "Dot product of product functions (0, 8, 13) and (0, 0, 13) = 0.000517040047744322\n",
            "Dot product of product functions (0, 8, 13) and (0, 3, 13) = 0.004693439545609275\n",
            "Dot product of product functions (0, 8, 13) and (0, 4, 13) = 0.007066982176624914\n",
            "Dot product of product functions (0, 8, 13) and (0, 6, 13) = 0.016161149060470652\n",
            "Dot product of product functions (0, 8, 14) and (0, 1, 14) = 0.01943316612240565\n",
            "Dot product of product functions (0, 8, 14) and (0, 2, 14) = 0.0011006140216379035\n",
            "Dot product of product functions (0, 8, 14) and (0, 3, 14) = 0.0011367093278793782\n",
            "Dot product of product functions (0, 8, 14) and (0, 5, 14) = 0.1202954311542253\n",
            "Dot product of product functions (0, 8, 14) and (0, 6, 14) = 0.012615339049723595\n",
            "Dot product of product functions (0, 8, 15) and (0, 1, 15) = 0.030391758639699458\n",
            "Dot product of product functions (0, 8, 15) and (0, 3, 15) = 0.009073789397994896\n",
            "Dot product of product functions (0, 8, 15) and (0, 4, 15) = 0.007701895179244031\n",
            "Dot product of product functions (0, 8, 15) and (0, 5, 15) = 0.12017743804072531\n",
            "Dot product of product functions (0, 8, 15) and (0, 7, 15) = 0.004629888593712114\n",
            "Dot product of product functions (0, 8, 16) and (0, 0, 16) = 0.02250603720381108\n",
            "Dot product of product functions (0, 8, 16) and (0, 3, 16) = 0.0072900216835112075\n",
            "Dot product of product functions (0, 8, 16) and (0, 7, 16) = 0.03725827744089513\n",
            "Dot product of product functions (0, 8, 17) and (0, 0, 17) = 0.010870008427009598\n",
            "Dot product of product functions (0, 8, 17) and (0, 1, 17) = 0.011819284702301253\n",
            "Dot product of product functions (0, 8, 17) and (0, 4, 17) = 0.0020886449145286214\n",
            "Dot product of product functions (0, 8, 17) and (0, 6, 17) = 0.011145437841372197\n",
            "Dot product of product functions (0, 8, 17) and (0, 7, 17) = 0.02877975656691188\n",
            "Dot product of product functions (0, 8, 18) and (0, 0, 18) = 0.0031314681057504363\n",
            "Dot product of product functions (0, 8, 18) and (0, 2, 18) = 0.0017270597548267074\n",
            "Dot product of product functions (0, 8, 18) and (0, 5, 18) = 0.02625922513997508\n",
            "Dot product of product functions (0, 8, 18) and (0, 6, 18) = 0.025472000557096742\n",
            "Dot product of product functions (0, 8, 18) and (0, 7, 18) = 0.06671371080592363\n",
            "Dot product of product functions (0, 8, 19) and (0, 0, 19) = 0.019327627117114617\n",
            "Dot product of product functions (0, 8, 19) and (0, 1, 19) = 0.023416926281127504\n",
            "Dot product of product functions (0, 8, 19) and (0, 2, 19) = 0.0013208100239033725\n",
            "Dot product of product functions (0, 8, 19) and (0, 3, 19) = 0.01169339156973356\n",
            "Dot product of product functions (0, 8, 19) and (0, 4, 19) = 0.025313104415216652\n",
            "Dot product of product functions (0, 8, 19) and (0, 7, 19) = 0.029054202787489818\n",
            "Dot product of product functions (0, 8, 20) and (0, 2, 20) = 0.001416150429827829\n",
            "Dot product of product functions (0, 8, 20) and (0, 5, 20) = 0.051988027418180836\n",
            "Dot product of product functions (0, 8, 20) and (0, 6, 20) = 0.021210305450749416\n",
            "Dot product of product functions (0, 8, 20) and (0, 7, 20) = 0.008135748461334509\n",
            "Dot product of product functions (0, 8, 21) and (0, 2, 21) = 0.0027677852122359563\n",
            "Dot product of product functions (0, 8, 21) and (0, 4, 21) = 0.013509358319422522\n",
            "Dot product of product functions (0, 8, 21) and (0, 6, 21) = 0.025253029522167587\n",
            "Dot product of product functions (0, 8, 22) and (0, 0, 22) = 0.01043695245900981\n",
            "Dot product of product functions (0, 8, 22) and (0, 5, 22) = 0.1499594075955181\n",
            "Dot product of product functions (0, 8, 22) and (0, 6, 22) = 0.01286364408973418\n",
            "Dot product of product functions (0, 8, 22) and (0, 7, 22) = 0.00014054755475420688\n",
            "Dot product of product functions (0, 8, 23) and (0, 0, 23) = 0.005032510557564685\n",
            "Dot product of product functions (0, 8, 23) and (0, 1, 23) = 0.006997695061612542\n",
            "Dot product of product functions (0, 8, 23) and (0, 4, 23) = 0.013614794941167827\n",
            "Dot product of product functions (0, 8, 23) and (0, 5, 23) = 0.09223320155843415\n",
            "Dot product of product functions (0, 8, 23) and (0, 6, 23) = 0.052600447860297585\n",
            "Dot product of product functions (0, 8, 23) and (0, 7, 23) = 0.08598543957675436\n",
            "Dot product of product functions (0, 9, 0) and (0, 7, 0) = 0.056525557330048486\n",
            "Dot product of product functions (0, 9, 0) and (0, 8, 0) = 0.06350360351058847\n",
            "Dot product of product functions (0, 9, 1) and (0, 3, 1) = 0.05065971732701193\n",
            "Dot product of product functions (0, 9, 1) and (0, 8, 1) = 0.039141065207312295\n",
            "Dot product of product functions (0, 9, 2) and (0, 1, 2) = 0.06315042261742253\n",
            "Dot product of product functions (0, 9, 2) and (0, 2, 2) = 0.01775081931064533\n",
            "Dot product of product functions (0, 9, 2) and (0, 6, 2) = 0.028520683931955636\n",
            "Dot product of product functions (0, 9, 2) and (0, 7, 2) = 0.004202760801586271\n",
            "Dot product of product functions (0, 9, 2) and (0, 8, 2) = 0.06697301677832274\n",
            "Dot product of product functions (0, 9, 3) and (0, 1, 3) = 0.005627562644205326\n",
            "Dot product of product functions (0, 9, 3) and (0, 2, 3) = 0.04270070827804998\n",
            "Dot product of product functions (0, 9, 3) and (0, 4, 3) = 0.003271704216046697\n",
            "Dot product of product functions (0, 9, 3) and (0, 6, 3) = 0.01997530703257838\n",
            "Dot product of product functions (0, 9, 3) and (0, 7, 3) = 0.017501594141026488\n",
            "Dot product of product functions (0, 9, 3) and (0, 8, 3) = 0.07273382179543751\n",
            "Dot product of product functions (0, 9, 4) and (0, 0, 4) = 0.0630659690295009\n",
            "Dot product of product functions (0, 9, 4) and (0, 1, 4) = 0.023872013313029024\n",
            "Dot product of product functions (0, 9, 4) and (0, 2, 4) = 0.04057271515162927\n",
            "Dot product of product functions (0, 9, 4) and (0, 3, 4) = 0.027456566591435614\n",
            "Dot product of product functions (0, 9, 4) and (0, 4, 4) = 0.0017204183392813387\n",
            "Dot product of product functions (0, 9, 4) and (0, 5, 4) = 0.08227219293524832\n",
            "Dot product of product functions (0, 9, 4) and (0, 8, 4) = 0.07668295362720608\n",
            "Dot product of product functions (0, 9, 5) and (0, 0, 5) = 0.09659421333431095\n",
            "Dot product of product functions (0, 9, 5) and (0, 3, 5) = 0.04068831297013815\n",
            "Dot product of product functions (0, 9, 5) and (0, 4, 5) = 0.0002834338864917508\n",
            "Dot product of product functions (0, 9, 5) and (0, 7, 5) = 0.003261010989782665\n",
            "Dot product of product functions (0, 9, 6) and (0, 0, 6) = 0.04691237474809643\n",
            "Dot product of product functions (0, 9, 6) and (0, 1, 6) = 0.09974702527862284\n",
            "Dot product of product functions (0, 9, 6) and (0, 2, 6) = 0.029499163037976846\n",
            "Dot product of product functions (0, 9, 6) and (0, 3, 6) = 0.019408729479343592\n",
            "Dot product of product functions (0, 9, 6) and (0, 4, 6) = 0.006213759542312847\n",
            "Dot product of product functions (0, 9, 7) and (0, 1, 7) = 0.10824068468652799\n",
            "Dot product of product functions (0, 9, 7) and (0, 3, 7) = 0.03160207770531752\n",
            "Dot product of product functions (0, 9, 7) and (0, 4, 7) = 0.009744074117936308\n",
            "Dot product of product functions (0, 9, 7) and (0, 5, 7) = 0.0013254398840446184\n",
            "Dot product of product functions (0, 9, 8) and (0, 1, 8) = 0.016957629381871224\n",
            "Dot product of product functions (0, 9, 8) and (0, 3, 8) = 0.057423385670751406\n",
            "Dot product of product functions (0, 9, 8) and (0, 5, 8) = 0.02918755501666837\n",
            "Dot product of product functions (0, 9, 8) and (0, 7, 8) = 0.0820321711718165\n",
            "Dot product of product functions (0, 9, 9) and (0, 0, 9) = 0.029558313845867722\n",
            "Dot product of product functions (0, 9, 9) and (0, 3, 9) = 0.024115509167254114\n",
            "Dot product of product functions (0, 9, 9) and (0, 4, 9) = 0.0071846575937144705\n",
            "Dot product of product functions (0, 9, 9) and (0, 7, 9) = 0.069356129845063\n",
            "Dot product of product functions (0, 9, 10) and (0, 1, 10) = 0.13310416589019788\n",
            "Dot product of product functions (0, 9, 10) and (0, 2, 10) = 0.019607954171281628\n",
            "Dot product of product functions (0, 9, 10) and (0, 4, 10) = 0.004152238327689437\n",
            "Dot product of product functions (0, 9, 10) and (0, 5, 10) = 0.0667364589597773\n",
            "Dot product of product functions (0, 9, 11) and (0, 1, 11) = 0.06229411493780095\n",
            "Dot product of product functions (0, 9, 11) and (0, 2, 11) = 0.07960169774626193\n",
            "Dot product of product functions (0, 9, 11) and (0, 3, 11) = 0.013271769805723248\n",
            "Dot product of product functions (0, 9, 11) and (0, 5, 11) = 0.008614403166371928\n",
            "Dot product of product functions (0, 9, 11) and (0, 8, 11) = 0.017067769525733356\n",
            "Dot product of product functions (0, 9, 12) and (0, 0, 12) = 0.02454645327610142\n",
            "Dot product of product functions (0, 9, 12) and (0, 4, 12) = 0.007272986881776869\n",
            "Dot product of product functions (0, 9, 12) and (0, 7, 12) = 0.05748832826813862\n",
            "Dot product of product functions (0, 9, 12) and (0, 8, 12) = 0.0005568433213932359\n",
            "Dot product of product functions (0, 9, 13) and (0, 0, 13) = 0.05797352870067524\n",
            "Dot product of product functions (0, 9, 13) and (0, 1, 13) = 0.0859386189686138\n",
            "Dot product of product functions (0, 9, 13) and (0, 3, 13) = 0.0046808508613061925\n",
            "Dot product of product functions (0, 9, 13) and (0, 5, 13) = 0.00430673944967801\n",
            "Dot product of product functions (0, 9, 14) and (0, 3, 14) = 0.005700811196743062\n",
            "Dot product of product functions (0, 9, 14) and (0, 4, 14) = 0.002071718137342662\n",
            "Dot product of product functions (0, 9, 14) and (0, 5, 14) = 0.05294670667449442\n",
            "Dot product of product functions (0, 9, 14) and (0, 6, 14) = 0.012528118932179297\n",
            "Dot product of product functions (0, 9, 14) and (0, 7, 14) = 0.05250668667823548\n",
            "Dot product of product functions (0, 9, 14) and (0, 8, 14) = 0.01809779212071313\n",
            "Dot product of product functions (0, 9, 15) and (0, 6, 15) = 0.02105952851123943\n",
            "Dot product of product functions (0, 9, 15) and (0, 7, 15) = 0.08249520994763507\n",
            "Dot product of product functions (0, 9, 16) and (0, 1, 16) = 0.07143974280931993\n"
          ]
        },
        {
          "ename": "KeyboardInterrupt",
          "evalue": "ignored",
          "output_type": "error",
          "traceback": [
            "\u001b[0;31m---------------------------------------------------------------------------\u001b[0m",
            "\u001b[0;31mKeyboardInterrupt\u001b[0m                         Traceback (most recent call last)",
            "\u001b[0;32m<ipython-input-10-552690b5b845>\u001b[0m in \u001b[0;36m<module>\u001b[0;34m\u001b[0m\n\u001b[1;32m     12\u001b[0m           \u001b[0;32mfor\u001b[0m \u001b[0mk2\u001b[0m \u001b[0;32min\u001b[0m \u001b[0mrange\u001b[0m\u001b[0;34m(\u001b[0m\u001b[0mrange_k\u001b[0m\u001b[0;34m)\u001b[0m\u001b[0;34m:\u001b[0m\u001b[0;34m\u001b[0m\u001b[0;34m\u001b[0m\u001b[0m\n\u001b[1;32m     13\u001b[0m             \u001b[0;32mif\u001b[0m \u001b[0mi1\u001b[0m \u001b[0;34m>=\u001b[0m \u001b[0mi2\u001b[0m \u001b[0;32mand\u001b[0m \u001b[0mj1\u001b[0m \u001b[0;34m>=\u001b[0m \u001b[0mj2\u001b[0m \u001b[0;32mand\u001b[0m \u001b[0mk1\u001b[0m \u001b[0;34m>=\u001b[0m \u001b[0mk2\u001b[0m\u001b[0;34m:\u001b[0m \u001b[0;31m# To avoid double counting\u001b[0m\u001b[0;34m\u001b[0m\u001b[0;34m\u001b[0m\u001b[0m\n\u001b[0;32m---> 14\u001b[0;31m               \u001b[0mf1x\u001b[0m \u001b[0;34m=\u001b[0m \u001b[0melement_from_10x\u001b[0m\u001b[0;34m(\u001b[0m\u001b[0;36m1\u001b[0m\u001b[0;34m,\u001b[0m \u001b[0;34m[\u001b[0m\u001b[0mi1\u001b[0m\u001b[0;34m,\u001b[0m \u001b[0mj1\u001b[0m\u001b[0;34m,\u001b[0m \u001b[0mk1\u001b[0m\u001b[0;34m]\u001b[0m\u001b[0;34m)\u001b[0m\u001b[0;34m\u001b[0m\u001b[0;34m\u001b[0m\u001b[0m\n\u001b[0m\u001b[1;32m     15\u001b[0m               \u001b[0mf1y\u001b[0m \u001b[0;34m=\u001b[0m \u001b[0melement_from_10x\u001b[0m\u001b[0;34m(\u001b[0m\u001b[0;36m2\u001b[0m\u001b[0;34m,\u001b[0m \u001b[0;34m[\u001b[0m\u001b[0mi1\u001b[0m\u001b[0;34m,\u001b[0m \u001b[0mj1\u001b[0m\u001b[0;34m,\u001b[0m \u001b[0mk1\u001b[0m\u001b[0;34m]\u001b[0m\u001b[0;34m)\u001b[0m\u001b[0;34m\u001b[0m\u001b[0;34m\u001b[0m\u001b[0m\n\u001b[1;32m     16\u001b[0m               \u001b[0mf1z\u001b[0m \u001b[0;34m=\u001b[0m \u001b[0melement_from_10x\u001b[0m\u001b[0;34m(\u001b[0m\u001b[0;36m3\u001b[0m\u001b[0;34m,\u001b[0m \u001b[0;34m[\u001b[0m\u001b[0mi1\u001b[0m\u001b[0;34m,\u001b[0m \u001b[0mj1\u001b[0m\u001b[0;34m,\u001b[0m \u001b[0mk1\u001b[0m\u001b[0;34m]\u001b[0m\u001b[0;34m)\u001b[0m\u001b[0;34m\u001b[0m\u001b[0;34m\u001b[0m\u001b[0m\n",
            "\u001b[0;32m<ipython-input-3-0dc5f6df9e2a>\u001b[0m in \u001b[0;36melement_from_10x\u001b[0;34m(xInFort10x, indices_list)\u001b[0m\n\u001b[1;32m      8\u001b[0m     \u001b[0mi_1\u001b[0m \u001b[0;34m=\u001b[0m \u001b[0mindices_list\u001b[0m\u001b[0;34m[\u001b[0m\u001b[0;36m0\u001b[0m\u001b[0;34m]\u001b[0m \u001b[0;31m# Index of the first 2d tensor\u001b[0m\u001b[0;34m\u001b[0m\u001b[0;34m\u001b[0m\u001b[0m\n\u001b[1;32m      9\u001b[0m \u001b[0;34m\u001b[0m\u001b[0m\n\u001b[0;32m---> 10\u001b[0;31m     \u001b[0melement\u001b[0m \u001b[0;34m=\u001b[0m \u001b[0mnp\u001b[0m\u001b[0;34m.\u001b[0m\u001b[0mloadtxt\u001b[0m\u001b[0;34m(\u001b[0m\u001b[0;34m\"fort.101\"\u001b[0m\u001b[0;34m)\u001b[0m\u001b[0;34m[\u001b[0m\u001b[0;34m:\u001b[0m\u001b[0;34m,\u001b[0m \u001b[0mi_1\u001b[0m\u001b[0;34m]\u001b[0m\u001b[0;34m\u001b[0m\u001b[0;34m\u001b[0m\u001b[0m\n\u001b[0m\u001b[1;32m     11\u001b[0m   \u001b[0;32melse\u001b[0m\u001b[0;34m:\u001b[0m \u001b[0;31m# fort.10x is for a 3d tensor\u001b[0m\u001b[0;34m\u001b[0m\u001b[0;34m\u001b[0m\u001b[0m\n\u001b[1;32m     12\u001b[0m     \u001b[0;31m# The indices corresponding to this tensor will be i_(xInFort10x-1), i_(xInFort10x)\u001b[0m\u001b[0;34m\u001b[0m\u001b[0;34m\u001b[0m\u001b[0;34m\u001b[0m\u001b[0m\n",
            "\u001b[0;32m/usr/local/lib/python3.7/dist-packages/numpy/lib/npyio.py\u001b[0m in \u001b[0;36mloadtxt\u001b[0;34m(fname, dtype, comments, delimiter, converters, skiprows, usecols, unpack, ndmin, encoding, max_rows, like)\u001b[0m\n\u001b[1;32m   1157\u001b[0m     \u001b[0;32mfinally\u001b[0m\u001b[0;34m:\u001b[0m\u001b[0;34m\u001b[0m\u001b[0;34m\u001b[0m\u001b[0m\n\u001b[1;32m   1158\u001b[0m         \u001b[0;32mif\u001b[0m \u001b[0mfown\u001b[0m\u001b[0;34m:\u001b[0m\u001b[0;34m\u001b[0m\u001b[0;34m\u001b[0m\u001b[0m\n\u001b[0;32m-> 1159\u001b[0;31m             \u001b[0mfh\u001b[0m\u001b[0;34m.\u001b[0m\u001b[0mclose\u001b[0m\u001b[0;34m(\u001b[0m\u001b[0;34m)\u001b[0m\u001b[0;34m\u001b[0m\u001b[0;34m\u001b[0m\u001b[0m\n\u001b[0m\u001b[1;32m   1160\u001b[0m \u001b[0;34m\u001b[0m\u001b[0m\n\u001b[1;32m   1161\u001b[0m     \u001b[0;32mif\u001b[0m \u001b[0mX\u001b[0m \u001b[0;32mis\u001b[0m \u001b[0;32mNone\u001b[0m\u001b[0;34m:\u001b[0m\u001b[0;34m\u001b[0m\u001b[0;34m\u001b[0m\u001b[0m\n",
            "\u001b[0;31mKeyboardInterrupt\u001b[0m: "
          ]
        }
      ],
      "source": [
        "# First find the range of each hidden variable. \n",
        "range_i = np.loadtxt(\"fort.201\").shape[0]\n",
        "range_j = np.loadtxt(\"fort.202\").shape[0]\n",
        "range_k = np.loadtxt(\"fort.203\").shape[0]\n",
        "\n",
        "# Now do the permutations\n",
        "for i1 in range(range_i):\n",
        "  for j1 in range(range_j):\n",
        "    for k1 in range(range_k):\n",
        "      for i2 in range(range_i):\n",
        "        for j2 in range(range_j):\n",
        "          for k2 in range(range_k):\n",
        "            if i1 >= i2 and j1 >= j2 and k1 >= k2: # To avoid double counting\n",
        "              f1x = element_from_10x(1, [i1, j1, k1])\n",
        "              f1y = element_from_10x(2, [i1, j1, k1])\n",
        "              f1z = element_from_10x(3, [i1, j1, k1])\n",
        "              f1l = element_from_30Dminus1([i1, j1, k1])\n",
        "              f2x = element_from_10x(1, [i2, j2, k2])\n",
        "              f2y = element_from_10x(2, [i2, j2, k2])\n",
        "              f2z = element_from_10x(3, [i2, j2, k2])\n",
        "              f2l = element_from_30Dminus1([i2, j2, k2])\n",
        "              sigma1 = element_from_20x(1, [i1, j1, k1]) * element_from_20x(2, [i1, j1, k1]) * element_from_20x(3, [i1, j1, k1])\n",
        "              sigma2 = element_from_20x(1, [i2, j2, k2]) * element_from_20x(2, [i2, j2, k2]) * element_from_20x(3, [i1, j1, k1])\n",
        "              dot_prod = np.dot(f1x, f2x) * np.dot(f1y, f2y) * np.dot(f1z, f2z) * np.dot(f1l, f2l) * sigma1 * sigma2 / ( np.sqrt( \n",
        "              np.dot(f1x, f1x)*np.dot(f1y, f1y)*np.dot(f1z, f1z)*np.dot(f2x, f2x)*np.dot(f2y, f2y)*np.dot(f2z, f2z) )\n",
        "              * sigma1 * sigma2 )\n",
        "\n",
        "              if dot_prod > 1e-8 and dot_prod < 0.99:\n",
        "                print(\"Dot product of product functions \" + str( (i1, j1, k1) ) + \" and \" + str( (i2, j2, k2) ) + \" = \" + str(dot_prod))"
      ]
    },
    {
      "cell_type": "code",
      "execution_count": null,
      "metadata": {
        "colab": {
          "base_uri": "https://localhost:8080/"
        },
        "id": "bLLWeYJLGmyM",
        "outputId": "d4b54ae4-dfaa-4763-bf59-001c7568efa5"
      },
      "outputs": [
        {
          "output_type": "stream",
          "name": "stdout",
          "text": [
            "Dot product of product functions (0, 6, 19) and (0, 3, 19) = 6.205054216024882e-06\n",
            "Dot product of product functions (0, 10, 4) and (0, 2, 4) = 2.481114832229071e-06\n",
            "Dot product of product functions (0, 10, 14) and (0, 7, 14) = 9.431345963894351e-06\n",
            "Dot product of product functions (0, 17, 7) and (0, 11, 7) = 3.667416332962988e-06\n",
            "Dot product of product functions (1, 8, 8) and (1, 6, 8) = 6.768936844996581e-06\n",
            "5\n"
          ]
        }
      ],
      "source": [
        "# First find the range of each hidden variable. \n",
        "range_i = np.loadtxt(\"fort.201\").shape[0]\n",
        "range_j = np.loadtxt(\"fort.202\").shape[0]\n",
        "range_k = np.loadtxt(\"fort.203\").shape[0]\n",
        "\n",
        "# Now do the permutations\n",
        "count = 0\n",
        "for i1 in range(range_i):\n",
        "  for j1 in range(range_j):\n",
        "    for k1 in range(range_k):\n",
        "      for j2 in range(range_j):\n",
        "        if j1 >= j2: # To avoid double counting\n",
        "          f1x = element_from_10x(1, [i1, j1, k1])\n",
        "          f1y = element_from_10x(2, [i1, j1, k1])\n",
        "          f1z = element_from_10x(3, [i1, j1, k1])\n",
        "          f1l = element_from_30Dminus1([i1, j1, k1])\n",
        "          f2x = element_from_10x(1, [i1, j2, k1])\n",
        "          f2y = element_from_10x(2, [i1, j2, k1])\n",
        "          f2z = element_from_10x(3, [i1, j2, k1])\n",
        "          f2l = element_from_30Dminus1([i1, j2, k1])\n",
        "          sigma1 = element_from_20x(1, [i1, j1, k1]) * element_from_20x(2, [i1, j1, k1]) * element_from_20x(3, [i1, j1, k1])\n",
        "          sigma2 = element_from_20x(1, [i1, j2, k1]) * element_from_20x(2, [i1, j2, k1]) * element_from_20x(3, [i1, j1, k1])\n",
        "          dot_prod = np.dot(f1x, f2x) * np.dot(f1y, f2y) * np.dot(f1z, f2z) * np.dot(f1l, f2l) * sigma1 * sigma2 / ( np.sqrt( \n",
        "          np.dot(f1x, f1x)*np.dot(f1y, f1y)*np.dot(f1z, f1z)*np.dot(f2x, f2x)*np.dot(f2y, f2y)*np.dot(f2z, f2z) )\n",
        "          * sigma1 * sigma2 )\n",
        "\n",
        "          if dot_prod > 1e-7 and dot_prod <= 1e-5 :\n",
        "            print(\"Dot product of product functions \" + str( (i1, j1, k1) ) + \" and \" + str( (i1, j2, k1) ) + \" = \" + str(dot_prod))\n",
        "            count += 1\n",
        "print(count)"
      ]
    },
    {
      "cell_type": "code",
      "execution_count": null,
      "metadata": {
        "id": "76HNQQ9oWrFx"
      },
      "outputs": [],
      "source": []
    }
  ],
  "metadata": {
    "colab": {
      "collapsed_sections": [
        "xB5VrJR1YMAz",
        "2bHUD2W4Y1xw"
      ],
      "provenance": []
    },
    "kernelspec": {
      "display_name": "Python 3",
      "name": "python3"
    },
    "language_info": {
      "name": "python"
    }
  },
  "nbformat": 4,
  "nbformat_minor": 0
}