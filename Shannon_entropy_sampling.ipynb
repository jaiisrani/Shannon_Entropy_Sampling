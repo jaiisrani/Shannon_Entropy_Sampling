{
  "cells": [
    {
      "cell_type": "markdown",
      "metadata": {
        "id": "uq5159tO9N1n"
      },
      "source": [
        "## K-means clustering in general"
      ]
    },
    {
      "cell_type": "code",
      "execution_count": null,
      "metadata": {
        "colab": {
          "base_uri": "https://localhost:8080/"
        },
        "id": "1EmXQk8H6VL8",
        "outputId": "39edc811-ed39-43e1-b59b-61af16436b1f"
      },
      "outputs": [
        {
          "name": "stdout",
          "output_type": "stream",
          "text": [
            "[1 1 1 1 0 0 0]\n",
            "[1]\n",
            "[[7. 2.]\n",
            " [1. 1.]]\n",
            "(7, 2)\n"
          ]
        }
      ],
      "source": [
        "from sklearn.cluster import KMeans\n",
        "import numpy as np\n",
        "X = np.array([[1, 0], [1, 1], [0, 2], [2, 1],\n",
        "              [8, 1], [7, 2], [6, 3]]) # data points to be fitted using Frobenius norm.\n",
        "              # This has got nothing to do with graph\n",
        "\n",
        "kmeans = KMeans(n_clusters = 2, random_state=42).fit(X) # Didn't understand random_state\n",
        "#kmeans = KMeans(n_clusters = 2, random_state=0).fit(X, sample_weight=np.array([0.5, 0.5, 0.5, 0.5, 0.01, 0.01, 0.01]))\n",
        "\n",
        "print(kmeans.labels_) # what is the label for each cluster\n",
        "print(kmeans.predict([[2, 3]])) # classifying a random point \n",
        "print(kmeans.cluster_centers_) # center of each cluster"
      ]
    },
    {
      "cell_type": "code",
      "execution_count": null,
      "metadata": {
        "colab": {
          "base_uri": "https://localhost:8080/",
          "height": 264
        },
        "id": "tZ9cXaZ_6Z48",
        "outputId": "fb235eea-ccec-48ef-b926-20e899b766e6"
      },
      "outputs": [
        {
          "data": {
            "image/png": "[encoded data removed]",
            "text/plain": [
              "<Figure size 432x288 with 1 Axes>"
            ]
          },
          "metadata": {},
          "output_type": "display_data"
        }
      ],
      "source": [
        "import matplotlib.pyplot as plt\n",
        "#plt.scatter(X[:, 0], X[:, 1])\n",
        "cluster1 = []\n",
        "cluster2 = []\n",
        "for i in range(len(X)):\n",
        "  if (kmeans.labels_)[i] == 0:\n",
        "    cluster1.append(list(X[i, :]))\n",
        "  elif (kmeans.labels_)[i] == 1:\n",
        "    cluster2.append(list(X[i, :]))\n",
        "\n",
        "cluster1 = np.array(cluster1)\n",
        "cluster2 = np.array(cluster2)\n",
        "plt.figure()\n",
        "plt.scatter(cluster1[:, 0], cluster1[:, 1], c='b')\n",
        "plt.scatter(cluster2[:, 0], cluster2[:, 1], c='g')\n",
        "plt.show()"
      ]
    },
    {
      "cell_type": "markdown",
      "metadata": {
        "id": "oLFhtNa9P4CB"
      },
      "source": [
        "## K-means clustering using fort.101 and fort.303 as weights"
      ]
    },
    {
      "cell_type": "code",
      "execution_count": null,
      "metadata": {
        "colab": {
          "base_uri": "https://localhost:8080/"
        },
        "id": "IACy43D--eIN",
        "outputId": "7b25a493-f3b9-46db-e9f4-3ccde5d1ed8a"
      },
      "outputs": [
        {
          "name": "stdout",
          "output_type": "stream",
          "text": [
            "(99,)\n",
            "(99, 1)\n",
            "99\n"
          ]
        }
      ],
      "source": [
        "from sklearn.cluster import KMeans\n",
        "import numpy as np\n",
        "weight = np.loadtxt(\"fort.101\")[:, 1]\n",
        "num_fitting_points = len(weight) # number of points in the given data to be fitted for sampling\n",
        "#weight = np.array(list(weight))\n",
        "\n",
        "# Arrange the data in proper array size i.e. (num_fitting_points,1)\n",
        "X = np.arange(num_fitting_points) \n",
        "X_ = np.zeros((num_fitting_points, 1))\n",
        "for i in range(len(X)):\n",
        "  X_[i, 0] = X[i]\n",
        "X = X_\n",
        "print(weight.shape)\n",
        "print(X.shape)\n",
        "print(num_fitting_points)"
      ]
    },
    {
      "cell_type": "markdown",
      "metadata": {
        "id": "3qTIVxj_LrGO"
      },
      "source": [
        "### Sampling without weights"
      ]
    },
    {
      "cell_type": "code",
      "execution_count": null,
      "metadata": {
        "colab": {
          "base_uri": "https://localhost:8080/"
        },
        "id": "FHOHe1U5eHu_",
        "outputId": "c50ae7b6-be13-4bda-bcb2-0d982efa5c11"
      },
      "outputs": [
        {
          "name": "stdout",
          "output_type": "stream",
          "text": [
            "[9 9 9 9 9 9 9 9 9 1 1 1 1 1 1 1 1 1 1 7 7 7 7 7 7 7 7 7 7 5 5 5 5 5 5 5 5\n",
            " 5 5 5 0 0 0 0 0 0 0 0 0 0 0 3 3 3 3 3 3 3 3 3 3 6 6 6 6 6 6 6 6 8 8 8 8 8\n",
            " 8 8 8 8 2 2 2 2 2 2 2 2 2 2 4 4 4 4 4 4 4 4 4 4 4]\n",
            "[45.  13.5 82.5 55.5 93.  34.  64.5 23.5 73.   4. ]\n"
          ]
        }
      ],
      "source": [
        "# First let's do sampling without weights\n",
        "#kmeans_w = KMeans(n_clusters=10, random_state=0).fit(X, sample_weight=weight)\n",
        "num_clusters = 10\n",
        "kmeans = KMeans(num_clusters, random_state=40).fit(X)\n",
        "print(kmeans.labels_)\n",
        "print(kmeans.cluster_centers_[:,0])\n",
        "#print(type(kmeans.cluster_centers_))"
      ]
    },
    {
      "cell_type": "code",
      "execution_count": null,
      "metadata": {
        "colab": {
          "base_uri": "https://localhost:8080/",
          "height": 280
        },
        "id": "VZoUzdb2-jni",
        "outputId": "e5434d3b-99e6-4ce4-ffb0-8a57fc16f5eb"
      },
      "outputs": [
        {
          "data": {
            "image/png": "[encoded data removed]",
            "text/plain": [
              "<Figure size 432x288 with 1 Axes>"
            ]
          },
          "metadata": {},
          "output_type": "display_data"
        }
      ],
      "source": [
        "import matplotlib.pyplot as plt\n",
        "cluster1 = []\n",
        "cluster2 = []\n",
        "cluster3 = []\n",
        "cluster4 = []\n",
        "cluster5 = []\n",
        "cluster6 = []\n",
        "cluster7 = []\n",
        "cluster8 = []\n",
        "cluster9 = []\n",
        "cluster10 = []\n",
        "for i in range(num_fitting_points): # Putting points in one cluster in a single array\n",
        "  if (kmeans.labels_)[i] == 0:\n",
        "    cluster1.append(list(X[i, :]))\n",
        "  elif (kmeans.labels_)[i] == 1:\n",
        "    cluster2.append(list(X[i, :]))\n",
        "  elif (kmeans.labels_)[i] == 2:\n",
        "    cluster3.append(list(X[i, :]))\n",
        "  elif (kmeans.labels_)[i] == 3:\n",
        "    cluster4.append(list(X[i, :]))\n",
        "  elif (kmeans.labels_)[i] == 4:\n",
        "    cluster5.append(list(X[i, :]))\n",
        "  elif (kmeans.labels_)[i] == 5:\n",
        "    cluster6.append(list(X[i, :]))\n",
        "  elif (kmeans.labels_)[i] == 6:\n",
        "    cluster7.append(list(X[i, :]))\n",
        "  elif (kmeans.labels_)[i] == 7:\n",
        "    cluster8.append(list(X[i, :]))\n",
        "  elif (kmeans.labels_)[i] == 8:\n",
        "    cluster9.append(list(X[i, :]))\n",
        "  elif (kmeans.labels_)[i] == 9:\n",
        "    cluster10.append(list(X[i, :]))\n",
        "cluster1 = np.array(cluster1)\n",
        "cluster2 = np.array(cluster2)\n",
        "cluster3 = np.array(cluster3)\n",
        "cluster4 = np.array(cluster4)\n",
        "cluster5 = np.array(cluster5)\n",
        "cluster6 = np.array(cluster6)\n",
        "cluster7 = np.array(cluster7)\n",
        "cluster8 = np.array(cluster8)\n",
        "cluster9 = np.array(cluster9)\n",
        "cluster10 = np.array(cluster10)\n",
        "\n",
        "plt.figure()\n",
        "# points marked by dots of same size are in the same sample\n",
        "plt.scatter(cluster1[:, 0], np.zeros(len(list(cluster1))), c='g', s=1) \n",
        "plt.scatter(cluster2[:, 0], np.zeros(len(list(cluster2))), c='g', s=50)\n",
        "plt.scatter(cluster3[:, 0], np.zeros(len(list(cluster3))), c='g', s=100)\n",
        "plt.scatter(cluster4[:, 0], np.zeros(len(list(cluster4))), c='g', s=150)\n",
        "plt.scatter(cluster5[:, 0], np.zeros(len(list(cluster5))), c='g', s=200)\n",
        "plt.scatter(cluster6[:, 0], np.zeros(len(list(cluster6))), c='g', s=250)\n",
        "plt.scatter(cluster7[:, 0], np.zeros(len(list(cluster7))), c='g', s=300)\n",
        "plt.scatter(cluster8[:, 0], np.zeros(len(list(cluster8))), c='g', s=350)\n",
        "plt.scatter(cluster9[:, 0], np.zeros(len(list(cluster9))), c='g', s=400)\n",
        "plt.scatter(cluster10[:, 0], np.zeros(len(list(cluster10))), c='g', s=450)\n",
        "plt.title(\"Sampling without weights\")\n",
        "plt.show()"
      ]
    },
    {
      "cell_type": "markdown",
      "metadata": {
        "id": "VZZeCXWXLv-c"
      },
      "source": [
        "### Sampling using weights"
      ]
    },
    {
      "cell_type": "code",
      "execution_count": null,
      "metadata": {
        "colab": {
          "base_uri": "https://localhost:8080/"
        },
        "id": "vp_T3knA-jaz",
        "outputId": "12fba481-c6bf-4369-9f50-58787c10fc22"
      },
      "outputs": [
        {
          "name": "stdout",
          "output_type": "stream",
          "text": [
            "[4 4 4 1 1 1 1 1 1 1 1 1 1 1 1 1 1 1 1 1 1 1 1 1 1 1 1 1 1 1 1 1 1 1 1 1 1\n",
            " 3 3 3 3 9 9 9 9 7 7 7 0 0 6 6 6 6 8 8 8 8 8 8 8 5 5 5 5 5 5 5 5 5 5 5 5 5\n",
            " 5 5 5 5 5 5 5 5 5 5 5 5 5 5 5 5 5 5 5 5 5 2 2 2 2]\n"
          ]
        }
      ],
      "source": [
        "# Now let's do sampling with weights\n",
        "num_clusters = 10\n",
        "kmeans = KMeans(n_clusters=num_clusters, random_state=1).fit(X, sample_weight=weight)\n",
        "print(kmeans.labels_)"
      ]
    },
    {
      "cell_type": "code",
      "execution_count": null,
      "metadata": {
        "colab": {
          "base_uri": "https://localhost:8080/",
          "height": 282
        },
        "id": "2QAbiEIB7Gic",
        "outputId": "97e6c6d4-2240-49cb-84e3-e524075ea5ab"
      },
      "outputs": [
        {
          "data": {
            "text/plain": [
              "<matplotlib.legend.Legend at 0x7fd7ccc74f50>"
            ]
          },
          "execution_count": 20,
          "metadata": {},
          "output_type": "execute_result"
        },
        {
          "data": {
            "image/png": "[encoded data removed]",
            "text/plain": [
              "<Figure size 432x288 with 1 Axes>"
            ]
          },
          "metadata": {},
          "output_type": "display_data"
        }
      ],
      "source": [
        "####### SHORTCUT FOR PLOTTING #######\n",
        "\n",
        "#plt.scatter(X, np.zeros((num_fitting_points, 1)), c=kmeans.labels_, label=\"clustering function\", s=1)\n",
        "plt.scatter(X, weight, c=kmeans.labels_, label=\"clustering function\", s=1)\n",
        "#plt.scatter(kmeans.cluster_centers_[:, 0], np.zeros((num_clusters, 1)), marker=\"x\", label=\"cluster center\")\n",
        "plt.legend()"
      ]
    },
    {
      "cell_type": "code",
      "execution_count": null,
      "metadata": {
        "colab": {
          "base_uri": "https://localhost:8080/",
          "height": 280
        },
        "id": "9J5CLze0dXiw",
        "outputId": "1eb64fbf-afca-48ec-b173-19892bca96c8"
      },
      "outputs": [
        {
          "data": {
            "image/png": "[encoded data removed]",
            "text/plain": [
              "<Figure size 432x288 with 1 Axes>"
            ]
          },
          "metadata": {},
          "output_type": "display_data"
        }
      ],
      "source": [
        "## LONGCUT FOR PLOTTING ##\n",
        "import matplotlib.pyplot as plt\n",
        "cluster1 = []\n",
        "cluster2 = []\n",
        "cluster3 = []\n",
        "cluster4 = []\n",
        "cluster5 = []\n",
        "cluster6 = []\n",
        "cluster7 = []\n",
        "cluster8 = []\n",
        "cluster9 = []\n",
        "cluster10 = []\n",
        "for i in range(num_fitting_points): # Putting points in one cluster in a single array\n",
        "  if (kmeans.labels_)[i] == 0:\n",
        "    cluster1.append(list(X[i, :]))\n",
        "  elif (kmeans.labels_)[i] == 1:\n",
        "    cluster2.append(list(X[i, :]))\n",
        "  elif (kmeans.labels_)[i] == 2:\n",
        "    cluster3.append(list(X[i, :]))\n",
        "  elif (kmeans.labels_)[i] == 3:\n",
        "    cluster4.append(list(X[i, :]))\n",
        "  elif (kmeans.labels_)[i] == 4:\n",
        "    cluster5.append(list(X[i, :]))\n",
        "  elif (kmeans.labels_)[i] == 5:\n",
        "    cluster6.append(list(X[i, :]))\n",
        "  elif (kmeans.labels_)[i] == 6:\n",
        "    cluster7.append(list(X[i, :]))\n",
        "  elif (kmeans.labels_)[i] == 7:\n",
        "    cluster8.append(list(X[i, :]))\n",
        "  elif (kmeans.labels_)[i] == 8:\n",
        "    cluster9.append(list(X[i, :]))\n",
        "  elif (kmeans.labels_)[i] == 9:\n",
        "    cluster10.append(list(X[i, :]))\n",
        "cluster1 = np.array(cluster1)\n",
        "cluster2 = np.array(cluster2)\n",
        "cluster3 = np.array(cluster3)\n",
        "cluster4 = np.array(cluster4)\n",
        "cluster5 = np.array(cluster5)\n",
        "cluster6 = np.array(cluster6)\n",
        "cluster7 = np.array(cluster7)\n",
        "cluster8 = np.array(cluster8)\n",
        "cluster9 = np.array(cluster9)\n",
        "cluster10 = np.array(cluster10)\n",
        "\n",
        "plt.figure()\n",
        "# points marked by dots of same size are in the same sample\n",
        "plt.scatter(cluster1[:, 0], np.zeros(len(list(cluster1))), c='g', s=1) \n",
        "plt.scatter(cluster2[:, 0], np.zeros(len(list(cluster2))), c='g', s=50)\n",
        "plt.scatter(cluster3[:, 0], np.zeros(len(list(cluster3))), c='g', s=100)\n",
        "plt.scatter(cluster4[:, 0], np.zeros(len(list(cluster4))), c='g', s=150)\n",
        "plt.scatter(cluster5[:, 0], np.zeros(len(list(cluster5))), c='g', s=200)\n",
        "plt.scatter(cluster6[:, 0], np.zeros(len(list(cluster6))), c='g', s=250)\n",
        "plt.scatter(cluster7[:, 0], np.zeros(len(list(cluster7))), c='g', s=300)\n",
        "plt.scatter(cluster8[:, 0], np.zeros(len(list(cluster8))), c='g', s=350)\n",
        "plt.scatter(cluster9[:, 0], np.zeros(len(list(cluster9))), c='g', s=400)\n",
        "plt.scatter(cluster10[:, 0], np.zeros(len(list(cluster10))), c='g', s=450)\n",
        "plt.title(\"Sampling with weights\")\n",
        "plt.show()"
      ]
    },
    {
      "cell_type": "markdown",
      "metadata": {
        "id": "XgtySNLO5x0W"
      },
      "source": [
        "# Cartesian product of fort.101's first column sampling along x and fort.301's first row sampling along y. Make plot. On the same plot, cartesian product of fort.101's second column sampling along x and fort.301's second row sampling along y. Make plot. Do the same for all columns in 101 and all rows in 303. These files are in Shannon"
      ]
    },
    {
      "cell_type": "code",
      "execution_count": null,
      "metadata": {
        "id": "v6tC64bX-jTg"
      },
      "outputs": [],
      "source": [
        "from sklearn.cluster import KMeans\n",
        "import numpy as np"
      ]
    },
    {
      "cell_type": "markdown",
      "metadata": {
        "id": "oElaRMuBn6kT"
      },
      "source": [
        "## Longer and rough code"
      ]
    },
    {
      "cell_type": "code",
      "execution_count": null,
      "metadata": {
        "colab": {
          "base_uri": "https://localhost:8080/"
        },
        "id": "yelIuZYR-jQd",
        "outputId": "a9149bc6-b530-4ec0-c2ac-9335d0e81ba1"
      },
      "outputs": [
        {
          "name": "stdout",
          "output_type": "stream",
          "text": [
            "/content/drive/MyDrive/shannon\n",
            "Shape of array to be fitted in clustering algo is (99, 1)\n",
            "Shape of weights array is (99,)\n",
            "Number of points to be fitted is 99\n"
          ]
        }
      ],
      "source": [
        "# Firstly let's do sampling along x\n",
        "%cd /content/drive/MyDrive/shannon\n",
        "weightx = np.loadtxt(\"fort.101\")[:, 0]\n",
        "num_fitting_points = len(weightx)\n",
        "\n",
        "# Arrange the data in proper array size i.e. (num_fitting_points,1)\n",
        "X = np.arange(num_fitting_points)\n",
        "X_ = np.zeros((num_fitting_points, 1))\n",
        "for i in range(len(X)):\n",
        "  X_[i, 0] = X[i]\n",
        "X = X_\n",
        "print(\"Shape of array to be fitted in clustering algo is \" + str(X.shape))\n",
        "print(\"Shape of weights array is \" + str(weightx.shape))\n",
        "print(\"Number of points to be fitted is \" + str(num_fitting_points))"
      ]
    },
    {
      "cell_type": "code",
      "execution_count": null,
      "metadata": {
        "colab": {
          "base_uri": "https://localhost:8080/"
        },
        "id": "BxglipGxFQ5i",
        "outputId": "e3d3b42b-2ef0-49bb-a9e5-288ff5294834"
      },
      "outputs": [
        {
          "name": "stdout",
          "output_type": "stream",
          "text": [
            "Labels for clustering of fine grid is [3 7 7 7 7 7 7 7 7 7 7 7 7 7 7 7 7 7 7 7 7 7 7 7 7 7 7 7 7 7 7 7 7 7 7 7 7\n",
            " 7 7 7 7 7 7 7 7 7 7 7 7 6 4 4 9 9 1 1 1 1 1 1 1 1 1 1 1 1 1 1 1 1 1 1 1 1\n",
            " 1 1 1 1 1 1 1 1 1 1 1 1 1 1 1 1 1 1 1 1 1 1 1 1 1]\n",
            "Coordinates of centroids in clustered grid is [[ 53.24984681]\n",
            " [ 53.32049481]\n",
            " [ 48.61131476]\n",
            " [-47.05453277]\n",
            " [ 49.        ]\n",
            " [ 53.17781815]\n",
            " [ 49.        ]\n",
            " [ 48.1118144 ]\n",
            " [151.2126192 ]\n",
            " [ 53.10451825]]\n"
          ]
        },
        {
          "name": "stderr",
          "output_type": "stream",
          "text": [
            "/usr/local/lib/python3.7/dist-packages/ipykernel_launcher.py:4: ConvergenceWarning: Number of distinct clusters (6) found smaller than n_clusters (10). Possibly due to duplicate points in X.\n",
            "  after removing the cwd from sys.path.\n"
          ]
        }
      ],
      "source": [
        "# Now let's actually do sampling along x with weights\n",
        "num_clusters = 10\n",
        "kmeansx = KMeans(n_clusters=num_clusters, \n",
        "                random_state=0).fit(X, sample_weight=weightx)\n",
        "print(\"Labels for clustering of fine grid is \" \n",
        "      + str(kmeansx.labels_))\n",
        "print(\"Coordinates of centroids in clustered grid is \" \n",
        "      + str(kmeansx.cluster_centers_))"
      ]
    },
    {
      "cell_type": "code",
      "execution_count": null,
      "metadata": {
        "colab": {
          "base_uri": "https://localhost:8080/"
        },
        "id": "7eyM47wDGKgE",
        "outputId": "1dda7b52-6f98-4dcc-9a21-a0ff567d4bf6"
      },
      "outputs": [
        {
          "name": "stdout",
          "output_type": "stream",
          "text": [
            "/content/drive/MyDrive/shannon\n",
            "Shape of array to be fitted in clustering algo is (99, 1)\n",
            "Shape of weights array is (99,)\n",
            "Number of points to be fitted is 99\n"
          ]
        }
      ],
      "source": [
        "# Secondly let's do sampling along y\n",
        "%cd /content/drive/MyDrive/shannon\n",
        "weighty = np.loadtxt(\"fort.301\")[0, :]\n",
        "num_fitting_points = len(weighty)\n",
        "\n",
        "# Arrange the data in proper array size i.e. (num_fitting_points,1)\n",
        "Y = np.arange(num_fitting_points)\n",
        "Y_ = np.zeros((num_fitting_points, 1))\n",
        "for i in range(len(Y)):\n",
        "  Y_[i, 0] = Y[i]\n",
        "Y = Y_\n",
        "print(\"Shape of array to be fitted in clustering algo is \" + str(Y.shape))\n",
        "print(\"Shape of weights array is \" + str(weighty.shape))\n",
        "print(\"Number of points to be fitted is \" + str(num_fitting_points))"
      ]
    },
    {
      "cell_type": "code",
      "execution_count": null,
      "metadata": {
        "colab": {
          "base_uri": "https://localhost:8080/"
        },
        "id": "NtelS_LtIPGg",
        "outputId": "18faba38-2b13-4555-98c8-6bb99dd4f50a"
      },
      "outputs": [
        {
          "name": "stdout",
          "output_type": "stream",
          "text": [
            "Labels for clustering of fine grid is [4 4 4 4 4 4 4 4 4 4 4 4 4 4 4 4 4 4 4 4 4 4 4 4 4 4 4 4 4 4 4 4 4 4 4 4 4\n",
            " 4 4 4 4 4 4 4 4 4 4 3 3 7 9 9 6 0 0 0 0 0 0 0 0 0 0 0 0 0 0 0 0 0 0 0 0 0\n",
            " 0 0 0 0 0 0 0 0 0 0 0 0 0 0 0 0 0 0 0 0 0 0 0 0 0]\n",
            "Coordinates of centroids in clustered grid is [[ 52.65768237]\n",
            " [-59.00671133]\n",
            " [148.6196907 ]\n",
            " [ 48.61534286]\n",
            " [ 45.37787601]\n",
            " [ 48.61763115]\n",
            " [ 52.6341351 ]\n",
            " [ 49.        ]\n",
            " [ 49.12493142]\n",
            " [ 49.61409241]]\n"
          ]
        },
        {
          "name": "stderr",
          "output_type": "stream",
          "text": [
            "/usr/local/lib/python3.7/dist-packages/ipykernel_launcher.py:4: ConvergenceWarning: Number of distinct clusters (6) found smaller than n_clusters (10). Possibly due to duplicate points in X.\n",
            "  after removing the cwd from sys.path.\n"
          ]
        }
      ],
      "source": [
        "# Now let's actually do sampling along y with weights\n",
        "num_clusters = 10\n",
        "kmeansy = KMeans(n_clusters=num_clusters, \n",
        "                random_state=1).fit(Y, sample_weight=weighty)\n",
        "print(\"Labels for clustering of fine grid is \" \n",
        "      + str(kmeansy.labels_))\n",
        "print(\"Coordinates of centroids in clustered grid is \" \n",
        "      + str(kmeansy.cluster_centers_))"
      ]
    },
    {
      "cell_type": "code",
      "execution_count": null,
      "metadata": {
        "colab": {
          "base_uri": "https://localhost:8080/",
          "height": 264
        },
        "id": "OXIvxJjZIV4u",
        "outputId": "6061b278-719a-4ff0-ba98-82b0b00ca5c8"
      },
      "outputs": [
        {
          "data": {
            "image/png": "[encoded data removed]",
            "text/plain": [
              "<Figure size 432x288 with 1 Axes>"
            ]
          },
          "metadata": {},
          "output_type": "display_data"
        }
      ],
      "source": [
        "# Plotting cluster centers along y versus cluster centers along x\n",
        "import matplotlib.pyplot as plt\n",
        "plt.scatter(kmeansx.cluster_centers_, kmeansy.cluster_centers_, s=10)\n",
        "plt.show()"
      ]
    },
    {
      "cell_type": "markdown",
      "metadata": {
        "id": "Gy7302xToA4U"
      },
      "source": [
        "## Shorter and main code"
      ]
    },
    {
      "cell_type": "code",
      "execution_count": null,
      "metadata": {
        "colab": {
          "base_uri": "https://localhost:8080/"
        },
        "id": "LFJmuda6JK-Q",
        "outputId": "142ea0d2-80f2-4dff-863d-7c039cfd5c16"
      },
      "outputs": [
        {
          "name": "stdout",
          "output_type": "stream",
          "text": [
            "/content/drive/MyDrive/shannon\n",
            "Labels for clustering of fine grid along x is [4 4 4 4 4 4 4 4 4 4 4 4 4 4 4 4 4 4 4 2 2 2 2 2 2 2 2 2 2 2 2 2 2 2 2 2 2\n",
            " 2 1 1 1 1 1 1 1 1 1 1 1 1 1 1 1 1 1 1 1 3 3 3 3 3 3 3 3 3 3 3 3 3 3 3 3 3\n",
            " 3 3 3 0 0 0 0 0 0 0 0 0 0 0 0 0 0 0 0 0 0 0 0 0 0]\n",
            "Coordinates of centroids in clustered grid along x is [[86.76367556]\n",
            " [46.97448918]\n",
            " [28.40005186]\n",
            " [65.94734565]\n",
            " [ 9.11683457]]\n",
            "/content/drive/MyDrive/shannon\n",
            "Labels for clustering of fine grid along y is [3 3 3 3 3 3 3 3 3 3 3 3 3 3 3 3 3 3 3 3 1 1 1 1 1 1 1 1 1 1 1 1 1 1 1 1 1\n",
            " 1 1 1 2 2 2 2 2 2 2 2 2 2 2 2 2 2 2 2 2 2 2 4 4 4 4 4 4 4 4 4 4 4 4 4 4 4\n",
            " 4 4 4 4 0 0 0 0 0 0 0 0 0 0 0 0 0 0 0 0 0 0 0 0 0]\n",
            "Coordinates of centroids in clustered grid along y is [[87.59131641]\n",
            " [29.86491561]\n",
            " [49.21065086]\n",
            " [ 9.80264605]\n",
            " [67.50633227]]\n",
            "/content/drive/MyDrive/shannon\n",
            "Labels for clustering of fine grid along x is [0 0 0 0 0 0 0 0 0 0 0 0 0 0 0 0 0 0 0 0 0 0 0 0 0 0 2 2 2 2 2 2 2 2 2 2 2\n",
            " 2 2 2 2 2 2 2 2 2 4 4 4 4 4 4 4 4 4 4 4 4 4 4 4 4 4 1 1 1 1 1 1 1 1 1 1 1\n",
            " 1 1 1 1 1 1 1 1 3 3 3 3 3 3 3 3 3 3 3 3 3 3 3 3 3]\n",
            "Coordinates of centroids in clustered grid along x is [[11.33368416]\n",
            " [73.50255818]\n",
            " [39.39788062]\n",
            " [89.6546037 ]\n",
            " [51.39279699]]\n",
            "/content/drive/MyDrive/shannon\n",
            "Labels for clustering of fine grid along y is [2 2 2 2 2 2 2 2 2 2 2 2 2 2 2 2 4 4 4 4 4 4 4 4 4 4 4 4 4 4 4 4 4 4 4 4 1\n",
            " 1 1 1 1 1 1 1 1 1 1 1 1 1 1 1 1 1 3 3 3 3 3 3 3 3 3 3 3 3 3 3 3 3 3 3 3 3\n",
            " 0 0 0 0 0 0 0 0 0 0 0 0 0 0 0 0 0 0 0 0 0 0 0 0 0]\n",
            "Coordinates of centroids in clustered grid along y is [[86.87565146]\n",
            " [47.55258776]\n",
            " [ 7.61708565]\n",
            " [59.90652045]\n",
            " [23.6740711 ]]\n",
            "/content/drive/MyDrive/shannon\n",
            "Labels for clustering of fine grid along x is [0 0 0 0 0 0 0 0 0 0 0 0 0 0 0 0 0 0 0 0 0 0 2 2 2 2 2 2 2 2 2 2 2 2 2 2 2\n",
            " 2 2 2 2 2 2 2 2 4 4 4 4 4 4 4 4 4 4 4 4 4 4 4 4 4 4 1 1 1 1 1 1 1 1 1 1 1\n",
            " 1 1 1 1 1 3 3 3 3 3 3 3 3 3 3 3 3 3 3 3 3 3 3 3 3]\n",
            "Coordinates of centroids in clustered grid along x is [[10.71309621]\n",
            " [69.82735873]\n",
            " [32.18659501]\n",
            " [87.82239135]\n",
            " [55.9204513 ]]\n",
            "/content/drive/MyDrive/shannon\n",
            "Labels for clustering of fine grid along y is [2 2 2 2 2 2 2 2 2 2 2 2 2 2 2 2 2 2 2 2 4 4 4 4 4 4 4 4 4 4 4 4 4 4 4 4 0\n",
            " 0 0 0 0 0 0 0 0 0 0 0 0 0 0 0 0 0 0 3 3 3 3 3 3 3 3 3 3 3 3 3 3 3 3 3 3 3\n",
            " 3 3 3 3 1 1 1 1 1 1 1 1 1 1 1 1 1 1 1 1 1 1 1 1 1]\n",
            "Coordinates of centroids in clustered grid along y is [[42.62880757]\n",
            " [87.96221988]\n",
            " [10.30793515]\n",
            " [67.18207338]\n",
            " [28.52631417]]\n",
            "/content/drive/MyDrive/shannon\n",
            "Labels for clustering of fine grid along x is [2 2 2 2 2 2 2 2 2 2 2 2 2 2 2 2 2 2 2 2 2 2 0 0 0 0 0 0 0 0 0 0 0 0 0 0 0\n",
            " 0 0 0 0 0 0 0 0 3 3 3 3 3 3 3 3 3 3 3 3 3 3 3 3 3 3 3 3 3 1 1 1 1 1 1 1 1\n",
            " 1 1 1 1 1 1 1 1 1 1 4 4 4 4 4 4 4 4 4 4 4 4 4 4 4]\n",
            "Coordinates of centroids in clustered grid along x is [[34.42770526]\n",
            " [76.27150188]\n",
            " [ 8.15265173]\n",
            " [55.12093564]\n",
            " [90.68415244]]\n",
            "/content/drive/MyDrive/shannon\n",
            "Labels for clustering of fine grid along y is [2 2 2 2 2 2 2 2 2 2 2 2 2 2 4 4 4 4 4 4 4 4 4 4 4 4 4 4 4 4 4 4 1 1 1 1 1\n",
            " 1 1 1 1 1 1 1 1 1 1 1 1 1 1 1 1 1 3 3 3 3 3 3 3 3 3 3 3 3 3 3 3 3 3 3 3 3\n",
            " 3 3 3 0 0 0 0 0 0 0 0 0 0 0 0 0 0 0 0 0 0 0 0 0 0]\n",
            "Coordinates of centroids in clustered grid along y is [[89.53647739]\n",
            " [42.44180919]\n",
            " [ 7.24052026]\n",
            " [63.9642634 ]\n",
            " [20.18598313]]\n",
            "/content/drive/MyDrive/shannon\n",
            "Labels for clustering of fine grid along x is [4 4 4 4 4 4 4 4 4 4 4 4 4 4 4 0 0 0 0 0 0 0 0 0 0 0 0 0 0 0 0 0 0 0 0 0 0\n",
            " 2 2 2 2 2 2 2 2 2 2 2 2 2 2 2 2 2 2 2 2 2 2 1 1 1 1 1 1 1 1 1 1 1 1 1 1 1\n",
            " 1 1 1 1 1 1 1 3 3 3 3 3 3 3 3 3 3 3 3 3 3 3 3 3 3]\n",
            "Coordinates of centroids in clustered grid along x is [[25.62729173]\n",
            " [68.78020775]\n",
            " [47.654043  ]\n",
            " [92.61111272]\n",
            " [ 4.06911349]]\n",
            "/content/drive/MyDrive/shannon\n",
            "Labels for clustering of fine grid along y is [3 3 3 3 3 3 3 3 3 3 3 3 3 3 3 3 3 3 0 0 0 0 0 0 0 0 0 0 0 0 0 0 0 0 0 0 0\n",
            " 0 0 0 0 0 2 2 2 2 2 2 2 2 2 2 2 2 2 2 2 2 2 2 2 2 2 2 2 1 1 1 1 1 1 1 1 1\n",
            " 1 1 1 1 1 1 1 1 1 1 1 1 4 4 4 4 4 4 4 4 4 4 4 4 4]\n",
            "Coordinates of centroids in clustered grid along y is [[29.74647889]\n",
            " [75.71573142]\n",
            " [53.39591682]\n",
            " [ 4.813953  ]\n",
            " [94.70637322]]\n"
          ]
        }
      ],
      "source": [
        "# Doing clustering\n",
        "num_rows_cols = 5 # number of rows in fort.101 or cols in fort.301\n",
        "x = [] # we will input sampled points of each row of fort.101 here; \n",
        "       # sampled points for a single row being in one array\n",
        "y = [] # # we will input sampled points of each col of fort.301 here; \n",
        "       # sampled points for a single row being in one array\n",
        "\n",
        "for n in range(num_rows_cols):\n",
        "  # Firstly let's do sampling along x\n",
        "  %cd /content/drive/MyDrive/shannon\n",
        "  weightx = np.abs(np.loadtxt(\"fort.101\")[:, n])\n",
        "  num_fitting_points = len(weightx)\n",
        "\n",
        "  # Arrange the data in proper array size i.e. (num_fitting_points,1)\n",
        "  X = np.arange(num_fitting_points)\n",
        "  X_ = np.zeros((num_fitting_points, 1))\n",
        "  for i in range(len(X)):\n",
        "    X_[i, 0] = X[i]\n",
        "  X = X_\n",
        "\n",
        "  # Now let's actually do sampling along x with weights\n",
        "  num_clusters = 5\n",
        "  kmeansx = KMeans(n_clusters=num_clusters, \n",
        "                  random_state=0).fit(X, sample_weight=weightx)\n",
        "  print(\"Labels for clustering of fine grid along x is \" \n",
        "        + str(kmeansx.labels_))\n",
        "  print(\"Coordinates of centroids in clustered grid along x is \" \n",
        "        + str(kmeansx.cluster_centers_))\n",
        "  \n",
        "  # Secondly let's do sampling along y\n",
        "  %cd /content/drive/MyDrive/shannon\n",
        "  weighty = np.abs(np.loadtxt(\"fort.301\")[n, :])\n",
        "  num_fitting_points = len(weighty)\n",
        "\n",
        "  # Arrange the data in proper array size i.e. (num_fitting_points,1)\n",
        "  Y = np.arange(num_fitting_points)\n",
        "  Y_ = np.zeros((num_fitting_points, 1))\n",
        "  for i in range(len(Y)):\n",
        "    Y_[i, 0] = Y[i]\n",
        "  Y = Y_\n",
        "\n",
        "  # Now let's actually do sampling along y with weights\n",
        "  num_clusters = 5\n",
        "  kmeansy = KMeans(n_clusters=num_clusters, \n",
        "                  random_state=1).fit(Y, sample_weight=weighty)\n",
        "  print(\"Labels for clustering of fine grid along y is \" \n",
        "        + str(kmeansy.labels_))\n",
        "  print(\"Coordinates of centroids in clustered grid along y is \" \n",
        "        + str(kmeansy.cluster_centers_))\n",
        "  \n",
        "  x.append(kmeansx.cluster_centers_)\n",
        "  y.append(kmeansy.cluster_centers_)"
      ]
    },
    {
      "cell_type": "code",
      "execution_count": null,
      "metadata": {
        "colab": {
          "base_uri": "https://localhost:8080/",
          "height": 280
        },
        "id": "2M-so45BlpEf",
        "outputId": "41552ae4-3741-44b0-ba10-7f4c5697d58c"
      },
      "outputs": [
        {
          "data": {
            "image/png": "[encoded data removed]",
            "text/plain": [
              "<Figure size 432x288 with 1 Axes>"
            ]
          },
          "metadata": {},
          "output_type": "display_data"
        }
      ],
      "source": [
        "# Let's plot all samples in the same plot\n",
        "import matplotlib.pyplot as plt\n",
        "plt.figure()\n",
        "for n in range(num_rows_cols):\n",
        "  setproduct = np.zeros(shape=(num_clusters**2, 2)) # in each iteration this\n",
        "  X_ = x[n]                                         # array is used for each row&col pair\n",
        "  Y_ = y[n]\n",
        "  for i in range(num_clusters):\n",
        "    for j in range(num_clusters):\n",
        "      setproduct[i*num_clusters + j, 0] = X_[i]\n",
        "      setproduct[i*num_clusters + j, 1] = Y_[j]\n",
        "  plt.scatter(setproduct[:, 0], setproduct[:, 1], s=50, label=str(n))\n",
        "  #plt.legend()\n",
        "plt.title(\"Sampled Grid\")\n",
        "plt.show()"
      ]
    },
    {
      "cell_type": "markdown",
      "metadata": {
        "id": "3M42ENAVKv13"
      },
      "source": [
        "# Performing clustering on the SVD"
      ]
    },
    {
      "cell_type": "markdown",
      "source": [
        "number of clusters varying for each row&column plot. \n",
        "Cartesian product of fort.101's first column sampling along x \n",
        "and fort.301's first row sampling along y. \n",
        "Make plot. On the same plot, Cartesian product of fort.101's \n",
        "second column sampling along x and fort.301's second row\n",
        "sampling along y. Make plot. Do the same for all columns in 101\n",
        "and all rows in 303. These files are in Shannon"
      ],
      "metadata": {
        "id": "tl8KRsS5vu7F"
      }
    },
    {
      "cell_type": "code",
      "execution_count": null,
      "metadata": {
        "id": "FKS2Qy-EOEbU"
      },
      "outputs": [],
      "source": [
        "import numpy as np\n",
        "N_clusters_2d = 150 # number of points on the 2d plot."
      ]
    },
    {
      "cell_type": "code",
      "execution_count": null,
      "metadata": {
        "colab": {
          "base_uri": "https://localhost:8080/"
        },
        "id": "XBoeLMLBnN_Q",
        "outputId": "6be105de-4ef9-415c-8848-3dbfa1b957dd"
      },
      "outputs": [
        {
          "output_type": "stream",
          "name": "stdout",
          "text": [
            "/content/drive/MyDrive/shannon\n",
            "normalized singular values data from corresponding file is [0.88638723 0.09255785 0.01382044 0.00522779 0.00200669] and its shape is (5,)\n"
          ]
        }
      ],
      "source": [
        "# deciding the number of clusters depending on singular values\n",
        "%cd /content/drive/MyDrive/shannon\n",
        "sing_vals = np.loadtxt(\"fort.201\") # these are the weights. They are truncated to \n",
        "                                   # 5 X 5 diagonal matrix. Each element of this \n",
        "                                   # matrix tells us how important the corresponding layer is\n",
        "sing_vals /= np.sum(sing_vals) # normalizing the data\n",
        "print(\"normalized singular values data from corresponding file is \" + \n",
        "      str(sing_vals) + \" and its shape is \" + str(sing_vals.shape))"
      ]
    },
    {
      "cell_type": "code",
      "execution_count": null,
      "metadata": {
        "colab": {
          "base_uri": "https://localhost:8080/"
        },
        "id": "jFjYUx17rqzu",
        "outputId": "2bcb3c55-b656-4eec-d649-544af3ea31f6"
      },
      "outputs": [
        {
          "output_type": "stream",
          "name": "stdout",
          "text": [
            "Array containing number of clusters along each row/col is [11  3  1  1  1] and its shape is (5,)\n"
          ]
        }
      ],
      "source": [
        "## The code is not yet optimized to minimize the error in doing integer approximations\n",
        "num_clusters_2d = N_clusters_2d\n",
        "num_clusters_2d *= sing_vals # rough number of clusters for each\n",
        "                             # row&col pair\n",
        "                             # More important layer will be given\n",
        "                             # more cluster points\n",
        "# Since we have normailzed sing_vals we can be sure that sum(num_clusters_2d) = N_cluster_2d.\n",
        "# However each element of num_clusters_2d need not be an integer, but we needn't \n",
        "# worry about that at this step\n",
        "num_clusters_1d = np.sqrt(num_clusters_2d) # approximate numbers of samples to be taken along each row/col\n",
        "\n",
        "# However each element of num_clusters_1d need not be an integer, so let's ensure that now\n",
        "num_clusters_1d = list(num_clusters_1d)\n",
        "for n in range(len(num_clusters_1d)):\n",
        "  num_clusters_1d[n] = int(num_clusters_1d[n])\n",
        "  if num_clusters_1d[n] == 0: # Since number of clusters being zero does not make any sense,\n",
        "    num_clusters_1d[n] = 1   # change it to one if it is zero\n",
        "num_clusters_1d = np.array(num_clusters_1d)\n",
        "print(\"Array containing number of clusters along each row/col is \" + \n",
        "      str(num_clusters_1d) + \" and its shape is \" + str(num_clusters_1d.shape))"
      ]
    },
    {
      "cell_type": "code",
      "execution_count": null,
      "metadata": {
        "colab": {
          "base_uri": "https://localhost:8080/"
        },
        "id": "Q7PF-zgLsORi",
        "outputId": "b4f0c2a0-b8ad-4089-eb84-4c44ef5988c7"
      },
      "outputs": [
        {
          "output_type": "stream",
          "name": "stdout",
          "text": [
            "Number of points in unclustered grid = 99 X 99 X 5\n",
            "Coordinates of centroids along x in clustered grid is [[93.31078322]\n",
            " [41.04378968]\n",
            " [13.53673109]\n",
            " [65.88615485]\n",
            " [23.58466979]\n",
            " [56.8728162 ]\n",
            " [74.92135516]\n",
            " [83.89418444]\n",
            " [33.10633715]\n",
            " [ 4.02448696]\n",
            " [48.47949953]]\n",
            "Coordinates of centroids along y in clustered grid is [[40.18199111]\n",
            " [64.26411327]\n",
            " [ 6.63469884]\n",
            " [90.45824192]\n",
            " [24.25334464]\n",
            " [55.93481529]\n",
            " [81.61159118]\n",
            " [15.30902411]\n",
            " [72.5949294 ]\n",
            " [32.75626213]\n",
            " [47.62986254]]\n",
            "Coordinates of centroids along x in clustered grid is [[11.9656558 ]\n",
            " [46.53295149]\n",
            " [81.80814958]]\n",
            "Coordinates of centroids along y in clustered grid is [[53.66627113]\n",
            " [15.2911657 ]\n",
            " [86.64190546]]\n",
            "Coordinates of centroids along x in clustered grid is [[47.77852658]]\n",
            "Coordinates of centroids along y in clustered grid is [[53.95209099]]\n",
            "Coordinates of centroids along x in clustered grid is [[45.13359443]]\n",
            "Coordinates of centroids along y in clustered grid is [[52.20334971]]\n",
            "Coordinates of centroids along x in clustered grid is [[62.60009551]]\n",
            "Coordinates of centroids along y in clustered grid is [[46.49963239]]\n"
          ]
        }
      ],
      "source": [
        "# Doing clustering\n",
        "from sklearn.cluster import KMeans\n",
        "\n",
        "num_rows_cols = len(sing_vals) # number of rows in fort.101 or cols in fort.301\n",
        "x = [] # we will input sampled points of each row of fort.101 here; \n",
        "       # sampled points for a single row being in one array\n",
        "y = [] # we will input sampled points of each col of fort.301 here; \n",
        "       # sampled points for a single row being in one array\n",
        "\n",
        "weight_x = np.loadtxt(\"fort.101\")\n",
        "weight_y = np.loadtxt(\"fort.301\")\n",
        "print(\"Number of points in unclustered grid = \" + str((weight_x.shape)[0]) + # ???????????\n",
        "      \" X \" + str((weight_y.shape)[1]) + \" X \" + str((weight_x.shape)[1]))\n",
        "\n",
        "for n in range(num_rows_cols):\n",
        "  # Firstly let's do sampling along x\n",
        "  wx = np.abs(weight_x[:, n])\n",
        "  #wx -= np.min(wx) # Shifting the function by it's minimum value so that it becomes more apparent\n",
        "  n_fit = len(wx) # number of fitting points\n",
        "  wx = np.reshape(wx, (n_fit,))\n",
        "  wx /= np.linalg.norm(wx, ord=2)\n",
        "\n",
        "  # Arrange the data in proper array size i.e. (num_fitting_points,1)\n",
        "  X = np.reshape(np.arange(n_fit), (n_fit, 1)) # reshapes 1d array to\n",
        "                                               # 2d array with one column\n",
        "  # Now let's actually do sampling along x with weights\n",
        "  num_clusters = num_clusters_1d[n]\n",
        "  kmeansx = KMeans(n_clusters=num_clusters, tol=1e-12).fit(X, sample_weight=wx)\n",
        "  ##print(\"Labels for clustering of fine grid is \" \n",
        "  ##      + str(kmeansx.labels_))\n",
        "  print(\"Coordinates of centroids along x in clustered grid is \" \n",
        "        + str(kmeansx.cluster_centers_))\n",
        "  \n",
        "  # Secondly let's do sampling along y\n",
        "  wy = np.abs(weight_y[n, :])\n",
        "  wy -= np.min(wy) # Shifting the function by it's minimum value so that it becomes more apparent\n",
        "  n_fit = len(wy)\n",
        "  wy = np.reshape(wy, (n_fit,))\n",
        "  wy /= np.linalg.norm(wy, ord=2)\n",
        "\n",
        "  # Arrange the data in proper array size i.e. (num_fitting_points,1)\n",
        "  Y = np.reshape(np.arange(n_fit), (n_fit, 1)) # reshapes 1d array to\n",
        "                                               # 2d array with one column\n",
        "\n",
        "  # Now let's actually do sampling along y with weights\n",
        "  num_clusters = num_clusters_1d[n]\n",
        "  kmeansy = KMeans(n_clusters=num_clusters, tol=1e-12).fit(Y, sample_weight=wy)\n",
        "  #print(\"Labels for clustering of fine grid is \" \n",
        "  #      + str(kmeansy.labels_))\n",
        "  print(\"Coordinates of centroids along y in clustered grid is \" \n",
        "        + str(kmeansy.cluster_centers_))\n",
        "  \n",
        "  x.append((kmeansx.cluster_centers_)) # So we are making a list of arrays\n",
        "  y.append((kmeansy.cluster_centers_))"
      ]
    },
    {
      "cell_type": "code",
      "source": [
        "## aside\n",
        "wx = weight_x[:, 0]\n",
        "#print(wx)\n",
        "n_fit = len(wx)\n",
        "X = np.reshape(np.arange(n_fit), (n_fit, 1))\n",
        "kmeansx = KMeans(n_clusters=10, tol=1e-12).fit(X, sample_weight=wx)\n",
        "kmeansx.cluster_centers_"
      ],
      "metadata": {
        "colab": {
          "base_uri": "https://localhost:8080/"
        },
        "id": "_YjvKg9nBQj5",
        "outputId": "cbd23ef1-29f2-4289-8ad2-ac6d74bbcbf4"
      },
      "execution_count": null,
      "outputs": [
        {
          "output_type": "stream",
          "name": "stderr",
          "text": [
            "/usr/local/lib/python3.7/dist-packages/ipykernel_launcher.py:6: ConvergenceWarning: Number of distinct clusters (6) found smaller than n_clusters (10). Possibly due to duplicate points in X.\n",
            "  \n"
          ]
        },
        {
          "output_type": "execute_result",
          "data": {
            "text/plain": [
              "array([[ 53.24984681],\n",
              "       [-47.05453277],\n",
              "       [ 53.32049481],\n",
              "       [ 48.61131476],\n",
              "       [ 49.        ],\n",
              "       [ 49.        ],\n",
              "       [ 53.17781815],\n",
              "       [ 53.10451825],\n",
              "       [ 48.1118144 ],\n",
              "       [151.2126192 ]])"
            ]
          },
          "metadata": {},
          "execution_count": 7
        }
      ]
    },
    {
      "cell_type": "code",
      "source": [
        "## aside\n",
        "weight_y"
      ],
      "metadata": {
        "colab": {
          "base_uri": "https://localhost:8080/"
        },
        "id": "HTnpPOtuBlAK",
        "outputId": "cdb9408f-0ab6-4942-83b7-1350ff190746"
      },
      "execution_count": null,
      "outputs": [
        {
          "output_type": "execute_result",
          "data": {
            "text/plain": [
              "array([[-7.46465789e-02, -7.57111480e-02, -7.67391382e-02,\n",
              "        -7.77300115e-02, -7.86834500e-02, -7.95993538e-02,\n",
              "        -8.04778594e-02, -8.13193519e-02, -8.21244863e-02,\n",
              "        -8.28942124e-02, -8.36298069e-02, -8.43329084e-02,\n",
              "        -8.50055599e-02, -8.56502528e-02, -8.62699732e-02,\n",
              "        -8.68682461e-02, -8.74491765e-02, -8.80174791e-02,\n",
              "        -8.85784980e-02, -8.91382069e-02, -8.97031888e-02,\n",
              "        -9.02805901e-02, -9.08780465e-02, -9.15035780e-02,\n",
              "        -9.21654538e-02, -9.28720259e-02, -9.36315350e-02,\n",
              "        -9.44518921e-02, -9.53404397e-02, -9.63037008e-02,\n",
              "        -9.73471213e-02, -9.84748145e-02, -9.96893163e-02,\n",
              "        -1.00991359e-01, -1.02379674e-01, -1.03850826e-01,\n",
              "        -1.05399093e-01, -1.07016396e-01, -1.08692276e-01,\n",
              "        -1.10413939e-01, -1.12166348e-01, -1.13932392e-01,\n",
              "        -1.15693101e-01, -1.17427931e-01, -1.19115105e-01,\n",
              "        -1.20731997e-01, -1.22255570e-01, -1.23662850e-01,\n",
              "        -1.24931421e-01, -1.26039950e-01, -1.26968706e-01,\n",
              "        -1.27700073e-01, -1.28219047e-01, -1.28513683e-01,\n",
              "        -1.28575497e-01, -1.28399796e-01, -1.27985920e-01,\n",
              "        -1.27337386e-01, -1.26461924e-01, -1.25371392e-01,\n",
              "        -1.24081560e-01, -1.22611777e-01, -1.20984507e-01,\n",
              "        -1.19224759e-01, -1.17359414e-01, -1.15416479e-01,\n",
              "        -1.13424293e-01, -1.11410708e-01, -1.09402286e-01,\n",
              "        -1.07423551e-01, -1.05496314e-01, -1.03639118e-01,\n",
              "        -1.01866818e-01, -1.00190323e-01, -9.86165036e-02,\n",
              "        -9.71482609e-02, -9.57847622e-02, -9.45218090e-02,\n",
              "        -9.33523178e-02, -9.22668795e-02, -9.12543614e-02,\n",
              "        -9.03025168e-02, -8.93985669e-02, -8.85297284e-02,\n",
              "        -8.76836628e-02, -8.68488367e-02, -8.60147838e-02,\n",
              "        -8.51722732e-02, -8.43133916e-02, -8.34315505e-02,\n",
              "        -8.25214382e-02, -8.15789272e-02, -8.06009606e-02,\n",
              "        -7.95854221e-02, -7.85310132e-02, -7.74371228e-02,\n",
              "        -7.63037496e-02, -7.51313621e-02, -7.39208977e-02],\n",
              "       [-9.44180284e-02, -9.53232124e-02, -9.61818461e-02,\n",
              "        -9.69940037e-02, -9.77596066e-02, -9.84783928e-02,\n",
              "        -9.91497084e-02, -9.97723535e-02, -1.00344331e-01,\n",
              "        -1.00862565e-01, -1.01322563e-01, -1.01718027e-01,\n",
              "        -1.02040417e-01, -1.02278488e-01, -1.02417802e-01,\n",
              "        -1.02440242e-01, -1.02323565e-01, -1.02041007e-01,\n",
              "        -1.01560989e-01, -1.00846963e-01, -9.98574186e-02,\n",
              "        -9.85460994e-02, -9.68624534e-02, -9.47523299e-02,\n",
              "        -9.21589456e-02, -8.90241116e-02, -8.52897097e-02,\n",
              "        -8.08993957e-02, -7.58004910e-02, -6.99460126e-02,\n",
              "        -6.32967851e-02, -5.58235713e-02, -4.75091477e-02,\n",
              "        -3.83502549e-02, -2.83593507e-02, -1.75660965e-02,\n",
              "        -6.01850907e-03,  6.21627317e-03,  1.90516661e-02,\n",
              "         3.23817900e-02,  4.60821262e-02,  6.00106924e-02,\n",
              "         7.40097437e-02,  8.79079864e-02,  1.01523283e-01,\n",
              "         1.14665808e-01,  1.27141620e-01,  1.38756558e-01,\n",
              "         1.49320416e-01,  1.58651293e-01,  1.66580007e-01,\n",
              "         1.72954489e-01,  1.77643999e-01,  1.80543069e-01,\n",
              "         1.81575015e-01,  1.80694895e-01,  1.77891784e-01,\n",
              "         1.73190230e-01,  1.66650809e-01,  1.58369668e-01,\n",
              "         1.48477017e-01,  1.37134551e-01,  1.24531813e-01,\n",
              "         1.10881573e-01,  9.64143421e-02,  8.13721889e-02,\n",
              "         6.60020644e-02,  5.05488975e-02,  3.52487358e-02,\n",
              "         2.03222290e-02,  5.96874696e-03, -7.63859435e-03,\n",
              "        -2.03567742e-02, -3.20753966e-02, -4.27178165e-02,\n",
              "        -5.22408377e-02, -6.06330598e-02, -6.79120160e-02,\n",
              "        -7.41203274e-02, -7.93211431e-02, -8.35931720e-02,\n",
              "        -8.70256153e-02, -8.97132899e-02, -9.17521972e-02,\n",
              "        -9.32357281e-02, -9.42516342e-02, -9.48798207e-02,\n",
              "        -9.51909500e-02, -9.52457922e-02, -9.50952138e-02,\n",
              "        -9.47806659e-02, -9.43350402e-02, -9.37837269e-02,\n",
              "        -9.31458024e-02, -9.24351489e-02, -9.16616453e-02,\n",
              "        -9.08318641e-02, -8.99503249e-02, -8.90194953e-02],\n",
              "       [-3.91320961e-02, -4.15784295e-02, -4.38964137e-02,\n",
              "        -4.60772766e-02, -4.81141687e-02, -5.00021659e-02,\n",
              "        -5.17387795e-02, -5.33242246e-02, -5.47618875e-02,\n",
              "        -5.60587837e-02, -5.72260594e-02, -5.82794922e-02,\n",
              "        -5.92399489e-02, -6.01337740e-02, -6.09930304e-02,\n",
              "        -6.18555446e-02, -6.27646854e-02, -6.37688322e-02,\n",
              "        -6.49204525e-02, -6.62747979e-02, -6.78881502e-02,\n",
              "        -6.98156852e-02, -7.21089648e-02, -7.48131218e-02,\n",
              "        -7.79638818e-02, -8.15844874e-02, -8.56827315e-02,\n",
              "        -9.02482228e-02, -9.52500517e-02, -1.00635034e-01,\n",
              "        -1.06326653e-01, -1.12224834e-01, -1.18206628e-01,\n",
              "        -1.24127861e-01, -1.29825770e-01, -1.35122564e-01,\n",
              "        -1.39829852e-01, -1.43753838e-01, -1.46701078e-01,\n",
              "        -1.48484688e-01, -1.48930714e-01, -1.47884526e-01,\n",
              "        -1.45216921e-01, -1.40829777e-01, -1.34660981e-01,\n",
              "        -1.26688447e-01, -1.16933021e-01, -1.05460148e-01,\n",
              "        -9.23801503e-02, -7.78470472e-02, -6.20558946e-02,\n",
              "        -4.52386628e-02, -2.76587123e-02, -9.60399566e-03,\n",
              "         8.62079927e-03,  2.67029848e-02,  4.43311568e-02,\n",
              "         6.12047377e-02,  7.70433885e-02,  9.15959444e-02,\n",
              "         1.04648482e-01,  1.16031144e-01,  1.25623404e-01,\n",
              "         1.33357479e-01,  1.39219688e-01,  1.43249644e-01,\n",
              "         1.45537280e-01,  1.46217794e-01,  1.45464776e-01,\n",
              "         1.43481832e-01,  1.40493137e-01,  1.36733441e-01,\n",
              "         1.32438053e-01,  1.27833363e-01,  1.23128399e-01,\n",
              "         1.18507854e-01,  1.14126898e-01,  1.10107961e-01,\n",
              "         1.06539530e-01,  1.03476861e-01,  1.00944351e-01,\n",
              "         9.89392502e-02,  9.74363209e-02,  9.63929954e-02,\n",
              "         9.57546208e-02,  9.54594479e-02,  9.54430437e-02,\n",
              "         9.56419588e-02,  9.59965195e-02,  9.64527673e-02,\n",
              "         9.69635769e-02,  9.74890706e-02,  9.79965217e-02,\n",
              "         9.84598076e-02,  9.88587394e-02,  9.91780362e-02,\n",
              "         9.94068719e-02,  9.95374014e-02,  9.95650665e-02],\n",
              "       [-6.10037769e-02, -6.72291843e-02, -7.32004899e-02,\n",
              "        -7.88935649e-02, -8.42853881e-02, -8.93541586e-02,\n",
              "        -9.40785918e-02, -9.84375426e-02, -1.02409222e-01,\n",
              "        -1.05970455e-01, -1.09095752e-01, -1.11756388e-01,\n",
              "        -1.13919496e-01, -1.15547242e-01, -1.16596206e-01,\n",
              "        -1.17017069e-01, -1.16754635e-01, -1.15748408e-01,\n",
              "        -1.13933696e-01, -1.11243369e-01, -1.07610259e-01,\n",
              "        -1.02970191e-01, -9.72656129e-02, -9.04496817e-02,\n",
              "        -8.24906331e-02, -7.33763287e-02, -6.31186312e-02,\n",
              "        -5.17574664e-02, -3.93642426e-02, -2.60444485e-02,\n",
              "        -1.19391273e-02,  2.77486185e-03,  1.78860275e-02,\n",
              "         3.31508635e-02,  4.82980037e-02,  6.30337658e-02,\n",
              "         7.70490472e-02,  9.00273792e-02,  1.01653819e-01,\n",
              "         1.11624534e-01,  1.19656647e-01,  1.25498072e-01,\n",
              "         1.28936928e-01,  1.29810253e-01,  1.28011591e-01,\n",
              "         1.23497219e-01,  1.16290658e-01,  1.06485295e-01,\n",
              "         9.42449331e-02,  7.98020403e-02,  6.34538031e-02,\n",
              "         4.55558942e-02,  2.65141040e-02,  6.77393827e-03,\n",
              "        -1.31914264e-02, -3.28946703e-02, -5.18487199e-02,\n",
              "        -6.95817457e-02, -8.56520332e-02, -9.96622774e-02,\n",
              "        -1.11272653e-01, -1.20212087e-01, -1.26287229e-01,\n",
              "        -1.29388501e-01, -1.29493057e-01, -1.26664216e-01,\n",
              "        -1.21047451e-01, -1.12862922e-01, -1.02394954e-01,\n",
              "        -8.99788893e-02, -7.59860281e-02, -6.08074280e-02,\n",
              "        -4.48374337e-02, -2.84579364e-02, -1.20240696e-02,\n",
              "         4.14771945e-03,  1.97887774e-02,  3.46841014e-02,\n",
              "         4.86748415e-02,  6.16575630e-02,  7.35806011e-02,\n",
              "         8.44381050e-02,  9.42623789e-02,  1.03115246e-01,\n",
              "         1.11079177e-01,  1.18248806e-01,  1.24723327e-01,\n",
              "         1.30600174e-01,  1.35970146e-01,  1.40914035e-01,\n",
              "         1.45500639e-01,  1.49786061e-01,  1.53813878e-01,\n",
              "         1.57616124e-01,  1.61214555e-01,  1.64622505e-01,\n",
              "         1.67845801e-01,  1.70885462e-01,  1.73737299e-01],\n",
              "       [ 2.77401125e-01,  2.57078774e-01,  2.36913468e-01,\n",
              "         2.16968717e-01,  1.97303023e-01,  1.77969707e-01,\n",
              "         1.59016731e-01,  1.40486817e-01,  1.22417448e-01,\n",
              "         1.04841237e-01,  8.77862235e-02,  7.12764788e-02,\n",
              "         5.53327306e-02,  3.99732163e-02,  2.52146149e-02,\n",
              "         1.10731240e-02, -2.43441323e-03, -1.52893232e-02,\n",
              "        -2.74699543e-02, -3.89506038e-02, -4.97006011e-02,\n",
              "        -5.96837132e-02, -6.88577615e-02, -7.71747167e-02,\n",
              "        -8.45812374e-02, -9.10196835e-02, -9.64296698e-02,\n",
              "        -1.00750055e-01, -1.03921451e-01, -1.05889036e-01,\n",
              "        -1.06605670e-01, -1.06035086e-01, -1.04155135e-01,\n",
              "        -1.00960795e-01, -9.64668525e-02, -9.07101442e-02,\n",
              "        -8.37511118e-02, -7.56746985e-02, -6.65903851e-02,\n",
              "        -5.66314492e-02, -4.59533495e-02, -3.47313290e-02,\n",
              "        -2.31572660e-02, -1.14359621e-02,  2.19111381e-04,\n",
              "         1.15903201e-02,  2.24606781e-02,  3.26185399e-02,\n",
              "         4.18622287e-02,  5.00044296e-02,  5.68761464e-02,\n",
              "         6.23303378e-02,  6.62448691e-02,  6.85251094e-02,\n",
              "         6.91059714e-02,  6.79533827e-02,  6.50653306e-02,\n",
              "         6.04724088e-02,  5.42379326e-02,  4.64575965e-02,\n",
              "         3.72585881e-02,  2.67982568e-02,  1.52621315e-02,\n",
              "         2.86125806e-03, -1.01710902e-02, -2.35835512e-02,\n",
              "        -3.71115141e-02, -5.04826238e-02, -6.34229167e-02,\n",
              "        -7.56632860e-02, -8.69460781e-02, -9.70315478e-02,\n",
              "        -1.05703740e-01, -1.12775595e-01, -1.18092958e-01,\n",
              "        -1.21537119e-01, -1.23025937e-01, -1.22513392e-01,\n",
              "        -1.19987645e-01, -1.15467920e-01, -1.09000255e-01,\n",
              "        -1.00652752e-01, -9.05104256e-02, -7.86702870e-02,\n",
              "        -6.52367366e-02, -5.03177078e-02, -3.40216381e-02,\n",
              "        -1.64553914e-02,  2.27693582e-03,  2.20744076e-02,\n",
              "         4.28388583e-02,  6.44742235e-02,  8.68853505e-02,\n",
              "         1.09976849e-01,  1.33651956e-01,  1.57811438e-01,\n",
              "         1.82353218e-01,  2.07171342e-01,  2.32156825e-01]])"
            ]
          },
          "metadata": {},
          "execution_count": 13
        }
      ]
    },
    {
      "cell_type": "code",
      "execution_count": null,
      "metadata": {
        "colab": {
          "base_uri": "https://localhost:8080/",
          "height": 280
        },
        "id": "OM_ZPNwvuot1",
        "outputId": "616713e7-9761-4235-9e01-74fb7789fb5c"
      },
      "outputs": [
        {
          "output_type": "display_data",
          "data": {
            "text/plain": [
              "<Figure size 432x288 with 1 Axes>"
            ],
            "image/png": "[encoded data removed]"
          },
          "metadata": {
            "needs_background": "light"
          }
        }
      ],
      "source": [
        "# Let's plot all samples in the same plot\n",
        "import matplotlib.pyplot as plt\n",
        "plt.figure()\n",
        "for n in range(num_rows_cols):\n",
        "  num_clusters = num_clusters_1d[n]\n",
        "  setproduct = np.zeros(shape=(num_clusters**2, 2)) # in each iteration this\n",
        "  X_ = x[n]                                         # array is used for each row&col pair\n",
        "  Y_ = y[n]\n",
        "  for i in range(num_clusters): # num_clusters == len(X_) == len(Y_)\n",
        "    for j in range(num_clusters):\n",
        "      setproduct[i*num_clusters + j, 0] = X_[i]\n",
        "      setproduct[i*num_clusters + j, 1] = Y_[j]\n",
        "  plt.scatter(setproduct[:, 0], setproduct[:, 1], s=50, label=str(num_clusters)+\" cluster centers\")\n",
        "  plt.legend()\n",
        "plt.xlim(0, 150)\n",
        "plt.ylim(0, 150)\n",
        "plt.title(\"Sampled Grid\")\n",
        "plt.show()"
      ]
    },
    {
      "cell_type": "code",
      "execution_count": null,
      "metadata": {
        "colab": {
          "base_uri": "https://localhost:8080/"
        },
        "id": "SRONfSCCfeFG",
        "outputId": "95e4c250-9cf9-41eb-92d4-baca3f506b9b"
      },
      "outputs": [
        {
          "output_type": "stream",
          "name": "stdout",
          "text": [
            "Shape of all clustered points stacked together are (133, 2)\n",
            "All clustered points stacked together are [[ 4.02448696 89.81307403]\n",
            " [ 4.02448696 34.32985288]\n",
            " [ 4.02448696 57.92560715]\n",
            " [ 4.02448696 16.28849113]\n",
            " [ 4.02448696 73.17988126]\n",
            " [ 4.02448696 25.26050044]\n",
            " [ 4.02448696 51.0458633 ]\n",
            " [ 4.02448696  7.27632991]\n",
            " [ 4.02448696 43.25706654]\n",
            " [ 4.02448696 65.24653866]\n",
            " [ 4.02448696 81.19783079]\n",
            " [57.86765351 89.81307403]\n",
            " [57.86765351 34.32985288]\n",
            " [57.86765351 57.92560715]\n",
            " [57.86765351 16.28849113]\n",
            " [57.86765351 73.17988126]\n",
            " [57.86765351 25.26050044]\n",
            " [57.86765351 51.0458633 ]\n",
            " [57.86765351  7.27632991]\n",
            " [57.86765351 43.25706654]\n",
            " [57.86765351 65.24653866]\n",
            " [57.86765351 81.19783079]\n",
            " [83.89418444 89.81307403]\n",
            " [83.89418444 34.32985288]\n",
            " [83.89418444 57.92560715]\n",
            " [83.89418444 16.28849113]\n",
            " [83.89418444 73.17988126]\n",
            " [83.89418444 25.26050044]\n",
            " [83.89418444 51.0458633 ]\n",
            " [83.89418444  7.27632991]\n",
            " [83.89418444 43.25706654]\n",
            " [83.89418444 65.24653866]\n",
            " [83.89418444 81.19783079]\n",
            " [31.58224828 89.81307403]\n",
            " [31.58224828 34.32985288]\n",
            " [31.58224828 57.92560715]\n",
            " [31.58224828 16.28849113]\n",
            " [31.58224828 73.17988126]\n",
            " [31.58224828 25.26050044]\n",
            " [31.58224828 51.0458633 ]\n",
            " [31.58224828  7.27632991]\n",
            " [31.58224828 43.25706654]\n",
            " [31.58224828 65.24653866]\n",
            " [31.58224828 81.19783079]\n",
            " [13.02853133 89.81307403]\n",
            " [13.02853133 34.32985288]\n",
            " [13.02853133 57.92560715]\n",
            " [13.02853133 16.28849113]\n",
            " [13.02853133 73.17988126]\n",
            " [13.02853133 25.26050044]\n",
            " [13.02853133 51.0458633 ]\n",
            " [13.02853133  7.27632991]\n",
            " [13.02853133 43.25706654]\n",
            " [13.02853133 65.24653866]\n",
            " [13.02853133 81.19783079]\n",
            " [48.96654014 89.81307403]\n",
            " [48.96654014 34.32985288]\n",
            " [48.96654014 57.92560715]\n",
            " [48.96654014 16.28849113]\n",
            " [48.96654014 73.17988126]\n",
            " [48.96654014 25.26050044]\n",
            " [48.96654014 51.0458633 ]\n",
            " [48.96654014  7.27632991]\n",
            " [48.96654014 43.25706654]\n",
            " [48.96654014 65.24653866]\n",
            " [48.96654014 81.19783079]\n",
            " [93.31078322 89.81307403]\n",
            " [93.31078322 34.32985288]\n",
            " [93.31078322 57.92560715]\n",
            " [93.31078322 16.28849113]\n",
            " [93.31078322 73.17988126]\n",
            " [93.31078322 25.26050044]\n",
            " [93.31078322 51.0458633 ]\n",
            " [93.31078322  7.27632991]\n",
            " [93.31078322 43.25706654]\n",
            " [93.31078322 65.24653866]\n",
            " [93.31078322 81.19783079]\n",
            " [74.92135516 89.81307403]\n",
            " [74.92135516 34.32985288]\n",
            " [74.92135516 57.92560715]\n",
            " [74.92135516 16.28849113]\n",
            " [74.92135516 73.17988126]\n",
            " [74.92135516 25.26050044]\n",
            " [74.92135516 51.0458633 ]\n",
            " [74.92135516  7.27632991]\n",
            " [74.92135516 43.25706654]\n",
            " [74.92135516 65.24653866]\n",
            " [74.92135516 81.19783079]\n",
            " [22.57822238 89.81307403]\n",
            " [22.57822238 34.32985288]\n",
            " [22.57822238 57.92560715]\n",
            " [22.57822238 16.28849113]\n",
            " [22.57822238 73.17988126]\n",
            " [22.57822238 25.26050044]\n",
            " [22.57822238 51.0458633 ]\n",
            " [22.57822238  7.27632991]\n",
            " [22.57822238 43.25706654]\n",
            " [22.57822238 65.24653866]\n",
            " [22.57822238 81.19783079]\n",
            " [40.08079801 89.81307403]\n",
            " [40.08079801 34.32985288]\n",
            " [40.08079801 57.92560715]\n",
            " [40.08079801 16.28849113]\n",
            " [40.08079801 73.17988126]\n",
            " [40.08079801 25.26050044]\n",
            " [40.08079801 51.0458633 ]\n",
            " [40.08079801  7.27632991]\n",
            " [40.08079801 43.25706654]\n",
            " [40.08079801 65.24653866]\n",
            " [40.08079801 81.19783079]\n",
            " [66.41291214 89.81307403]\n",
            " [66.41291214 34.32985288]\n",
            " [66.41291214 57.92560715]\n",
            " [66.41291214 16.28849113]\n",
            " [66.41291214 73.17988126]\n",
            " [66.41291214 25.26050044]\n",
            " [66.41291214 51.0458633 ]\n",
            " [66.41291214  7.27632991]\n",
            " [66.41291214 43.25706654]\n",
            " [66.41291214 65.24653866]\n",
            " [66.41291214 81.19783079]\n",
            " [81.80814958 53.66627113]\n",
            " [81.80814958 15.2911657 ]\n",
            " [81.80814958 86.64190546]\n",
            " [11.9656558  53.66627113]\n",
            " [11.9656558  15.2911657 ]\n",
            " [11.9656558  86.64190546]\n",
            " [46.53295149 53.66627113]\n",
            " [46.53295149 15.2911657 ]\n",
            " [46.53295149 86.64190546]\n",
            " [47.77852658 53.95209099]\n",
            " [45.13359443 52.20334971]\n",
            " [62.60009551 46.49963239]]\n"
          ]
        }
      ],
      "source": [
        "# Let's make a 2d array with 2 cols in which\n",
        "# the first col contains all x coordinates in\n",
        "# plot and second col contains all y coordinates\n",
        "\n",
        "X__ = []\n",
        "Y__ = []\n",
        "for n in range(num_rows_cols):\n",
        "  num_clusters = num_clusters_1d[n]\n",
        "  X_ = x[n]\n",
        "  Y_ = y[n]\n",
        "  for i in range(num_clusters): # num_clusters == len(X_) == len(Y_)\n",
        "    for j in range(num_clusters):\n",
        "      X__.append(X_[i])\n",
        "      Y__.append(Y_[j])\n",
        "# Now we have a list of all x coords and a list of y coords of sampled points\n",
        "X__ = np.array([X__])\n",
        "Y__ = np.array([Y__])\n",
        "# Now we have converted both lists to row vectors. Let us\n",
        "# now reshape the row vectors to column vectors\n",
        "X__ = np.reshape(X__, ((X__.shape)[1], 1))\n",
        "Y__ = np.reshape(Y__, ((Y__.shape)[1], 1))\n",
        "combinedCoords = np.hstack((X__, Y__))\n",
        "print(\"Shape of all clustered points stacked together are \" + str(combinedCoords.shape))\n",
        "print(\"All clustered points stacked together are \" + str(combinedCoords))"
      ]
    },
    {
      "cell_type": "markdown",
      "metadata": {
        "id": "XooAIi6wF_iM"
      },
      "source": [
        "# Clustering on the full sampling function"
      ]
    },
    {
      "cell_type": "code",
      "execution_count": null,
      "metadata": {
        "colab": {
          "base_uri": "https://localhost:8080/",
          "height": 1000
        },
        "id": "6hVnR0QAxfv0",
        "outputId": "58e3d289-9ab6-4a42-fc91-5fac40ffbeb9"
      },
      "outputs": [
        {
          "output_type": "stream",
          "name": "stdout",
          "text": [
            "/content/drive/MyDrive/shannon\n",
            "Shape of full weights are (9801,)\n",
            "Shape of data to be fitted is (9801, 2)\n"
          ]
        },
        {
          "output_type": "display_data",
          "data": {
            "text/plain": [
              "<Figure size 432x288 with 1 Axes>"
            ],
            "image/png": "[encoded data removed]"
          },
          "metadata": {
            "needs_background": "light"
          }
        },
        {
          "output_type": "stream",
          "name": "stdout",
          "text": [
            "Coordinates for centroids in full grid are [[57.51347581 75.34037131]\n",
            " [38.28816586 14.66692287]\n",
            " [80.86220486 19.48615949]\n",
            " [23.73418885 50.8624128 ]\n",
            " [10.33825902 85.23537211]\n",
            " [72.70686506 51.01338326]\n",
            " [ 4.01978892 23.01148863]\n",
            " [69.40942403 86.46929169]\n",
            " [61.57144927 38.03264054]\n",
            " [86.30290372 71.10758391]\n",
            " [41.71375481 62.4049521 ]\n",
            " [63.6696616   4.59414704]\n",
            " [34.93825038 95.15473447]\n",
            " [ 3.81691751 54.8312588 ]\n",
            " [12.58332608 13.6772839 ]\n",
            " [38.66932418 32.90979105]\n",
            " [94.3856249  94.44702097]\n",
            " [94.11710442 48.71572917]\n",
            " [28.84220686 74.02829488]\n",
            " [21.63969211 27.39904494]\n",
            " [46.99905829 45.17187001]\n",
            " [65.26990555 20.99877718]\n",
            " [93.89310714 40.06274797]\n",
            " [54.49048247 58.38895329]\n",
            " [ 2.87782038 64.81200435]\n",
            " [31.05285621  4.83459582]\n",
            " [77.11545741 35.88735908]\n",
            " [27.18858613 93.40006464]\n",
            " [64.1400423  70.74658783]\n",
            " [13.06575193 38.56434974]\n",
            " [50.96819117 88.13843591]\n",
            " [78.29132386 11.22665033]\n",
            " [47.52548927 28.87711376]\n",
            " [76.94497575 82.56557712]\n",
            " [93.89524164 78.03521262]\n",
            " [43.34032087 77.22213031]\n",
            " [16.0432909  68.2540432 ]\n",
            " [45.35215962 10.61462987]\n",
            " [94.56329872 20.24389087]\n",
            " [39.79166294 49.27636486]\n",
            " [95.19761077 59.06320205]\n",
            " [94.0484488   3.42795034]\n",
            " [72.17732875 59.65241821]\n",
            " [22.7704438   3.05993256]\n",
            " [14.80279905 53.76530528]\n",
            " [72.23388124 26.76308409]\n",
            " [21.28139736 19.42304838]\n",
            " [ 3.36507188  2.87475293]\n",
            " [94.47133339 30.54707818]\n",
            " [11.51425547 93.90858824]\n",
            " [80.12124585 55.95490404]\n",
            " [59.10966521 52.67612452]\n",
            " [31.08919379 38.35652363]\n",
            " [26.12549465 58.31378717]\n",
            " [ 3.29323798 75.98751156]\n",
            " [85.05015036 86.37076799]\n",
            " [50.27320606 71.85466226]\n",
            " [18.93381961 85.15749516]\n",
            " [78.27265544  3.44086354]\n",
            " [80.17012341 27.6534913 ]\n",
            " [39.04720979  4.14516493]\n",
            " [ 3.51891609 93.91032342]\n",
            " [30.32980642 22.43079327]\n",
            " [78.30611921 92.5025991 ]\n",
            " [23.86363448 42.38635808]\n",
            " [51.22111944 16.32948892]\n",
            " [57.23685439 94.37123439]\n",
            " [27.09520274 83.40504911]\n",
            " [32.82892977 63.02652821]\n",
            " [62.95705913 28.73958246]\n",
            " [ 4.02225588 30.00544896]\n",
            " [88.50595678 54.85388196]\n",
            " [71.13332131 67.03000489]\n",
            " [43.01148892 85.31426666]\n",
            " [12.85415683 22.14211697]\n",
            " [70.12513886 42.30462984]\n",
            " [51.274111   80.58918557]\n",
            " [38.93248622 41.74579988]\n",
            " [63.98314934 79.79459992]\n",
            " [68.56853406 11.97905255]\n",
            " [12.0054391   3.35697192]\n",
            " [62.68917609 61.94775946]\n",
            " [ 4.36430794  9.3264595 ]\n",
            " [12.83561689 77.59076628]\n",
            " [86.93435153 13.65965145]\n",
            " [ 2.71662613 45.96132836]\n",
            " [84.97165102 40.59469965]\n",
            " [51.71202892 51.21541586]\n",
            " [48.16416438  3.38781212]\n",
            " [55.73442221 22.64074032]\n",
            " [45.56928017 37.26254621]\n",
            " [23.36231824 11.87370233]\n",
            " [18.89111914 60.44472162]\n",
            " [73.23564124 18.34038918]\n",
            " [55.81465616 44.82596957]\n",
            " [84.92398208 78.6253896 ]\n",
            " [94.49705764 69.08714543]\n",
            " [38.26330309 56.75990021]\n",
            " [68.99224356 34.2871787 ]\n",
            " [ 3.01577547 84.94564878]\n",
            " [56.60016174  2.86754991]\n",
            " [38.49440274 24.44072766]\n",
            " [85.88124069  4.44859456]\n",
            " [ 9.39011108 47.19742479]\n",
            " [30.51879365 14.24572125]\n",
            " [56.37556465 66.69318596]\n",
            " [77.70513197 73.01152692]\n",
            " [36.01741879 70.12404444]\n",
            " [42.5631696  93.69497437]\n",
            " [86.36246774 33.05018562]\n",
            " [94.27796857 11.30358717]\n",
            " [10.09745636 60.74347231]\n",
            " [84.89724456 48.43855874]\n",
            " [21.00442496 75.64355877]\n",
            " [17.04834492 45.82364905]\n",
            " [30.29536237 30.49145186]\n",
            " [12.92273102 30.55557347]\n",
            " [45.73379093 54.65417555]\n",
            " [79.84918394 64.7973591 ]\n",
            " [65.80632297 54.85038068]\n",
            " [24.94941203 66.86650748]\n",
            " [55.58037538 30.89396397]\n",
            " [31.51386341 46.41337597]\n",
            " [87.87095289 23.87981845]\n",
            " [54.92132913  9.79826874]\n",
            " [86.18834764 94.49701722]\n",
            " [59.25214844 85.63618709]\n",
            " [93.84787266 86.46812906]\n",
            " [ 4.03609796 16.10061115]\n",
            " [71.09251696  4.02679791]\n",
            " [70.78555562 76.50742376]\n",
            " [19.51201026 93.90728996]\n",
            " [34.80524418 87.5749099 ]\n",
            " [77.83093311 44.97127327]\n",
            " [53.0052251  38.00325908]\n",
            " [64.36895264 93.56715547]\n",
            " [21.70110568 35.25067128]\n",
            " [49.10122823 62.86661802]\n",
            " [60.56668596 14.56244087]\n",
            " [32.24991379 53.70694694]\n",
            " [ 4.1053301  37.68345036]\n",
            " [43.4996882  69.21828178]\n",
            " [49.71227078 95.11645116]\n",
            " [63.835782   46.43374485]\n",
            " [17.18995387  8.30847404]\n",
            " [87.90239868 62.7768122 ]\n",
            " [ 8.52600127 70.24334727]\n",
            " [71.68411724 94.92950779]\n",
            " [35.50164043 79.10603975]\n",
            " [45.44703851 20.69477295]]\n"
          ]
        }
      ],
      "source": [
        "# Sampling for the full grid combined\n",
        "import numpy as np\n",
        "import matplotlib.pyplot as plt\n",
        "from sklearn.cluster import KMeans\n",
        "\n",
        "%cd /content/drive/MyDrive/shannon\n",
        "full_w = np.loadtxt('fw.txt') # This file contains weights for the full grid combined\n",
        "print(\"Shape of full weights are \" + str(full_w.shape))\n",
        "X1, X2 = np.meshgrid(np.arange(99), np.arange(99))\n",
        "long_X1 = np.reshape(X1,(len(X1)*len(X1),1)) # unsampled points to be put along x axis\n",
        "long_X2 = np.reshape(X2,(len(X2)*len(X2),1)) # unsampled points to be put along y axis\n",
        "X = np.hstack((long_X1, long_X2))\n",
        "print(\"Shape of data to be fitted is \" + str(X.shape))\n",
        "# We will now sample N_clusters_2d (=150) points out of 100 X 100 points\n",
        "kmeans_full = KMeans(n_clusters=N_clusters_2d).fit(X, sample_weight=full_w)\n",
        "plt.figure()\n",
        "plt.scatter(kmeans_full.cluster_centers_[:, 0], kmeans_full.cluster_centers_[:, 1])\n",
        "plt.xlim(0, 150)\n",
        "plt.ylim(0, 150)\n",
        "plt.show()\n",
        "print(\"Coordinates for centroids in full grid are \" + str(kmeans_full.cluster_centers_))"
      ]
    },
    {
      "cell_type": "markdown",
      "metadata": {
        "id": "zpTFVth7EJWh"
      },
      "source": [
        "# KD trees to find difference between both graphs"
      ]
    },
    {
      "cell_type": "code",
      "execution_count": null,
      "metadata": {
        "colab": {
          "base_uri": "https://localhost:8080/"
        },
        "id": "CHkneypb0Moh",
        "outputId": "1c156005-7e39-4ef3-9576-f3c85c7fa9e1"
      },
      "outputs": [
        {
          "name": "stdout",
          "output_type": "stream",
          "text": [
            "/content/drive/MyDrive/shannon/inputs\n"
          ]
        }
      ],
      "source": [
        "# Saving the clustered points in a file in the directory mentioned below\n",
        "%cd /content/drive/MyDrive/shannon/inputs/\n",
        "\n",
        "np.savetxt(\"sampledPoints_later.txt\", combinedCoords)\n",
        "np.savetxt(\"sampledPoints_initial.txt\", kmeans_full.cluster_centers_)"
      ]
    },
    {
      "cell_type": "code",
      "execution_count": null,
      "metadata": {
        "colab": {
          "base_uri": "https://localhost:8080/"
        },
        "id": "t7RQizBG_nYE",
        "outputId": "6e1e8452-4b40-4810-99bc-bdcbb4f687e3"
      },
      "outputs": [
        {
          "name": "stdout",
          "output_type": "stream",
          "text": [
            "/content/drive/MyDrive/shannon/analysis\n",
            "No. of bins considered: 14\n",
            "[0.4 0.8 1.2 1.6 2.  2.4 2.8 3.2 3.6 4.  4.4 4.8 5.2 5.6]\n",
            "[1, 5, 8, 10, 8, 15, 10, 22, 17, 11, 12, 9, 3, 2]\n",
            "<Figure size 640x480 with 0 Axes>\n",
            "<Figure size 640x480 with 1 Axes>\n",
            "No. of bins considered: 15\n",
            "[0.4 0.8 1.2 1.6 2.  2.4 2.8 3.2 3.6 4.  4.4 4.8 5.2 5.6 6. ]\n",
            "[2, 3, 7, 11, 8, 14, 20, 16, 16, 20, 12, 12, 6, 2, 1]\n",
            "<Figure size 640x480 with 0 Axes>\n",
            "<Figure size 640x480 with 1 Axes>\n"
          ]
        }
      ],
      "source": [
        "''' Run the previous cell before running this'''\n",
        "# KD trees to find difference between both graphs\n",
        "%cd /content/drive/MyDrive/shannon/analysis/\n",
        "!bash make.bash"
      ]
    },
    {
      "cell_type": "markdown",
      "source": [
        "# Comparing clustered points in n-dimensions using Gaussian overlap"
      ],
      "metadata": {
        "id": "M6jCHbb3aiME"
      }
    },
    {
      "cell_type": "markdown",
      "source": [
        "### Using Slider for sigma"
      ],
      "metadata": {
        "id": "_nnUEmJXuz0E"
      }
    },
    {
      "cell_type": "markdown",
      "source": [
        "Calling coordinate arrays data"
      ],
      "metadata": {
        "id": "7gmayuuTq2sJ"
      }
    },
    {
      "cell_type": "code",
      "source": [
        "# Renaming the variable that stores coordinates of cluster centers in both plots\n",
        "plot1_coords = combinedCoords # shape of this 2d array is (number of clusters, n)\n",
        "plot2_coords = kmeans_full.cluster_centers_ # shape of this is (number of clusters, n)\n",
        "# Code for variable names on the right need to be modified in above sections to \n",
        "# account for n dimensions\n",
        "\n",
        "n_dim = (plot1_coords.shape)[-1] # since plot1_coords.shape will be the tuple (number of clusters, n)\n",
        "print(\"Number of dimensions in clustered points is \" + str(n_dim))"
      ],
      "metadata": {
        "colab": {
          "base_uri": "https://localhost:8080/"
        },
        "id": "syzkngsRVXGp",
        "outputId": "4edf0136-a798-4c68-f357-8dca6a827c4b"
      },
      "execution_count": null,
      "outputs": [
        {
          "output_type": "stream",
          "name": "stdout",
          "text": [
            "Number of dimensions in clustered points is 2\n"
          ]
        }
      ]
    },
    {
      "cell_type": "markdown",
      "source": [
        "Now perform the overlap"
      ],
      "metadata": {
        "id": "W01H37-Lq532"
      }
    },
    {
      "cell_type": "code",
      "source": [
        "import numpy as np\n",
        "\n",
        "def sumGaussians(x, plot_coords, sigma): # x is a point in plot1\n",
        "                                         # plot_coords will be plot1_coords or plot2_coords\n",
        "                                         # sigma is width of Gaussian\n",
        "  beta = 1./(sigma * np.sqrt(2*np.pi)) # amplitude of gaussian\n",
        "\n",
        "  sum_Gauss = 0 # variable for summing up all the Gaussian function values of x\n",
        "  for n_ in range((plot_coords.shape)[0]): #(plot_coords.shape)[0] == number of clusters in plot\n",
        "    x_ = plot_coords[n_, :] # x_ is a point in plot\n",
        "    Gauss = beta * np.exp(-((x_ - x)**2)/(2. * sigma**2)) # array containing values of Gaussian\n",
        "                                                          # around x_i, at xi for each i\n",
        "    sum_Gauss += np.prod(Gauss) # product of exponentials for each dimension\n",
        "  return sum_Gauss"
      ],
      "metadata": {
        "id": "-PspoxUMcjrX"
      },
      "execution_count": null,
      "outputs": []
    },
    {
      "cell_type": "code",
      "source": [
        "# Calculating the inner product and using slider\n",
        "\n",
        "def update_result(sigma__):\n",
        "  \n",
        "  innerprod = 0 # This variable will store the final inner product\n",
        "  normalize1 = 0 # L2 norm of sum of Gaussians for x (a point in plot1) on first graph\n",
        "  normalize2 = 0 # L2 norm of sum of Gaussians for x (a point in plot1) on second graph\n",
        "  sigma = sigma__ # width of Gaussian\n",
        "\n",
        "  for n in range((plot1_coords.shape)[0]): # n-th row in plot1_coords\n",
        "    x = plot1_coords[n, :] # x a point in plot1\n",
        "    innerprod += ( sumGaussians(x=x, plot_coords=plot1_coords, sigma=sigma) * \n",
        "                  (sumGaussians(x=x, plot_coords=plot2_coords, sigma=sigma)) )\n",
        "\n",
        "    normalize1 += sumGaussians(x=x, plot_coords=plot1_coords, sigma=sigma)**2\n",
        "    normalize2 += sumGaussians(x=x, plot_coords=plot2_coords, sigma=sigma)**2\n",
        "\n",
        "  # innerprod is unnormalized as of now\n",
        "  normalize1 = np.sqrt(normalize1)\n",
        "  normalize2 = np.sqrt(normalize2)\n",
        "  normalize = normalize1 * normalize2 # dividing innerprod with normalize will lead to normalized innerprod\n",
        "\n",
        "  innerprod /= normalize\n",
        "  print(\"Inner product of both plots is \" + str(innerprod))\n",
        "\n",
        "import ipywidgets as wig\n",
        "from IPython.display import display\n",
        "layout = wig.Layout(width='1000px')\n",
        "# sigma_ = wig.FloatSlider(description = \"sigma\", value = 2.01, min = 0.01, max = 40., step = 0.01,\n",
        "#                         layout = layout) # sigma is unrelated to gridsize here\n",
        "\n",
        "gridsize = 2 # Taking gridsize = 2 Angstrom\n",
        "sigma_ = wig.FloatSlider(description = \"sigma\", value = 0.1*gridsize, min = 0.01*gridsize,\n",
        "                         max = 1.0*gridsize, step = 0.01*gridsize, layout = layout) # relating sigma to gridsize\n",
        "wig.interact(update_result, sigma__=sigma_) # Note that for very large value of sigma (which should not be taken) \n",
        "                                            # we are getting less overlap obviously"
      ],
      "metadata": {
        "colab": {
          "base_uri": "https://localhost:8080/",
          "height": 82,
          "referenced_widgets": [
            "0d2c39dba8ca4c2f8e6558a90f936b3d",
            "08b808d9d80d49dfb5c1791fa73fd972",
            "8d26c6fadf414dd08736990919c96225",
            "ffa0a5f7da67449da2f3b2bfab694383",
            "6c03a559d82c46d0919b1d861adfbd6d",
            "5904f7304e394ada81de8b4913c5a1e2",
            "fff401e8ff7f404e9e0c234aaba59a18"
          ]
        },
        "id": "NABnOAxVTvQC",
        "outputId": "0bb44668-68eb-4ade-ea1e-0bf90d735c61"
      },
      "execution_count": null,
      "outputs": [
        {
          "output_type": "display_data",
          "data": {
            "text/plain": [
              "interactive(children=(FloatSlider(value=0.2, description='sigma', layout=Layout(width='1000px'), max=2.0, min=…"
            ],
            "application/vnd.jupyter.widget-view+json": {
              "version_major": 2,
              "version_minor": 0,
              "model_id": "0d2c39dba8ca4c2f8e6558a90f936b3d"
            }
          },
          "metadata": {}
        },
        {
          "output_type": "execute_result",
          "data": {
            "text/plain": [
              "<function __main__.update_result>"
            ]
          },
          "metadata": {},
          "execution_count": 17
        }
      ]
    },
    {
      "cell_type": "markdown",
      "source": [
        "### By finding optimal sigma"
      ],
      "metadata": {
        "id": "frJ4Iciz__RG"
      }
    },
    {
      "cell_type": "markdown",
      "source": [
        "Calling coordinate arrays data"
      ],
      "metadata": {
        "id": "c924-QhSvEbi"
      }
    },
    {
      "cell_type": "code",
      "source": [
        "# Renaming the variable that stores coordinates of cluster centers in both plots\n",
        "plot1_coords = combinedCoords # shape of this 2d array is (number of clusters, n)\n",
        "plot2_coords = kmeans_full.cluster_centers_ # shape of this is (number of clusters, n)\n",
        "# Code for variable names on the right need to be modified in above sections to \n",
        "# account for n dimensions\n",
        "\n",
        "n_dim = (plot1_coords.shape)[-1] # since plot1_coords.shape will be the tuple (number of clusters, n)\n",
        "print(\"Number of dimensions in clustered points is \" + str(n_dim))"
      ],
      "metadata": {
        "colab": {
          "base_uri": "https://localhost:8080/"
        },
        "id": "XvtGkF1AuqqO",
        "outputId": "39cab1a5-9f28-47ab-84d1-1c3423e3ecfc"
      },
      "execution_count": null,
      "outputs": [
        {
          "output_type": "stream",
          "name": "stdout",
          "text": [
            "Number of dimensions in clustered points is 2\n"
          ]
        }
      ]
    },
    {
      "cell_type": "markdown",
      "source": [
        "Finding optimal sigma"
      ],
      "metadata": {
        "id": "TEv3UNk4vNqu"
      }
    },
    {
      "cell_type": "code",
      "source": [
        "# Suppose the simplest case where points on plot are equally spaced. Then of spacing points of one layer along one \n",
        "# axis ~ unclustered number of points of one layer along that axis / number of clustered points along that axis in total\n",
        "gap = int(weight_x.shape[0])/np.sqrt(N_clusters_2d) # Approximate spacing between ponts of one layer along one axis\n",
        "print(\"Approximate spacing between ponts of one layer along one axis is \" + str(gap))\n",
        "\n",
        "# Let's say that we shall take sigma = gap. Now find p such that p% of the total number \n",
        "# of points, in a single plot, have neigbours at distance less than sigma.\n",
        "from scipy import spatial\n",
        "def find_p(sigma, coordinates_array): # coordinates_array contains the coordinates\n",
        "                                      # of each point along its rows\n",
        "  count = 0\n",
        "  tree = spatial.KDTree(coordinates_array)\n",
        "  for point_number in range(coordinates_array.shape[0]): # which point it is\n",
        "    point = coordinates_array[point_number, :]\n",
        "    count += len(set(tree.query_ball_point(point, sigma))) \n",
        "    count -= 1 # to exclude the count of zero distance of with itself\n",
        "  return (count / (coordinates_array.shape)[0]) * 100 # since we want p in percent"
      ],
      "metadata": {
        "id": "49kP0rSEWFvm",
        "colab": {
          "base_uri": "https://localhost:8080/"
        },
        "outputId": "48dd936b-e4f8-4dfb-e345-39efc01faccd"
      },
      "execution_count": null,
      "outputs": [
        {
          "output_type": "stream",
          "name": "stdout",
          "text": [
            "Approximate spacing between ponts of one layer along one axis is 8.083316151184487\n"
          ]
        }
      ]
    },
    {
      "cell_type": "code",
      "source": [
        "sigma = gap\n",
        "p = find_p(sigma=sigma, coordinates_array=plot2_coords) # choosing plot2 since it has more number of points\n",
        "\n",
        "while(p > 5): # p must be less than 5% for sigma to be finalized\n",
        "  sigma *= 0.90 # sigma = 90% * sigma\n",
        "  p = find_p(sigma=sigma, coordinates_array=plot2_coords) # choosing plot2 since it has more number of points\n",
        "  print(str(p) + \" % of points have neighbours at distance less than \" + str(sigma))\n",
        "print(\"Choosing sigma = \" + str(sigma))"
      ],
      "metadata": {
        "colab": {
          "base_uri": "https://localhost:8080/"
        },
        "id": "IHrs569GWQ8K",
        "outputId": "d96077bb-aa33-42a5-993a-20a104215a56"
      },
      "execution_count": null,
      "outputs": [
        {
          "output_type": "stream",
          "name": "stdout",
          "text": [
            "33.33333333333333 % of points have neighbours at distance less than 7.274984536066039\n",
            "5.333333333333334 % of points have neighbours at distance less than 6.547486082459435\n",
            "0.0 % of points have neighbours at distance less than 5.892737474213492\n",
            "Choosing sigma = 5.892737474213492\n"
          ]
        }
      ]
    },
    {
      "cell_type": "markdown",
      "source": [
        "Now perform the overlap"
      ],
      "metadata": {
        "id": "wRUx5VRhubZy"
      }
    },
    {
      "cell_type": "code",
      "source": [
        "import numpy as np\n",
        "\n",
        "def sumGaussians(x, plot_coords, sigma): # x is a point in plot1\n",
        "                                         # plot_coords will be plot1_coords or plot2_coords\n",
        "                                         # sigma is width of Gaussian\n",
        "  beta = 1./(sigma * np.sqrt(2*np.pi)) # amplitude of gaussian\n",
        "\n",
        "  sum_Gauss = 0 # variable for summing up all the Gaussian function values of x\n",
        "  for n_ in range((plot_coords.shape)[0]): #(plot_coords.shape)[0] == number of clusters in plot\n",
        "    x_ = plot_coords[n_, :] # x_ is a point in plot\n",
        "    Gauss = beta * np.exp(-((x_ - x)**2)/(2. * sigma**2)) # array containing values of Gaussian\n",
        "                                                          # around x_i, at xi for each i\n",
        "    sum_Gauss += np.prod(Gauss) # product of exponentials for each dimension\n",
        "  return sum_Gauss"
      ],
      "metadata": {
        "id": "FIM5l9e-fwyc"
      },
      "execution_count": null,
      "outputs": []
    },
    {
      "cell_type": "code",
      "source": [
        "# Calculating the inner product\n",
        "\n",
        "def update_result(sigma__):\n",
        "  \n",
        "  innerprod = 0 # This variable will store the final inner product\n",
        "  normalize1 = 0 # L2 norm of sum of Gaussians for x (a point in plot1) on first graph\n",
        "  normalize2 = 0 # L2 norm of sum of Gaussians for x (a point in plot1) on second graph\n",
        "  sigma = sigma__ # width of Gaussian\n",
        "\n",
        "  for n in range((plot1_coords.shape)[0]): # n-th row in plot1_coords\n",
        "    x = plot1_coords[n, :] # x a point in plot1\n",
        "    innerprod += ( sumGaussians(x=x, plot_coords=plot1_coords, sigma=sigma) * \n",
        "                  (sumGaussians(x=x, plot_coords=plot2_coords, sigma=sigma)) )\n",
        "\n",
        "    normalize1 += sumGaussians(x=x, plot_coords=plot1_coords, sigma=sigma)**2\n",
        "    normalize2 += sumGaussians(x=x, plot_coords=plot2_coords, sigma=sigma)**2\n",
        "\n",
        "  # innerprod is unnormalized as of now\n",
        "  normalize1 = np.sqrt(normalize1)\n",
        "  normalize2 = np.sqrt(normalize2)\n",
        "  normalize = normalize1 * normalize2 # dividing innerprod with normalize will lead to normalized innerprod\n",
        "\n",
        "  innerprod /= normalize\n",
        "  print(\"Inner product of both plots is \" + str(innerprod))\n",
        "\n",
        "update_result(sigma__=sigma)\n"
      ],
      "metadata": {
        "colab": {
          "base_uri": "https://localhost:8080/"
        },
        "id": "C0nexZwCumjP",
        "outputId": "c99fdaea-8a5f-4d1c-c8ee-bd943f93538b"
      },
      "execution_count": null,
      "outputs": [
        {
          "output_type": "stream",
          "name": "stdout",
          "text": [
            "Inner product of both plots is 0.9839914802485644\n"
          ]
        }
      ]
    },
    {
      "cell_type": "markdown",
      "source": [
        "### Choice of sigma depending only on gridsize"
      ],
      "metadata": {
        "id": "TcILfcn_pfhk"
      }
    },
    {
      "cell_type": "code",
      "source": [
        "''' By the way our gridsize is 1 Angstrom or 2 Angstrom.\n",
        " We need not do anything about that in the following code\n",
        "since we only need a fraction of x-axis and y-axis limits'''"
      ],
      "metadata": {
        "colab": {
          "base_uri": "https://localhost:8080/",
          "height": 50
        },
        "id": "HxWfBc-hOvDQ",
        "outputId": "bd6f95cf-ba87-4f83-b36f-a5a6eeee2032"
      },
      "execution_count": null,
      "outputs": [
        {
          "output_type": "execute_result",
          "data": {
            "text/plain": [
              "' By the way our gridsize is 1 Angstrom or 2 Angstrom.\\n We need not do anything about that in the following code\\nsince we only need a fraction of x-axis and y-axis limits'"
            ],
            "application/vnd.google.colaboratory.intrinsic+json": {
              "type": "string"
            }
          },
          "metadata": {},
          "execution_count": 8
        }
      ]
    },
    {
      "cell_type": "markdown",
      "source": [
        "Calling coordinate arrays data"
      ],
      "metadata": {
        "id": "V3vnUINDp-Ug"
      }
    },
    {
      "cell_type": "code",
      "source": [
        "# Renaming the variable that stores coordinates of cluster centers in both plots\n",
        "plot1_coords = combinedCoords # shape of this 2d array is (number of clusters, n)\n",
        "plot2_coords = kmeans_full.cluster_centers_ # shape of this is (number of clusters, n)\n",
        "# Code for variable names on the right need to be modified in above sections to \n",
        "# account for n dimensions\n",
        "\n",
        "n_dim = (plot1_coords.shape)[-1] # since plot1_coords.shape will be the tuple (number of clusters, n)\n",
        "print(\"Number of dimensions in clustered points is \" + str(n_dim))"
      ],
      "metadata": {
        "id": "eCOpLibxwWQl",
        "colab": {
          "base_uri": "https://localhost:8080/"
        },
        "outputId": "6e916422-c1a9-4e51-d589-90a4b4293991"
      },
      "execution_count": null,
      "outputs": [
        {
          "output_type": "stream",
          "name": "stdout",
          "text": [
            "Number of dimensions in clustered points is 2\n"
          ]
        }
      ]
    },
    {
      "cell_type": "markdown",
      "source": [
        "Calculating limits of x and y axis. "
      ],
      "metadata": {
        "id": "08pvtbvoqGmN"
      }
    },
    {
      "cell_type": "code",
      "source": [
        "# Using plot2 to calculate limits since it has more points\n",
        "limitX = np.amax(plot2_coords[:, 0], axis=0) - np.amin(plot2_coords[:, 0], axis=0) # axis = 1 would give the entire column as output\n",
        "limitY = np.amax(plot2_coords[:, 1], axis=0) - np.amin(plot2_coords[:, 1], axis=0)\n",
        "#gridsize = np.min([limitX, limitY])\n",
        "gridsize = 100 # Keep gridsize a constant`\n",
        "print(\"Approximate gridsize is \" + str(gridsize))"
      ],
      "metadata": {
        "colab": {
          "base_uri": "https://localhost:8080/"
        },
        "id": "YBCRpYrTp1pc",
        "outputId": "c25be3ae-e8e4-451a-ab1d-c37f6f74a7f1"
      },
      "execution_count": null,
      "outputs": [
        {
          "output_type": "stream",
          "name": "stdout",
          "text": [
            "Approximate gridsize is 100\n"
          ]
        }
      ]
    },
    {
      "cell_type": "markdown",
      "source": [
        "Now perform the overlap"
      ],
      "metadata": {
        "id": "i-CZxOEbqLyj"
      }
    },
    {
      "cell_type": "code",
      "source": [
        "import numpy as np\n",
        "\n",
        "def sumGaussians(x, plot_coords, sigma): # x is a point in plot1\n",
        "                                         # plot_coords will be plot1_coords or plot2_coords\n",
        "                                         # sigma is width of Gaussian\n",
        "  beta = 1./(sigma * np.sqrt(2*np.pi)) # amplitude of gaussian\n",
        "\n",
        "  sum_Gauss = 0 # variable for summing up all the Gaussian function values of x\n",
        "  for n_ in range((plot_coords.shape)[0]): #(plot_coords.shape)[0] == number of clusters in plot\n",
        "    x_ = plot_coords[n_, :] # x_ is a point in plot\n",
        "    Gauss = beta * np.exp(-((x_ - x)**2)/(2. * sigma**2)) # array containing values of Gaussian\n",
        "                                                          # around x_i, at xi for each i\n",
        "    sum_Gauss += np.prod(Gauss) # product of exponentials for each dimension\n",
        "  return sum_Gauss"
      ],
      "metadata": {
        "id": "RGOeAIHeqO-8"
      },
      "execution_count": null,
      "outputs": []
    },
    {
      "cell_type": "code",
      "source": [
        "# Calculating the inner product and using slider\n",
        "\n",
        "def update_result(sigma__):\n",
        "  \n",
        "  innerprod = 0 # This variable will store the final inner product\n",
        "  normalize1 = 0 # L2 norm of sum of Gaussians for x (a point in plot1) on first graph\n",
        "  normalize2 = 0 # L2 norm of sum of Gaussians for x (a point in plot1) on second graph\n",
        "  sigma = sigma__ # width of Gaussian\n",
        "\n",
        "  for n in range((plot1_coords.shape)[0]): # n-th row in plot1_coords\n",
        "    x = plot1_coords[n, :] # x a point in plot1\n",
        "    innerprod += ( sumGaussians(x=x, plot_coords=plot1_coords, sigma=sigma) * \n",
        "                  (sumGaussians(x=x, plot_coords=plot2_coords, sigma=sigma)) )\n",
        "\n",
        "    normalize1 += sumGaussians(x=x, plot_coords=plot1_coords, sigma=sigma)**2\n",
        "    normalize2 += sumGaussians(x=x, plot_coords=plot2_coords, sigma=sigma)**2\n",
        "\n",
        "  # innerprod is unnormalized as of now\n",
        "  normalize1 = np.sqrt(normalize1)\n",
        "  normalize2 = np.sqrt(normalize2)\n",
        "  normalize = normalize1 * normalize2 # dividing innerprod with normalize will lead to normalized innerprod\n",
        "\n",
        "  innerprod /= normalize\n",
        "  print(\"Inner product of both plots is \" + str(innerprod))\n",
        "\n",
        "import ipywidgets as wig\n",
        "from IPython.display import display\n",
        "layout = wig.Layout(width='1000px')\n",
        "\n",
        "sigma_ = wig.FloatSlider(description = \"sigma\", value = 0.1*gridsize, min = 0.01*gridsize,\n",
        "                         max = 0.2*gridsize, step = 0.01, layout = layout) # relating sigma to gridsize\n",
        "wig.interact(update_result, sigma__=sigma_) # Note that for very large value of sigma (which should not be taken) \n",
        "                                            # we are getting less overlap obviously"
      ],
      "metadata": {
        "colab": {
          "base_uri": "https://localhost:8080/",
          "height": 82,
          "referenced_widgets": [
            "966d553795174aeea407fa2e7ab81f5a",
            "1d8cfc1abe0847c781b5332e22b5f41d",
            "318810f1dc7c4954b2654a01a00d4f07",
            "a3de80b83ff14fb18fa94f664848ca7e",
            "7387dbcd223c49eda25da3ec8b9caddf",
            "47fc5d20e5df44eab300011740c0ab6a",
            "38b646296378443590ee6979ce319a72"
          ]
        },
        "id": "jhx_ZGaXqYPg",
        "outputId": "22e6355d-f66f-43cb-d282-b260e2c5603c"
      },
      "execution_count": null,
      "outputs": [
        {
          "output_type": "display_data",
          "data": {
            "text/plain": [
              "interactive(children=(FloatSlider(value=10.0, description='sigma', layout=Layout(width='1000px'), max=20.0, mi…"
            ],
            "application/vnd.jupyter.widget-view+json": {
              "version_major": 2,
              "version_minor": 0,
              "model_id": "966d553795174aeea407fa2e7ab81f5a"
            }
          },
          "metadata": {}
        },
        {
          "output_type": "execute_result",
          "data": {
            "text/plain": [
              "<function __main__.update_result>"
            ]
          },
          "metadata": {},
          "execution_count": 12
        }
      ]
    },
    {
      "cell_type": "markdown",
      "source": [
        "# Plotting the Gaussians on 1D plot of 99 points sigma = 2% of gridsize. Use this plot to decide what sigma to use"
      ],
      "metadata": {
        "id": "FEfkcrQN6o5-"
      }
    },
    {
      "cell_type": "code",
      "source": [
        "gap = int(weight_x.shape[0])/np.sqrt(N_clusters_2d) # Approximate spacing between clustered ponts of one layer along one axis\n",
        "print(\"Approximate spacing between clustered ponts of one layer along one axis is \" + str(gap))\n",
        "print(\"Spacing between points of unclustered grid is 1 by default\")"
      ],
      "metadata": {
        "id": "3K3xzKGPBGXv",
        "outputId": "e4e557d8-484e-47b2-f04c-fbc55c72f0a6",
        "colab": {
          "base_uri": "https://localhost:8080/"
        }
      },
      "execution_count": null,
      "outputs": [
        {
          "output_type": "stream",
          "name": "stdout",
          "text": [
            "Approximate spacing between clustered ponts of one layer along one axis is 8.083316151184487\n",
            "Spacing between points of unclustered grid is 1 by default\n"
          ]
        }
      ]
    },
    {
      "cell_type": "code",
      "source": [
        "import matplotlib.pyplot as plt\n",
        "\n",
        "x = np.arange(-1, int(gridsize))\n",
        "\n",
        "sigma = 0.02 * gridsize\n",
        "print(\"sigma = \" + str(sigma))\n",
        "beta = 1./(sigma * np.sqrt(2*np.pi)) # amplitude of gaussian\n",
        "\n",
        "fx = beta * np.exp(-((x - 0.)**2)/(2. * sigma**2))\n",
        "plt.scatter(x, fx, s=5)\n",
        "#plt.xlim(-1, 5)\n",
        "#plt.ylim(0, 0.5)\n",
        "plt.show()"
      ],
      "metadata": {
        "colab": {
          "base_uri": "https://localhost:8080/",
          "height": 281
        },
        "id": "kP0wJwcAPxL6",
        "outputId": "ee832da1-833f-41ca-8693-a8489938b91b"
      },
      "execution_count": null,
      "outputs": [
        {
          "output_type": "stream",
          "name": "stdout",
          "text": [
            "sigma = 2.0\n"
          ]
        },
        {
          "output_type": "display_data",
          "data": {
            "text/plain": [
              "<Figure size 432x288 with 1 Axes>"
            ],
            "image/png": "[encoded data removed]"
          },
          "metadata": {
            "needs_background": "light"
          }
        }
      ]
    },
    {
      "cell_type": "code",
      "source": [
        ""
      ],
      "metadata": {
        "id": "rhfK64qf8dnw"
      },
      "execution_count": null,
      "outputs": []
    }
  ],
  "metadata": {
    "colab": {
      "collapsed_sections": [
        "uq5159tO9N1n",
        "oLFhtNa9P4CB",
        "3qTIVxj_LrGO",
        "VZZeCXWXLv-c",
        "XgtySNLO5x0W",
        "oElaRMuBn6kT",
        "zpTFVth7EJWh",
        "_nnUEmJXuz0E",
        "frJ4Iciz__RG"
      ],
      "name": "Shannon entropy sampling.ipynb",
      "provenance": []
    },
    "kernelspec": {
      "display_name": "Python 3",
      "name": "python3"
    },
    "language_info": {
      "name": "python"
    },
    "widgets": {
      "application/vnd.jupyter.widget-state+json": {
        "0d2c39dba8ca4c2f8e6558a90f936b3d": {
          "model_module": "@jupyter-widgets/controls",
          "model_name": "VBoxModel",
          "model_module_version": "1.5.0",
          "state": {
            "_dom_classes": [
              "widget-interact"
            ],
            "_model_module": "@jupyter-widgets/controls",
            "_model_module_version": "1.5.0",
            "_model_name": "VBoxModel",
            "_view_count": null,
            "_view_module": "@jupyter-widgets/controls",
            "_view_module_version": "1.5.0",
            "_view_name": "VBoxView",
            "box_style": "",
            "children": [
              "IPY_MODEL_08b808d9d80d49dfb5c1791fa73fd972",
              "IPY_MODEL_8d26c6fadf414dd08736990919c96225"
            ],
            "layout": "IPY_MODEL_ffa0a5f7da67449da2f3b2bfab694383"
          }
        },
        "08b808d9d80d49dfb5c1791fa73fd972": {
          "model_module": "@jupyter-widgets/controls",
          "model_name": "FloatSliderModel",
          "model_module_version": "1.5.0",
          "state": {
            "_dom_classes": [],
            "_model_module": "@jupyter-widgets/controls",
            "_model_module_version": "1.5.0",
            "_model_name": "FloatSliderModel",
            "_view_count": null,
            "_view_module": "@jupyter-widgets/controls",
            "_view_module_version": "1.5.0",
            "_view_name": "FloatSliderView",
            "continuous_update": true,
            "description": "sigma",
            "description_tooltip": null,
            "disabled": false,
            "layout": "IPY_MODEL_6c03a559d82c46d0919b1d861adfbd6d",
            "max": 2,
            "min": 0.02,
            "orientation": "horizontal",
            "readout": true,
            "readout_format": ".2f",
            "step": 0.02,
            "style": "IPY_MODEL_5904f7304e394ada81de8b4913c5a1e2",
            "value": 2
          }
        },
        "8d26c6fadf414dd08736990919c96225": {
          "model_module": "@jupyter-widgets/output",
          "model_name": "OutputModel",
          "model_module_version": "1.0.0",
          "state": {
            "_dom_classes": [],
            "_model_module": "@jupyter-widgets/output",
            "_model_module_version": "1.0.0",
            "_model_name": "OutputModel",
            "_view_count": null,
            "_view_module": "@jupyter-widgets/output",
            "_view_module_version": "1.0.0",
            "_view_name": "OutputView",
            "layout": "IPY_MODEL_fff401e8ff7f404e9e0c234aaba59a18",
            "msg_id": "",
            "outputs": [
              {
                "output_type": "stream",
                "name": "stdout",
                "text": [
                  "Inner product of both plots is 0.8369548723479285\n"
                ]
              }
            ]
          }
        },
        "ffa0a5f7da67449da2f3b2bfab694383": {
          "model_module": "@jupyter-widgets/base",
          "model_name": "LayoutModel",
          "model_module_version": "1.2.0",
          "state": {
            "_model_module": "@jupyter-widgets/base",
            "_model_module_version": "1.2.0",
            "_model_name": "LayoutModel",
            "_view_count": null,
            "_view_module": "@jupyter-widgets/base",
            "_view_module_version": "1.2.0",
            "_view_name": "LayoutView",
            "align_content": null,
            "align_items": null,
            "align_self": null,
            "border": null,
            "bottom": null,
            "display": null,
            "flex": null,
            "flex_flow": null,
            "grid_area": null,
            "grid_auto_columns": null,
            "grid_auto_flow": null,
            "grid_auto_rows": null,
            "grid_column": null,
            "grid_gap": null,
            "grid_row": null,
            "grid_template_areas": null,
            "grid_template_columns": null,
            "grid_template_rows": null,
            "height": null,
            "justify_content": null,
            "justify_items": null,
            "left": null,
            "margin": null,
            "max_height": null,
            "max_width": null,
            "min_height": null,
            "min_width": null,
            "object_fit": null,
            "object_position": null,
            "order": null,
            "overflow": null,
            "overflow_x": null,
            "overflow_y": null,
            "padding": null,
            "right": null,
            "top": null,
            "visibility": null,
            "width": null
          }
        },
        "6c03a559d82c46d0919b1d861adfbd6d": {
          "model_module": "@jupyter-widgets/base",
          "model_name": "LayoutModel",
          "model_module_version": "1.2.0",
          "state": {
            "_model_module": "@jupyter-widgets/base",
            "_model_module_version": "1.2.0",
            "_model_name": "LayoutModel",
            "_view_count": null,
            "_view_module": "@jupyter-widgets/base",
            "_view_module_version": "1.2.0",
            "_view_name": "LayoutView",
            "align_content": null,
            "align_items": null,
            "align_self": null,
            "border": null,
            "bottom": null,
            "display": null,
            "flex": null,
            "flex_flow": null,
            "grid_area": null,
            "grid_auto_columns": null,
            "grid_auto_flow": null,
            "grid_auto_rows": null,
            "grid_column": null,
            "grid_gap": null,
            "grid_row": null,
            "grid_template_areas": null,
            "grid_template_columns": null,
            "grid_template_rows": null,
            "height": null,
            "justify_content": null,
            "justify_items": null,
            "left": null,
            "margin": null,
            "max_height": null,
            "max_width": null,
            "min_height": null,
            "min_width": null,
            "object_fit": null,
            "object_position": null,
            "order": null,
            "overflow": null,
            "overflow_x": null,
            "overflow_y": null,
            "padding": null,
            "right": null,
            "top": null,
            "visibility": null,
            "width": "1000px"
          }
        },
        "5904f7304e394ada81de8b4913c5a1e2": {
          "model_module": "@jupyter-widgets/controls",
          "model_name": "SliderStyleModel",
          "model_module_version": "1.5.0",
          "state": {
            "_model_module": "@jupyter-widgets/controls",
            "_model_module_version": "1.5.0",
            "_model_name": "SliderStyleModel",
            "_view_count": null,
            "_view_module": "@jupyter-widgets/base",
            "_view_module_version": "1.2.0",
            "_view_name": "StyleView",
            "description_width": "",
            "handle_color": null
          }
        },
        "fff401e8ff7f404e9e0c234aaba59a18": {
          "model_module": "@jupyter-widgets/base",
          "model_name": "LayoutModel",
          "model_module_version": "1.2.0",
          "state": {
            "_model_module": "@jupyter-widgets/base",
            "_model_module_version": "1.2.0",
            "_model_name": "LayoutModel",
            "_view_count": null,
            "_view_module": "@jupyter-widgets/base",
            "_view_module_version": "1.2.0",
            "_view_name": "LayoutView",
            "align_content": null,
            "align_items": null,
            "align_self": null,
            "border": null,
            "bottom": null,
            "display": null,
            "flex": null,
            "flex_flow": null,
            "grid_area": null,
            "grid_auto_columns": null,
            "grid_auto_flow": null,
            "grid_auto_rows": null,
            "grid_column": null,
            "grid_gap": null,
            "grid_row": null,
            "grid_template_areas": null,
            "grid_template_columns": null,
            "grid_template_rows": null,
            "height": null,
            "justify_content": null,
            "justify_items": null,
            "left": null,
            "margin": null,
            "max_height": null,
            "max_width": null,
            "min_height": null,
            "min_width": null,
            "object_fit": null,
            "object_position": null,
            "order": null,
            "overflow": null,
            "overflow_x": null,
            "overflow_y": null,
            "padding": null,
            "right": null,
            "top": null,
            "visibility": null,
            "width": null
          }
        },
        "966d553795174aeea407fa2e7ab81f5a": {
          "model_module": "@jupyter-widgets/controls",
          "model_name": "VBoxModel",
          "model_module_version": "1.5.0",
          "state": {
            "_dom_classes": [
              "widget-interact"
            ],
            "_model_module": "@jupyter-widgets/controls",
            "_model_module_version": "1.5.0",
            "_model_name": "VBoxModel",
            "_view_count": null,
            "_view_module": "@jupyter-widgets/controls",
            "_view_module_version": "1.5.0",
            "_view_name": "VBoxView",
            "box_style": "",
            "children": [
              "IPY_MODEL_1d8cfc1abe0847c781b5332e22b5f41d",
              "IPY_MODEL_318810f1dc7c4954b2654a01a00d4f07"
            ],
            "layout": "IPY_MODEL_a3de80b83ff14fb18fa94f664848ca7e"
          }
        },
        "1d8cfc1abe0847c781b5332e22b5f41d": {
          "model_module": "@jupyter-widgets/controls",
          "model_name": "FloatSliderModel",
          "model_module_version": "1.5.0",
          "state": {
            "_dom_classes": [],
            "_model_module": "@jupyter-widgets/controls",
            "_model_module_version": "1.5.0",
            "_model_name": "FloatSliderModel",
            "_view_count": null,
            "_view_module": "@jupyter-widgets/controls",
            "_view_module_version": "1.5.0",
            "_view_name": "FloatSliderView",
            "continuous_update": true,
            "description": "sigma",
            "description_tooltip": null,
            "disabled": false,
            "layout": "IPY_MODEL_7387dbcd223c49eda25da3ec8b9caddf",
            "max": 20,
            "min": 1,
            "orientation": "horizontal",
            "readout": true,
            "readout_format": ".2f",
            "step": 0.01,
            "style": "IPY_MODEL_47fc5d20e5df44eab300011740c0ab6a",
            "value": 10
          }
        },
        "318810f1dc7c4954b2654a01a00d4f07": {
          "model_module": "@jupyter-widgets/output",
          "model_name": "OutputModel",
          "model_module_version": "1.0.0",
          "state": {
            "_dom_classes": [],
            "_model_module": "@jupyter-widgets/output",
            "_model_module_version": "1.0.0",
            "_model_name": "OutputModel",
            "_view_count": null,
            "_view_module": "@jupyter-widgets/output",
            "_view_module_version": "1.0.0",
            "_view_name": "OutputView",
            "layout": "IPY_MODEL_38b646296378443590ee6979ce319a72",
            "msg_id": "",
            "outputs": [
              {
                "output_type": "stream",
                "name": "stdout",
                "text": [
                  "Inner product of both plots is 0.995059934900106\n"
                ]
              }
            ]
          }
        },
        "a3de80b83ff14fb18fa94f664848ca7e": {
          "model_module": "@jupyter-widgets/base",
          "model_name": "LayoutModel",
          "model_module_version": "1.2.0",
          "state": {
            "_model_module": "@jupyter-widgets/base",
            "_model_module_version": "1.2.0",
            "_model_name": "LayoutModel",
            "_view_count": null,
            "_view_module": "@jupyter-widgets/base",
            "_view_module_version": "1.2.0",
            "_view_name": "LayoutView",
            "align_content": null,
            "align_items": null,
            "align_self": null,
            "border": null,
            "bottom": null,
            "display": null,
            "flex": null,
            "flex_flow": null,
            "grid_area": null,
            "grid_auto_columns": null,
            "grid_auto_flow": null,
            "grid_auto_rows": null,
            "grid_column": null,
            "grid_gap": null,
            "grid_row": null,
            "grid_template_areas": null,
            "grid_template_columns": null,
            "grid_template_rows": null,
            "height": null,
            "justify_content": null,
            "justify_items": null,
            "left": null,
            "margin": null,
            "max_height": null,
            "max_width": null,
            "min_height": null,
            "min_width": null,
            "object_fit": null,
            "object_position": null,
            "order": null,
            "overflow": null,
            "overflow_x": null,
            "overflow_y": null,
            "padding": null,
            "right": null,
            "top": null,
            "visibility": null,
            "width": null
          }
        },
        "7387dbcd223c49eda25da3ec8b9caddf": {
          "model_module": "@jupyter-widgets/base",
          "model_name": "LayoutModel",
          "model_module_version": "1.2.0",
          "state": {
            "_model_module": "@jupyter-widgets/base",
            "_model_module_version": "1.2.0",
            "_model_name": "LayoutModel",
            "_view_count": null,
            "_view_module": "@jupyter-widgets/base",
            "_view_module_version": "1.2.0",
            "_view_name": "LayoutView",
            "align_content": null,
            "align_items": null,
            "align_self": null,
            "border": null,
            "bottom": null,
            "display": null,
            "flex": null,
            "flex_flow": null,
            "grid_area": null,
            "grid_auto_columns": null,
            "grid_auto_flow": null,
            "grid_auto_rows": null,
            "grid_column": null,
            "grid_gap": null,
            "grid_row": null,
            "grid_template_areas": null,
            "grid_template_columns": null,
            "grid_template_rows": null,
            "height": null,
            "justify_content": null,
            "justify_items": null,
            "left": null,
            "margin": null,
            "max_height": null,
            "max_width": null,
            "min_height": null,
            "min_width": null,
            "object_fit": null,
            "object_position": null,
            "order": null,
            "overflow": null,
            "overflow_x": null,
            "overflow_y": null,
            "padding": null,
            "right": null,
            "top": null,
            "visibility": null,
            "width": "1000px"
          }
        },
        "47fc5d20e5df44eab300011740c0ab6a": {
          "model_module": "@jupyter-widgets/controls",
          "model_name": "SliderStyleModel",
          "model_module_version": "1.5.0",
          "state": {
            "_model_module": "@jupyter-widgets/controls",
            "_model_module_version": "1.5.0",
            "_model_name": "SliderStyleModel",
            "_view_count": null,
            "_view_module": "@jupyter-widgets/base",
            "_view_module_version": "1.2.0",
            "_view_name": "StyleView",
            "description_width": "",
            "handle_color": null
          }
        },
        "38b646296378443590ee6979ce319a72": {
          "model_module": "@jupyter-widgets/base",
          "model_name": "LayoutModel",
          "model_module_version": "1.2.0",
          "state": {
            "_model_module": "@jupyter-widgets/base",
            "_model_module_version": "1.2.0",
            "_model_name": "LayoutModel",
            "_view_count": null,
            "_view_module": "@jupyter-widgets/base",
            "_view_module_version": "1.2.0",
            "_view_name": "LayoutView",
            "align_content": null,
            "align_items": null,
            "align_self": null,
            "border": null,
            "bottom": null,
            "display": null,
            "flex": null,
            "flex_flow": null,
            "grid_area": null,
            "grid_auto_columns": null,
            "grid_auto_flow": null,
            "grid_auto_rows": null,
            "grid_column": null,
            "grid_gap": null,
            "grid_row": null,
            "grid_template_areas": null,
            "grid_template_columns": null,
            "grid_template_rows": null,
            "height": null,
            "justify_content": null,
            "justify_items": null,
            "left": null,
            "margin": null,
            "max_height": null,
            "max_width": null,
            "min_height": null,
            "min_width": null,
            "object_fit": null,
            "object_position": null,
            "order": null,
            "overflow": null,
            "overflow_x": null,
            "overflow_y": null,
            "padding": null,
            "right": null,
            "top": null,
            "visibility": null,
            "width": null
          }
        }
      }
    }
  },
  "nbformat": 4,
  "nbformat_minor": 0
}